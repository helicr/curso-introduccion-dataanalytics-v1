{
 "cells": [
  {
   "cell_type": "code",
   "execution_count": 4,
   "metadata": {},
   "outputs": [],
   "source": [
    "nombre <- c(\"Juan\", \"Pablo\", \"Irene\", \"Paco\")\n",
    "apellido <- c(\"Perez\", \"Garcia\", \"Diaz\", \"Sanchez\")\n",
    "fecha_nac <- c(\"1975-03-07\", \"1978-05-10\", \"1985-11-30\", \"1960-01-13\")\n",
    "sexo <- c(\"H\", \"M\", \"H\", \"H\")\n",
    "nro_hijos <- c(4, 2, 3, 2)"
   ]
  },
  {
   "cell_type": "code",
   "execution_count": 5,
   "metadata": {},
   "outputs": [
    {
     "data": {
      "text/html": [
       "<table>\n",
       "<thead><tr><th scope=col>nombre</th><th scope=col>apellido</th><th scope=col>fecha_nac</th><th scope=col>sexo</th><th scope=col>nro_hijos</th></tr></thead>\n",
       "<tbody>\n",
       "\t<tr><td>Juan      </td><td>Perez     </td><td>1975-03-07</td><td>H         </td><td>4         </td></tr>\n",
       "\t<tr><td>Pablo     </td><td>Garcia    </td><td>1978-05-10</td><td>M         </td><td>2         </td></tr>\n",
       "\t<tr><td>Irene     </td><td>Diaz      </td><td>1985-11-30</td><td>H         </td><td>3         </td></tr>\n",
       "\t<tr><td>Paco      </td><td>Sanchez   </td><td>1960-01-13</td><td>H         </td><td>2         </td></tr>\n",
       "</tbody>\n",
       "</table>\n"
      ],
      "text/latex": [
       "\\begin{tabular}{r|lllll}\n",
       " nombre & apellido & fecha\\_nac & sexo & nro\\_hijos\\\\\n",
       "\\hline\n",
       "\t Juan       & Perez      & 1975-03-07 & H          & 4         \\\\\n",
       "\t Pablo      & Garcia     & 1978-05-10 & M          & 2         \\\\\n",
       "\t Irene      & Diaz       & 1985-11-30 & H          & 3         \\\\\n",
       "\t Paco       & Sanchez    & 1960-01-13 & H          & 2         \\\\\n",
       "\\end{tabular}\n"
      ],
      "text/markdown": [
       "\n",
       "nombre | apellido | fecha_nac | sexo | nro_hijos | \n",
       "|---|---|---|---|\n",
       "| Juan       | Perez      | 1975-03-07 | H          | 4          | \n",
       "| Pablo      | Garcia     | 1978-05-10 | M          | 2          | \n",
       "| Irene      | Diaz       | 1985-11-30 | H          | 3          | \n",
       "| Paco       | Sanchez    | 1960-01-13 | H          | 2          | \n",
       "\n",
       "\n"
      ],
      "text/plain": [
       "  nombre apellido fecha_nac  sexo nro_hijos\n",
       "1 Juan   Perez    1975-03-07 H    4        \n",
       "2 Pablo  Garcia   1978-05-10 M    2        \n",
       "3 Irene  Diaz     1985-11-30 H    3        \n",
       "4 Paco   Sanchez  1960-01-13 H    2        "
      ]
     },
     "metadata": {},
     "output_type": "display_data"
    }
   ],
   "source": [
    "censo <- data.frame(nombre, apellido, fecha_nac, sexo, nro_hijos)\n",
    "censo"
   ]
  },
  {
   "cell_type": "code",
   "execution_count": null,
   "metadata": {},
   "outputs": [],
   "source": []
  }
 ],
 "metadata": {
  "kernelspec": {
   "display_name": "R",
   "language": "R",
   "name": "ir"
  },
  "language_info": {
   "codemirror_mode": "r",
   "file_extension": ".r",
   "mimetype": "text/x-r-source",
   "name": "R",
   "pygments_lexer": "r",
   "version": "3.4.3"
  }
 },
 "nbformat": 4,
 "nbformat_minor": 4
}
