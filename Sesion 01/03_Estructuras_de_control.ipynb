{
 "cells": [
  {
   "cell_type": "markdown",
   "metadata": {},
   "source": [
    "# Introducción a Python"
   ]
  },
  {
   "cell_type": "markdown",
   "metadata": {},
   "source": [
    "## Table of contents\n",
    "1. [Estructuras de decisión y control](#Estructuras-de-decisión-y-control)\n",
    "    1. [Sentencias condicionales](#Sentencias-condicionales)\n",
    "    2. [Bucles](#Bucles)\n",
    "    \n",
    "2. [Ejercicios](#Ejercicios)\n",
    "    1. [Ejercicio 1](#Ejercicio-1)\n",
    "    2. [Ejercicio 2](#Ejercicio-2)\n",
    "    3. [Ejercicio 3](#Ejercicio-3)\n",
    "    4. [Ejercicio 4](#Ejercicio-4)\n",
    "    5. [Ejercicio 5](#Ejercicio-5)\n",
    "    6. [Ejercicio 6](#Ejercicio-6)\n",
    "    7. [Ejercicio 7](#Ejercicio-7)\n",
    "    8. [Ejercicio 8](#Ejercicio-8)"
   ]
  },
  {
   "cell_type": "markdown",
   "metadata": {},
   "source": [
    "---\n",
    "\n",
    "## Estructuras de decisión y control"
   ]
  },
  {
   "cell_type": "markdown",
   "metadata": {},
   "source": [
    "### Sentencias condicionales"
   ]
  },
  {
   "cell_type": "markdown",
   "metadata": {},
   "source": [
    "En Python existen las sentencias condicionales `if`, `else`, `elif` (if else).\n",
    "\n",
    "```python\n",
    "if [condicion 1]:\n",
    "    ...\n",
    "elif [condicion 2]:\n",
    "    ...\n",
    "else:\n",
    "    ...\n",
    "```"
   ]
  },
  {
   "cell_type": "code",
   "execution_count": null,
   "metadata": {},
   "outputs": [],
   "source": [
    "edad = 30\n",
    "if edad >= 18:\n",
    "    print(\"estoy dentro del if\")\n",
    "    print(\"sigo dentro del if\")\n",
    "    print(\"sigo dentro del if\")\n",
    "print('estoy fuera del if')"
   ]
  },
  {
   "cell_type": "code",
   "execution_count": null,
   "metadata": {},
   "outputs": [],
   "source": [
    "edad = 34\n",
    "\n",
    "if edad >= 18:\n",
    "    print(\"Mayor de edad\")\n",
    "    print(\"estoy dentro del if\")\n",
    "elif edad >= 0 and edad < 18:\n",
    "    print(\"Menor de edad\")\n",
    "else:\n",
    "    print(\"No es una edad\")\n"
   ]
  },
  {
   "cell_type": "markdown",
   "metadata": {},
   "source": [
    "La condición `if-then-else` también se puede escribir como una operación ternaria en una linea:\n",
    "\n",
    "```python\n",
    "var = valor1 if [condicion] else valor2\n",
    "```"
   ]
  },
  {
   "cell_type": "code",
   "execution_count": null,
   "metadata": {},
   "outputs": [],
   "source": [
    "edad = 23"
   ]
  },
  {
   "cell_type": "code",
   "execution_count": 7,
   "metadata": {},
   "outputs": [
    {
     "data": {
      "text/plain": [
       "True"
      ]
     },
     "execution_count": 7,
     "metadata": {},
     "output_type": "execute_result"
    }
   ],
   "source": [
    "var = True if edad >= 18 else False\n",
    "var"
   ]
  },
  {
   "cell_type": "markdown",
   "metadata": {},
   "source": [
    "###  Bucles"
   ]
  },
  {
   "cell_type": "markdown",
   "metadata": {},
   "source": [
    "Un bucle `while` se construye:\n",
    "\n",
    "```python\n",
    "while [condicion]:\n",
    "    ...\n",
    "```"
   ]
  },
  {
   "cell_type": "markdown",
   "metadata": {},
   "source": [
    "<div class=\"alert alert-warning\">Es posible que en el proceso de aprendizaje ejecutemos inadvertidamente un _bucle infinito_. Si el bucle no imprime nada por pantalla, bastará con detener la celda (`Kernel -> Interrupt` o `Restart`). Si se imprime contenido por pantalla, es posible que el navegador se quede sin memoria y que haya que matar el proceso utilizando el Administrador de Tareas.</div>"
   ]
  },
  {
   "cell_type": "code",
   "execution_count": 8,
   "metadata": {},
   "outputs": [
    {
     "name": "stdout",
     "output_type": "stream",
     "text": [
      "0\n",
      "1\n",
      "2\n"
     ]
    }
   ],
   "source": [
    "i = 0\n",
    "while i < 3:\n",
    "    print(i)\n",
    "    i += 1"
   ]
  },
  {
   "cell_type": "markdown",
   "metadata": {},
   "source": [
    "Un bucle `for` se define como:\n",
    "\n",
    "```python\n",
    "for [iterator]:\n",
    "    ...\n",
    "```"
   ]
  },
  {
   "cell_type": "code",
   "execution_count": 9,
   "metadata": {},
   "outputs": [
    {
     "name": "stdout",
     "output_type": "stream",
     "text": [
      "Hola! 0\n",
      "Hola! 1\n",
      "Hola! 2\n",
      "Hola! 3\n",
      "Hola! 4\n",
      "Hola! 5\n",
      "Hola! 6\n",
      "Hola! 7\n",
      "Hola! 8\n",
      "Hola! 9\n"
     ]
    }
   ],
   "source": [
    "for x in range(10):\n",
    "    print('Hola!', x)"
   ]
  },
  {
   "cell_type": "code",
   "execution_count": 10,
   "metadata": {},
   "outputs": [
    {
     "name": "stdout",
     "output_type": "stream",
     "text": [
      "0 h\n",
      "1 o\n",
      "2 l\n",
      "3 a\n",
      "4 a\n",
      "5 a\n",
      "6 a\n"
     ]
    }
   ],
   "source": [
    "for index, value in enumerate('holaaaa'):\n",
    "    print(index, value)\n"
   ]
  },
  {
   "cell_type": "code",
   "execution_count": null,
   "metadata": {},
   "outputs": [],
   "source": [
    "enumerate?"
   ]
  },
  {
   "cell_type": "code",
   "execution_count": null,
   "metadata": {},
   "outputs": [],
   "source": [
    "for i in range(1, 10):\n",
    "    for j in range(10, 12):\n",
    "        print(i, j)"
   ]
  },
  {
   "cell_type": "markdown",
   "metadata": {},
   "source": [
    "## Ejercicios"
   ]
  },
  {
   "cell_type": "markdown",
   "metadata": {},
   "source": [
    "### Ejercicio 1\n",
    "\n",
    "Escribe código que solicite por pantalla la longitud de los lados del triángulo, y luego imprima si es equilatero, escaleno o isósceles. "
   ]
  },
  {
   "cell_type": "code",
   "execution_count": 12,
   "metadata": {},
   "outputs": [
    {
     "name": "stdout",
     "output_type": "stream",
     "text": [
      "Dime la longitud del lado 110\n",
      "Dime la longitud del lado 210\n",
      "Dime la longitud del lado 310\n",
      "Equilatero\n"
     ]
    }
   ],
   "source": [
    "var = input (\"Dime la longitud del lado 1\")\n",
    "var1 = input (\"Dime la longitud del lado 2\")\n",
    "var2 = input (\"Dime la longitud del lado 3\")\n",
    "\n",
    "if var == var1 and var1 == var2 :\n",
    "    print (\"Equilatero\")\n",
    "elif var != var1 and var1 != var2 and var != var2 :\n",
    "    print (\"Escaleno\")\n",
    "else:\n",
    "    print (\"Isósceles\")"
   ]
  },
  {
   "cell_type": "markdown",
   "metadata": {},
   "source": [
    "### Ejercicio 2"
   ]
  },
  {
   "cell_type": "markdown",
   "metadata": {},
   "source": [
    "Solicita un entero por pantalla y que se muestre todos sus divisores positivos. Recordar que un divisor es aquel que divide al número de forma exacta (con resto 0)."
   ]
  },
  {
   "cell_type": "code",
   "execution_count": 2,
   "metadata": {},
   "outputs": [
    {
     "name": "stdout",
     "output_type": "stream",
     "text": [
      "Número:5\n",
      "Divisores:\n",
      "1\n",
      "5\n"
     ]
    }
   ],
   "source": [
    "numero=int(input(\"Número:\"))\n",
    "print(\"Divisores:\")\n",
    "for n in range(1,numero+1):\n",
    "    if numero%n == 0:\n",
    "        print(n)"
   ]
  },
  {
   "cell_type": "markdown",
   "metadata": {},
   "source": [
    "### Ejercicio 3\n",
    "\n",
    "Escribe un programa que, solicite por pantalla un número entero, y que devuelva impreso por pantalla la tabla de multiplicar de dicho número del 1 al 10. \n",
    "\n",
    "Ejemplo: \n",
    "\n",
    "Input a number: 9\n",
    "- 9 x 1 = 9\n",
    "- 9 x 2 = 18\n",
    "- 9 x 3 = 27\n",
    "- 9 x 4 = 36\n",
    "- 9 x 5 = 45\n",
    "- 9 x 6 = 54\n",
    "- 9 x 7 = 63\n",
    "- 9 x 8 = 72\n",
    "- 9 x 9 = 81\n",
    "- 9 x 10 = 90"
   ]
  },
  {
   "cell_type": "code",
   "execution_count": 1,
   "metadata": {},
   "outputs": [
    {
     "name": "stdout",
     "output_type": "stream",
     "text": [
      "Numero entero que quieres multiplicar 5\n",
      "correcto\n",
      "tu numero es 5\n",
      "5 x 1 = 5\n",
      "5 x 2 = 10\n",
      "5 x 3 = 15\n",
      "5 x 4 = 20\n",
      "5 x 5 = 25\n",
      "5 x 6 = 30\n",
      "5 x 7 = 35\n",
      "5 x 8 = 40\n",
      "5 x 9 = 45\n",
      "5 x 10 = 50\n"
     ]
    }
   ],
   "source": [
    "var= input(\"Numero entero que quieres multiplicar \")\n",
    "if int(var) >=1 and int(var) <=10:\n",
    "    print (\"correcto\") \n",
    "    print (\"tu numero es \"+ var)\n",
    "    for x in range(1, 11):\n",
    "        print ( var + \" x \" + str(x) + \" = \" + str(int(var) * x))\n",
    "else:\n",
    "    print (\"incorrecto\")"
   ]
  },
  {
   "cell_type": "markdown",
   "metadata": {},
   "source": [
    "### Ejercicio 4\n",
    "\n",
    "Escribe código que solicite por pantalla tres números y devuelva la sumatoria de los 3, el minimo y el maximo"
   ]
  },
  {
   "cell_type": "code",
   "execution_count": 4,
   "metadata": {},
   "outputs": [
    {
     "name": "stdout",
     "output_type": "stream",
     "text": [
      "Primer número=3\n",
      "Segundo número=5\n",
      "Tercer número=6\n",
      "14 3 6\n"
     ]
    }
   ],
   "source": [
    "x = int(input('Primer número='))\n",
    "y = int(input('Segundo número='))\n",
    "z = int(input('Tercer número='))\n",
    "\n",
    "suma = x+y+z\n",
    "minimo = min(x, y, z)\n",
    "maximo = max(x, y, z)\n",
    "\n",
    "print (suma, minimo, maximo)\n"
   ]
  },
  {
   "cell_type": "markdown",
   "metadata": {},
   "source": [
    "### Ejercicio 5"
   ]
  },
  {
   "cell_type": "markdown",
   "metadata": {},
   "source": [
    "Escribe código tal que:\n",
    "1. Solicite un entero entre 0 y 9 por pantalla y lo guarde en una variable numero1\n",
    "2. Solciite otro entero entre 0 y 9 por pantalla, y lo guarde en una variable numero2\n",
    "3. Si el primer numero introducido es menor que el segundo, los intercambia (variable numero1 tendra al valor de variable numero2 y viceversa)\n",
    "4. Preguntar por pantalla cuanto es numero1 - numero?\n",
    "5. Hasta que la respuesta no sea correcta, seguir preguntando por pantalla la respuesta"
   ]
  },
  {
   "cell_type": "code",
   "execution_count": null,
   "metadata": {
    "collapsed": true,
    "jupyter": {
     "outputs_hidden": true
    }
   },
   "outputs": [],
   "source": [
    "# Respues"
   ]
  },
  {
   "cell_type": "markdown",
   "metadata": {},
   "source": [
    "### Ejercicio 6"
   ]
  },
  {
   "cell_type": "markdown",
   "metadata": {},
   "source": [
    "Solicita por pantalla la temperatura a convertir de Celsius a Fahrenheit. \n",
    "Imprime por pantalla la conversión a la otra unidad, sabiendo que la fórmula a usar es la siguiente:\n",
    "<img src=\"img/centigrade-to-fahrenheit.png\">"
   ]
  },
  {
   "cell_type": "code",
   "execution_count": 5,
   "metadata": {},
   "outputs": [
    {
     "name": "stdout",
     "output_type": "stream",
     "text": [
      "Ingresa la temperatura expresada en Celsius: 37\n",
      "37.00 Celsius es: 98.60 Fahrenheit\n"
     ]
    }
   ],
   "source": [
    "celsius = float(input(\"Ingresa la temperatura expresada en Celsius: \"))\n",
    "fahrenheit = (celsius * 9/5) + 32\n",
    "print('%.2f Celsius es: %0.2f Fahrenheit' %(celsius, fahrenheit))"
   ]
  }
 ],
 "metadata": {
  "anaconda-cloud": {},
  "kernelspec": {
   "display_name": "p_env_ml",
   "language": "python",
   "name": "env_ml"
  },
  "language_info": {
   "codemirror_mode": {
    "name": "ipython",
    "version": 3
   },
   "file_extension": ".py",
   "mimetype": "text/x-python",
   "name": "python",
   "nbconvert_exporter": "python",
   "pygments_lexer": "ipython3",
   "version": "3.7.9"
  },
  "toc": {
   "nav_menu": {
    "height": "386px",
    "width": "306px"
   },
   "number_sections": true,
   "sideBar": true,
   "skip_h1_title": false,
   "title_cell": "Table of Contents",
   "title_sidebar": "Contents",
   "toc_cell": true,
   "toc_position": {
    "height": "calc(100% - 180px)",
    "left": "10px",
    "top": "150px",
    "width": "337px"
   },
   "toc_section_display": true,
   "toc_window_display": true
  },
  "varInspector": {
   "cols": {
    "lenName": 16,
    "lenType": 16,
    "lenVar": 40
   },
   "kernels_config": {
    "python": {
     "delete_cmd_postfix": "",
     "delete_cmd_prefix": "del ",
     "library": "var_list.py",
     "varRefreshCmd": "print(var_dic_list())"
    },
    "r": {
     "delete_cmd_postfix": ") ",
     "delete_cmd_prefix": "rm(",
     "library": "var_list.r",
     "varRefreshCmd": "cat(var_dic_list()) "
    }
   },
   "types_to_exclude": [
    "module",
    "function",
    "builtin_function_or_method",
    "instance",
    "_Feature"
   ],
   "window_display": false
  }
 },
 "nbformat": 4,
 "nbformat_minor": 4
}
