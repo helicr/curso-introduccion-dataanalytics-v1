{
 "cells": [
  {
   "cell_type": "markdown",
   "metadata": {},
   "source": [
    "# Introducción a Python"
   ]
  },
  {
   "cell_type": "markdown",
   "metadata": {},
   "source": [
    "## Table of Contents\n",
    "1. [Funciones](#Funciones)\n",
    "\n",
    "2. [Ejercicios](#Ejercicios)\n",
    "    1. [Ejercicio 1](#Ejercicio-1)\n",
    "    2. [Ejercicio 2](#Ejercicio-2)\n",
    "    3. [Ejercicio 3](#Ejercicio-3)\n",
    "  "
   ]
  },
  {
   "cell_type": "markdown",
   "metadata": {},
   "source": [
    "---\n",
    "\n",
    "## Funciones\n",
    "\n",
    "Las funciones en Python, al igual que en el resto de lenguajes de programación, permiten reutilizar código. Una función podría considerarse como una variable que encierra un conjunto de instrucciones. Por lo tanto al llamar a una función lo que estamos haciendo es ordenar al programa para que ejecute un conjunto de instrucciones. Algunas características de las funciones en Python son:\n",
    "\n",
    "1. Se puede crear en cualquier momento del programa.\n",
    "2. Su palabra reservada es `def`.\n",
    "3. Seguido de `def` viene el nombre de la función y entre paréntesis los argumentos de entrada.\n",
    "4. No es obligatorio que la función devuelva un valor, aunque se puede usando la palabra reservada `return`.\n",
    "5. Las variables declaradas dentro de una función son locales a esa función.\n",
    "6. Para declarar una variable dentro de una función, pero poder acceder desde fuera de la función, ésta se puede declarar como global\n",
    "\n",
    "```python\n",
    "def nombre_funcion(args):\n",
    "    ...\n",
    "    ...\n",
    "    return ...\n",
    "```"
   ]
  },
  {
   "cell_type": "code",
   "execution_count": 2,
   "metadata": {},
   "outputs": [],
   "source": [
    "def por_pantalla():\n",
    "    print(\"Primera linea de la funcion\")\n",
    "    print(\"Segunda linea de la funcion\")"
   ]
  },
  {
   "cell_type": "code",
   "execution_count": 3,
   "metadata": {},
   "outputs": [
    {
     "name": "stdout",
     "output_type": "stream",
     "text": [
      "Primera linea de la funcion\n",
      "Segunda linea de la funcion\n"
     ]
    }
   ],
   "source": [
    "por_pantalla()"
   ]
  },
  {
   "cell_type": "code",
   "execution_count": 3,
   "metadata": {},
   "outputs": [
    {
     "name": "stdout",
     "output_type": "stream",
     "text": [
      "Primera linea de la funcion\n",
      "Segunda linea de la funcion\n"
     ]
    }
   ],
   "source": [
    "por_pantalla()"
   ]
  },
  {
   "cell_type": "code",
   "execution_count": 11,
   "metadata": {},
   "outputs": [],
   "source": [
    "def mayoria_edad(edad):\n",
    "    if edad >= 18:\n",
    "        resultado = True\n",
    "    else:\n",
    "        resultado = False\n",
    "    return resultado"
   ]
  },
  {
   "cell_type": "code",
   "execution_count": 12,
   "metadata": {},
   "outputs": [
    {
     "data": {
      "text/plain": [
       "True"
      ]
     },
     "execution_count": 12,
     "metadata": {},
     "output_type": "execute_result"
    }
   ],
   "source": [
    "mayoria_edad(18)"
   ]
  },
  {
   "cell_type": "code",
   "execution_count": 13,
   "metadata": {},
   "outputs": [],
   "source": [
    "res= mayoria_edad(18)"
   ]
  },
  {
   "cell_type": "code",
   "execution_count": 14,
   "metadata": {},
   "outputs": [
    {
     "data": {
      "text/plain": [
       "True"
      ]
     },
     "execution_count": 14,
     "metadata": {},
     "output_type": "execute_result"
    }
   ],
   "source": [
    "res"
   ]
  },
  {
   "cell_type": "code",
   "execution_count": 15,
   "metadata": {},
   "outputs": [],
   "source": [
    "def secuencia_lista(a):\n",
    "    res = list(range(a))\n",
    "    return res"
   ]
  },
  {
   "cell_type": "code",
   "execution_count": 16,
   "metadata": {},
   "outputs": [
    {
     "data": {
      "text/plain": [
       "[0, 1, 2, 3, 4, 5, 6, 7, 8, 9]"
      ]
     },
     "execution_count": 16,
     "metadata": {},
     "output_type": "execute_result"
    }
   ],
   "source": [
    "secuencia_lista(10)"
   ]
  },
  {
   "cell_type": "code",
   "execution_count": 17,
   "metadata": {},
   "outputs": [],
   "source": [
    "def secuencia_lista(a):\n",
    "    res = list(range(a))\n",
    "    return res, a"
   ]
  },
  {
   "cell_type": "code",
   "execution_count": 18,
   "metadata": {},
   "outputs": [],
   "source": [
    "out = secuencia_lista(5)"
   ]
  },
  {
   "cell_type": "code",
   "execution_count": 19,
   "metadata": {},
   "outputs": [],
   "source": [
    "sec, param = secuencia_lista(5)"
   ]
  },
  {
   "cell_type": "code",
   "execution_count": 20,
   "metadata": {},
   "outputs": [
    {
     "name": "stdout",
     "output_type": "stream",
     "text": [
      "[0, 1, 2, 3, 4]\n",
      "5\n"
     ]
    }
   ],
   "source": [
    "print(sec)\n",
    "print(param)"
   ]
  },
  {
   "cell_type": "markdown",
   "metadata": {},
   "source": [
    "## Ejercicios"
   ]
  },
  {
   "cell_type": "markdown",
   "metadata": {},
   "source": [
    "### Ejercicio 1\n",
    "\n",
    "Escribe código que solicite tres números por pantalla y que imprima el máximo de los 3 números. Para ello, define dos funciones. "
   ]
  },
  {
   "cell_type": "code",
   "execution_count": 32,
   "metadata": {
    "collapsed": true,
    "jupyter": {
     "outputs_hidden": true
    }
   },
   "outputs": [],
   "source": [
    "# Escribe tu solución aquí\n",
    "def maximo(n1,n2, n3):\n",
    "    maximo = max(n1, n2,n3)\n",
    "    print(\"El maximo de\",n1,n2,n3,\"es\",maximo)"
   ]
  },
  {
   "cell_type": "code",
   "execution_count": 33,
   "metadata": {},
   "outputs": [
    {
     "name": "stdout",
     "output_type": "stream",
     "text": [
      "El maximo de 5 23 7 es 23\n"
     ]
    }
   ],
   "source": [
    "maximo(5,23,7)"
   ]
  },
  {
   "cell_type": "code",
   "execution_count": 34,
   "metadata": {
    "collapsed": true,
    "jupyter": {
     "outputs_hidden": true
    }
   },
   "outputs": [],
   "source": [
    "def solicita_numeros():\n",
    "    n1 = int(input(\"Indique el numero 1: \"))\n",
    "    n2 = int(input(\"Indique el numero 2: \"))\n",
    "    n3 = int(input(\"Indique el numero 3: \"))\n",
    "    maximo(n1,n2,n3)"
   ]
  },
  {
   "cell_type": "code",
   "execution_count": 35,
   "metadata": {},
   "outputs": [
    {
     "name": "stdout",
     "output_type": "stream",
     "text": [
      "Indique el numero 1: 15\n",
      "Indique el numero 2: 24\n",
      "Indique el numero 3: 6\n",
      "El maximo de 15 24 6 es 24\n"
     ]
    }
   ],
   "source": [
    "solicita_numeros()"
   ]
  },
  {
   "cell_type": "markdown",
   "metadata": {},
   "source": [
    "### Ejercicio 2\n",
    "\n",
    "Escribe una función que acepta un string y calcula el número de mayúsculas y minúsculas que tiene."
   ]
  },
  {
   "cell_type": "code",
   "execution_count": 36,
   "metadata": {},
   "outputs": [
    {
     "name": "stdout",
     "output_type": "stream",
     "text": [
      "True\n",
      "False\n",
      "False\n",
      "False\n"
     ]
    }
   ],
   "source": [
    "for x in \"Casa\":\n",
    "    print(x.isupper())"
   ]
  },
  {
   "cell_type": "code",
   "execution_count": 40,
   "metadata": {},
   "outputs": [
    {
     "name": "stdout",
     "output_type": "stream",
     "text": [
      "El número de letras mayúsculas es :  3\n",
      "El número de letras minúsculas es :  4\n"
     ]
    }
   ],
   "source": [
    "def contar_letras(a):\n",
    "    texto=a\n",
    "    mayusculas=len([c for c in texto if c.isupper()])\n",
    "    minusculas=len([c for c in texto if c.islower()])\n",
    "    print (\"El número de letras mayúsculas es : \", mayusculas)\n",
    "    print (\"El número de letras minúsculas es : \", minusculas)\n",
    "    \n",
    "contar_letras('AAAbbbb')\n"
   ]
  },
  {
   "cell_type": "markdown",
   "metadata": {},
   "source": [
    "### Ejercicio 3\n",
    "Escribe una función que toma como argumento una lista y devuelve una nueva lista con elementos únicos de la primera lista."
   ]
  },
  {
   "cell_type": "code",
   "execution_count": 41,
   "metadata": {},
   "outputs": [
    {
     "data": {
      "text/plain": [
       "{1, 2, 3, 4, 5}"
      ]
     },
     "execution_count": 41,
     "metadata": {},
     "output_type": "execute_result"
    }
   ],
   "source": [
    "lista1 = [1,2,2,2,3,4,4,5,5,5,5]\n",
    "lista2= []\n",
    "\n",
    "set(lista1)"
   ]
  },
  {
   "cell_type": "code",
   "execution_count": 42,
   "metadata": {},
   "outputs": [
    {
     "data": {
      "text/plain": [
       "[1, 2, 3, 4, 5]"
      ]
     },
     "execution_count": 42,
     "metadata": {},
     "output_type": "execute_result"
    }
   ],
   "source": [
    "lista_unica = set(lista1)\n",
    "\n",
    "list(lista_unica)"
   ]
  },
  {
   "cell_type": "code",
   "execution_count": 48,
   "metadata": {
    "collapsed": true,
    "jupyter": {
     "outputs_hidden": true
    }
   },
   "outputs": [],
   "source": [
    "lista1 = [1,2,2,2,3,4,4,5,5,5,5]\n",
    "\n",
    "def unicos(lista_entrada):\n",
    "    unicos_set=set(list(lista_entrada))\n",
    "    unicos_lista = list(unicos_set)\n",
    "    return unicos_lista"
   ]
  },
  {
   "cell_type": "code",
   "execution_count": 49,
   "metadata": {},
   "outputs": [
    {
     "data": {
      "text/plain": [
       "[1, 2, 3, 4, 5]"
      ]
     },
     "execution_count": 49,
     "metadata": {},
     "output_type": "execute_result"
    }
   ],
   "source": [
    "unicos((1,2,2,2,3,4,4,5,5,5,5))"
   ]
  },
  {
   "cell_type": "code",
   "execution_count": 51,
   "metadata": {},
   "outputs": [
    {
     "data": {
      "text/plain": [
       "[1, 2, 3, 4, 5]"
      ]
     },
     "execution_count": 51,
     "metadata": {},
     "output_type": "execute_result"
    }
   ],
   "source": [
    "unicos((1,2,2,2,3,4,4,5,5,5,5))"
   ]
  },
  {
   "cell_type": "code",
   "execution_count": null,
   "metadata": {
    "collapsed": true,
    "jupyter": {
     "outputs_hidden": true
    }
   },
   "outputs": [],
   "source": []
  },
  {
   "cell_type": "code",
   "execution_count": null,
   "metadata": {
    "collapsed": true,
    "jupyter": {
     "outputs_hidden": true
    }
   },
   "outputs": [],
   "source": []
  }
 ],
 "metadata": {
  "anaconda-cloud": {},
  "kernelspec": {
   "display_name": "p_env_ds",
   "language": "python",
   "name": "env-ds"
  },
  "language_info": {
   "codemirror_mode": {
    "name": "ipython",
    "version": 3
   },
   "file_extension": ".py",
   "mimetype": "text/x-python",
   "name": "python",
   "nbconvert_exporter": "python",
   "pygments_lexer": "ipython3",
   "version": "3.7.9"
  },
  "toc": {
   "nav_menu": {
    "height": "386px",
    "width": "306px"
   },
   "number_sections": true,
   "sideBar": true,
   "skip_h1_title": false,
   "title_cell": "Table of Contents",
   "title_sidebar": "Contents",
   "toc_cell": true,
   "toc_position": {
    "height": "calc(100% - 180px)",
    "left": "10px",
    "top": "150px",
    "width": "337px"
   },
   "toc_section_display": true,
   "toc_window_display": true
  },
  "varInspector": {
   "cols": {
    "lenName": 16,
    "lenType": 16,
    "lenVar": 40
   },
   "kernels_config": {
    "python": {
     "delete_cmd_postfix": "",
     "delete_cmd_prefix": "del ",
     "library": "var_list.py",
     "varRefreshCmd": "print(var_dic_list())"
    },
    "r": {
     "delete_cmd_postfix": ") ",
     "delete_cmd_prefix": "rm(",
     "library": "var_list.r",
     "varRefreshCmd": "cat(var_dic_list()) "
    }
   },
   "types_to_exclude": [
    "module",
    "function",
    "builtin_function_or_method",
    "instance",
    "_Feature"
   ],
   "window_display": false
  }
 },
 "nbformat": 4,
 "nbformat_minor": 4
}
