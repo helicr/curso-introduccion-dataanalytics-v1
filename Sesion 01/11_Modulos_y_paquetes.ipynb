{
 "cells": [
  {
   "cell_type": "markdown",
   "metadata": {},
   "source": [
    "# Introducción a Python"
   ]
  },
  {
   "cell_type": "markdown",
   "metadata": {},
   "source": [
    "## Table of contents\n",
    "1. [Importar módulos y paquetes](#Importar-módulos-y-paquetes)\n",
    "\n"
   ]
  },
  {
   "cell_type": "markdown",
   "metadata": {},
   "source": [
    "---\n",
    "\n",
    "## Importar módulos y paquetes\n",
    "\n",
    "Python es un lenguaje de propósito general, por lo tanto si queremos utilizar estructuras de datos, funciones, y métodos adicionales, como: funciones matemáticas, estadísticas,o de procesamiento de texto, es necesario importar los módulos correspondientes para poder utlizarlos. Para aplicaciones cientificas con Python, algunas de las librerías más usadas son: numpy, matplotlib, scikit-learn, entre otros.\n",
    "\n",
    "Existen tres formas diferentes para importar módulos de Python:\n",
    "\n",
    "- Directamente importando toda la librería:\n",
    "\n",
    "```python\n",
    "import numpy\n",
    "numpy.sum([2,3])\n",
    "```\n",
    "- Usando un alias (para poder llamar despues alguna función de la librería usando el alias):\n",
    "\n",
    "```python\n",
    "import numpy as np\n",
    "np.sum([3,2])\n",
    "```\n",
    "\n",
    "- Importando sólo algunos módulos\n",
    "\n",
    "```python\n",
    "from numpy import sum\n",
    "sum([3,4])\n",
    "```\n"
   ]
  },
  {
   "cell_type": "code",
   "execution_count": 1,
   "metadata": {},
   "outputs": [
    {
     "name": "stdout",
     "output_type": "stream",
     "text": [
      "19.634954084936208\n"
     ]
    }
   ],
   "source": [
    "from math import pi\n",
    "r = 2.5\n",
    "area = pi * r**2\n",
    "\n",
    "print(area)"
   ]
  },
  {
   "cell_type": "code",
   "execution_count": 2,
   "metadata": {},
   "outputs": [
    {
     "name": "stdout",
     "output_type": "stream",
     "text": [
      "19.634954084936208\n"
     ]
    }
   ],
   "source": [
    "import math\n",
    "\n",
    "area = math.pi * r**2\n",
    "print(area)\n"
   ]
  }
 ],
 "metadata": {
  "anaconda-cloud": {},
  "kernelspec": {
   "display_name": "Python 3",
   "language": "python",
   "name": "python3"
  },
  "language_info": {
   "codemirror_mode": {
    "name": "ipython",
    "version": 3
   },
   "file_extension": ".py",
   "mimetype": "text/x-python",
   "name": "python",
   "nbconvert_exporter": "python",
   "pygments_lexer": "ipython3",
   "version": "3.7.7"
  },
  "toc": {
   "nav_menu": {
    "height": "386px",
    "width": "306px"
   },
   "number_sections": true,
   "sideBar": true,
   "skip_h1_title": false,
   "title_cell": "Table of Contents",
   "title_sidebar": "Contents",
   "toc_cell": true,
   "toc_position": {
    "height": "calc(100% - 180px)",
    "left": "10px",
    "top": "150px",
    "width": "337px"
   },
   "toc_section_display": true,
   "toc_window_display": true
  },
  "varInspector": {
   "cols": {
    "lenName": 16,
    "lenType": 16,
    "lenVar": 40
   },
   "kernels_config": {
    "python": {
     "delete_cmd_postfix": "",
     "delete_cmd_prefix": "del ",
     "library": "var_list.py",
     "varRefreshCmd": "print(var_dic_list())"
    },
    "r": {
     "delete_cmd_postfix": ") ",
     "delete_cmd_prefix": "rm(",
     "library": "var_list.r",
     "varRefreshCmd": "cat(var_dic_list()) "
    }
   },
   "types_to_exclude": [
    "module",
    "function",
    "builtin_function_or_method",
    "instance",
    "_Feature"
   ],
   "window_display": false
  }
 },
 "nbformat": 4,
 "nbformat_minor": 2
}
