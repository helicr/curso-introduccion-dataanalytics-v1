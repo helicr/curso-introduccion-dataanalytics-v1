{
 "cells": [
  {
   "cell_type": "markdown",
   "metadata": {},
   "source": [
    "# Introducción a Python"
   ]
  },
  {
   "cell_type": "markdown",
   "metadata": {},
   "source": [
    "## Table of contents\n",
    "1. [Clases](#Clases)\n",
    "    1. [Atributos](#Atributos)\n",
    "    2. [Métodos](#Métodos)\n",
    "\n",
    "3. [Ejercicios](#Ejercicios)\n",
    "    1. [Ejercicio 1](#Ejercicio-1)\n",
    "    2. [Ejercicio 2](#Ejercicio-2)\n",
    "    3. [Ejercicio 3](#Ejercicio-3)\n",
    "    4. [Ejercicio 4](#Ejercicio-4)\n",
    "    4. [Ejercicio 5](#Ejercicio-5)\n",
    "    4. [Ejercicio 6](#Ejercicio-6)"
   ]
  },
  {
   "cell_type": "markdown",
   "metadata": {},
   "source": [
    "## Clases\n",
    "\n",
    "En programación orientada a objetos las clases nos permiten definir nuevos tipos de variables (objetos). Las clases consisten en una agrupación lógica de atributos y métodos. \n",
    "\n",
    "En Python:\n",
    "\n",
    "1. Los atributos y métodos de la clase deben estar identados después de los dos puntos de la definición.\n",
    "\n",
    "2. Los atributos se declaran como variables dentro de la clase. Siempre se debe asignar un valor por defecto a los atributos.\n",
    "\n",
    "3. Los métodos, son esencialmente funciones contenidas dentro de las clases. Estos se definen de la misma forma que una función, usando la palabra clave `def` seguida por el nombre. Los métodos siempre deben poseer un argumento `self`.\n"
   ]
  },
  {
   "cell_type": "markdown",
   "metadata": {},
   "source": [
    "### Una clase sencilla"
   ]
  },
  {
   "cell_type": "markdown",
   "metadata": {},
   "source": [
    "Se define con la palabra reservada `class`.  \n",
    "Al ejecutar de nuevo el código, se sobreescribe la definición de la clase."
   ]
  },
  {
   "cell_type": "code",
   "execution_count": 1,
   "metadata": {},
   "outputs": [],
   "source": [
    "from math import sqrt\n",
    "\n",
    "class Punto:\n",
    "    alfa = 0"
   ]
  },
  {
   "cell_type": "markdown",
   "metadata": {},
   "source": [
    "Se instancia de esta manera:"
   ]
  },
  {
   "cell_type": "code",
   "execution_count": 2,
   "metadata": {},
   "outputs": [],
   "source": [
    "q = Punto()"
   ]
  },
  {
   "cell_type": "markdown",
   "metadata": {},
   "source": [
    "Se accede a su atributo de la siguiente manera"
   ]
  },
  {
   "cell_type": "code",
   "execution_count": 3,
   "metadata": {},
   "outputs": [
    {
     "data": {
      "text/plain": [
       "0"
      ]
     },
     "execution_count": 3,
     "metadata": {},
     "output_type": "execute_result"
    }
   ],
   "source": [
    "q.alfa"
   ]
  },
  {
   "cell_type": "markdown",
   "metadata": {},
   "source": [
    "Para iniciar la clase con algunos valores se incluye el método especial `__init__`.  \n",
    "\n",
    "Para referirse a la propia instancia cuando se esta definiendo la clase se usa `self`.  (Es obligatorio incluirlo como primer argumento)"
   ]
  },
  {
   "cell_type": "code",
   "execution_count": 4,
   "metadata": {},
   "outputs": [],
   "source": [
    "class Punto:\n",
    "    alfa = 0\n",
    "    def __init__(self,x,y):\n",
    "        self.x = x\n",
    "        self.y = y\n",
    "        print(x,y)"
   ]
  },
  {
   "cell_type": "markdown",
   "metadata": {},
   "source": [
    "Se instancia con argumentos, y se ejecuta lo que pone en el método constructor `__init__`"
   ]
  },
  {
   "cell_type": "code",
   "execution_count": 5,
   "metadata": {},
   "outputs": [
    {
     "name": "stdout",
     "output_type": "stream",
     "text": [
      "1 2\n",
      "3 4\n"
     ]
    }
   ],
   "source": [
    "p1 = Punto(1,2)\n",
    "p2 = Punto(3,4)"
   ]
  },
  {
   "cell_type": "code",
   "execution_count": 6,
   "metadata": {},
   "outputs": [
    {
     "name": "stdout",
     "output_type": "stream",
     "text": [
      "140620009377424\n",
      "140620009376208\n"
     ]
    }
   ],
   "source": [
    "print(id(p1))\n",
    "print(id(p2))"
   ]
  },
  {
   "cell_type": "code",
   "execution_count": 7,
   "metadata": {},
   "outputs": [
    {
     "data": {
      "text/plain": [
       "__main__.Punto"
      ]
     },
     "execution_count": 7,
     "metadata": {},
     "output_type": "execute_result"
    }
   ],
   "source": [
    "type(p1)"
   ]
  },
  {
   "cell_type": "code",
   "execution_count": 8,
   "metadata": {},
   "outputs": [
    {
     "data": {
      "text/plain": [
       "True"
      ]
     },
     "execution_count": 8,
     "metadata": {},
     "output_type": "execute_result"
    }
   ],
   "source": [
    "isinstance(p1,Punto)"
   ]
  },
  {
   "cell_type": "markdown",
   "metadata": {},
   "source": [
    "Definido de esta manera, los atributos son obligatorios. Devuelve un error de tipo TypeError"
   ]
  },
  {
   "cell_type": "code",
   "execution_count": 9,
   "metadata": {},
   "outputs": [
    {
     "ename": "TypeError",
     "evalue": "__init__() missing 2 required positional arguments: 'x' and 'y'",
     "output_type": "error",
     "traceback": [
      "\u001b[0;31m---------------------------------------------------------------------------\u001b[0m",
      "\u001b[0;31mTypeError\u001b[0m                                 Traceback (most recent call last)",
      "\u001b[0;32m<ipython-input-9-fa1104034ad1>\u001b[0m in \u001b[0;36m<module>\u001b[0;34m\u001b[0m\n\u001b[0;32m----> 1\u001b[0;31m \u001b[0mPunto\u001b[0m\u001b[0;34m(\u001b[0m\u001b[0;34m)\u001b[0m\u001b[0;34m\u001b[0m\u001b[0;34m\u001b[0m\u001b[0m\n\u001b[0m",
      "\u001b[0;31mTypeError\u001b[0m: __init__() missing 2 required positional arguments: 'x' and 'y'"
     ]
    }
   ],
   "source": [
    "Punto()"
   ]
  },
  {
   "cell_type": "markdown",
   "metadata": {},
   "source": [
    "Se accede a los atributos x e y con `.`"
   ]
  },
  {
   "cell_type": "code",
   "execution_count": 10,
   "metadata": {},
   "outputs": [
    {
     "name": "stdout",
     "output_type": "stream",
     "text": [
      "1 2\n"
     ]
    },
    {
     "data": {
      "text/plain": [
       "2"
      ]
     },
     "execution_count": 10,
     "metadata": {},
     "output_type": "execute_result"
    }
   ],
   "source": [
    "p = Punto(1,2)\n",
    "p.x\n",
    "p.y"
   ]
  },
  {
   "cell_type": "markdown",
   "metadata": {},
   "source": [
    "## Atributos"
   ]
  },
  {
   "cell_type": "markdown",
   "metadata": {},
   "source": [
    "Los atributos son variables que pertenecen a una clase."
   ]
  },
  {
   "cell_type": "markdown",
   "metadata": {},
   "source": [
    "### Atributos de clase y de instancia"
   ]
  },
  {
   "cell_type": "markdown",
   "metadata": {},
   "source": [
    "- Atributos de instancia: \n",
    " - **pertenecen por separado a cada instancia de esta clase**\n",
    " - Sirven para almacenar valores únicos de cada objeto\n",
    " - En la implementación se acceden con `self`\n",
    "- Atributos de clase:\n",
    " - **pertenecen a todas las instancias de esta clase**\n",
    " - Sirven para almacenar valores comunes a la clase\n",
    " - En la implementación se accede con el nombre de la clase"
   ]
  },
  {
   "cell_type": "code",
   "execution_count": 11,
   "metadata": {
    "collapsed": true,
    "jupyter": {
     "outputs_hidden": true
    }
   },
   "outputs": [],
   "source": [
    "class Punto:\n",
    "    alfa = 100 # atributo de la clase \n",
    "    def __init__(self,x,y): # atributo de la instancia\n",
    "        self.x = x\n",
    "        self.y = y\n",
    "        print(\"Construyendo: \", x,y)"
   ]
  },
  {
   "cell_type": "markdown",
   "metadata": {},
   "source": [
    "Creamos 2 instancias para ver como funciona"
   ]
  },
  {
   "cell_type": "code",
   "execution_count": 12,
   "metadata": {},
   "outputs": [
    {
     "name": "stdout",
     "output_type": "stream",
     "text": [
      "Construyendo:  1 2\n",
      "Construyendo:  11 12\n"
     ]
    }
   ],
   "source": [
    "p1 = Punto(1,2)\n",
    "p2 = Punto(11,12)"
   ]
  },
  {
   "cell_type": "code",
   "execution_count": 13,
   "metadata": {},
   "outputs": [
    {
     "data": {
      "text/plain": [
       "(1, 11)"
      ]
     },
     "execution_count": 13,
     "metadata": {},
     "output_type": "execute_result"
    }
   ],
   "source": [
    "p1.x, p2.x"
   ]
  },
  {
   "cell_type": "code",
   "execution_count": 14,
   "metadata": {},
   "outputs": [
    {
     "data": {
      "text/plain": [
       "100"
      ]
     },
     "execution_count": 14,
     "metadata": {},
     "output_type": "execute_result"
    }
   ],
   "source": [
    "Punto.alfa"
   ]
  },
  {
   "cell_type": "code",
   "execution_count": 15,
   "metadata": {},
   "outputs": [
    {
     "name": "stdout",
     "output_type": "stream",
     "text": [
      "100\n",
      "100\n",
      "-999\n",
      "-999\n"
     ]
    }
   ],
   "source": [
    "print(p1.alfa)\n",
    "print(p2.alfa)\n",
    "\n",
    "Punto.alfa = -999\n",
    "print(p1.alfa)\n",
    "print(p2.alfa)"
   ]
  },
  {
   "cell_type": "markdown",
   "metadata": {},
   "source": [
    "### Detalles"
   ]
  },
  {
   "cell_type": "markdown",
   "metadata": {},
   "source": [
    "Si se asigna a"
   ]
  },
  {
   "cell_type": "code",
   "execution_count": 16,
   "metadata": {},
   "outputs": [
    {
     "name": "stdout",
     "output_type": "stream",
     "text": [
      "1\n",
      "-999\n"
     ]
    }
   ],
   "source": [
    "p1.alfa=1\n",
    "print(p1.alfa)\n",
    "print(p2.alfa)"
   ]
  },
  {
   "cell_type": "code",
   "execution_count": 17,
   "metadata": {},
   "outputs": [
    {
     "name": "stdout",
     "output_type": "stream",
     "text": [
      "1\n",
      "-9999999999999999999\n"
     ]
    }
   ],
   "source": [
    "Punto.alfa = -9999999999999999999\n",
    "print(p1.alfa)\n",
    "print(p2.alfa)"
   ]
  },
  {
   "cell_type": "markdown",
   "metadata": {},
   "source": [
    "## Métodos"
   ]
  },
  {
   "cell_type": "markdown",
   "metadata": {},
   "source": [
    "Los métodos añaden formas de operar con las instancias o clases"
   ]
  },
  {
   "cell_type": "code",
   "execution_count": 18,
   "metadata": {
    "collapsed": true,
    "jupyter": {
     "outputs_hidden": true
    }
   },
   "outputs": [],
   "source": [
    "class Punto:\n",
    "    alfa = 100 # atributo de la clase \n",
    "    def __init__(self,x,y): # atributo de la instancia\n",
    "        self.x = x\n",
    "        self.y = y\n",
    "        print(\"Construyendo: \", x,y)\n",
    "    \n",
    "    def modulo(self): # Método Suma\n",
    "        import math\n",
    "        return math.sqrt(self.x**2 + self.y**2)"
   ]
  },
  {
   "cell_type": "markdown",
   "metadata": {},
   "source": [
    "Se usan de esta a través de `.`:"
   ]
  },
  {
   "cell_type": "code",
   "execution_count": 19,
   "metadata": {},
   "outputs": [
    {
     "name": "stdout",
     "output_type": "stream",
     "text": [
      "Construyendo:  1 3\n"
     ]
    },
    {
     "data": {
      "text/plain": [
       "3.1622776601683795"
      ]
     },
     "execution_count": 19,
     "metadata": {},
     "output_type": "execute_result"
    }
   ],
   "source": [
    "p = Punto(1,3)\n",
    "p.modulo()"
   ]
  },
  {
   "cell_type": "markdown",
   "metadata": {},
   "source": [
    "### Métodos con argumentos"
   ]
  },
  {
   "cell_type": "markdown",
   "metadata": {},
   "source": [
    "Se pueden añadir argumentos a los modulos con facilidad"
   ]
  },
  {
   "cell_type": "code",
   "execution_count": 20,
   "metadata": {
    "collapsed": true,
    "jupyter": {
     "outputs_hidden": true
    }
   },
   "outputs": [],
   "source": [
    "class Punto:\n",
    "    alfa = 100 # atributo de la clase \n",
    "    def __init__(self,x,y): # atributo de la instancia\n",
    "        self.x = x\n",
    "        self.y = y\n",
    "        print(\"Construyendo: \", x,y)\n",
    "    \n",
    "    def modulo(self): \n",
    "        import math\n",
    "        return math.sqrt(self.x**2 + self.y**2)\n",
    "    \n",
    "    def suma_a_x(self,extra): \n",
    "        self.x = self.x + extra"
   ]
  },
  {
   "cell_type": "code",
   "execution_count": 21,
   "metadata": {},
   "outputs": [
    {
     "name": "stdout",
     "output_type": "stream",
     "text": [
      "Construyendo:  1 3\n"
     ]
    },
    {
     "data": {
      "text/plain": [
       "11"
      ]
     },
     "execution_count": 21,
     "metadata": {},
     "output_type": "execute_result"
    }
   ],
   "source": [
    "p = Punto(1,3)\n",
    "p.suma_a_x(10)\n",
    "p.x"
   ]
  },
  {
   "cell_type": "markdown",
   "metadata": {},
   "source": [
    "Este método tan sencillo no aporta mucho, gracias a que en Python se puede acceder desde fuera."
   ]
  },
  {
   "cell_type": "code",
   "execution_count": 22,
   "metadata": {},
   "outputs": [
    {
     "data": {
      "text/plain": [
       "21"
      ]
     },
     "execution_count": 22,
     "metadata": {},
     "output_type": "execute_result"
    }
   ],
   "source": [
    "p.x = p.x + 10 \n",
    "p.x"
   ]
  },
  {
   "cell_type": "markdown",
   "metadata": {},
   "source": [
    "Los argumentos pueden ser más complejos, y como en las funciones ser asignados por sus nombres."
   ]
  },
  {
   "cell_type": "code",
   "execution_count": 23,
   "metadata": {
    "collapsed": true,
    "jupyter": {
     "outputs_hidden": true
    }
   },
   "outputs": [],
   "source": [
    "class Punto:\n",
    "    alfa = 100 # atributo de la clase \n",
    "    def __init__(self,x,y): # atributo de la instancia\n",
    "        self.x = x\n",
    "        self.y = y\n",
    "        print(\"Nuevo Punto\")\n",
    "    \n",
    "    def modulo(self):\n",
    "        import math\n",
    "        return math.sqrt(self.x**2 + self.y**2)\n",
    "    \n",
    "    def suma(self,otro): # Método Suma\n",
    "        z = Punto(0,0)\n",
    "        z.x = self.x + otro.x\n",
    "        z.y = self.y + otro.y\n",
    "        return z\n",
    "    \n",
    "    def distancia(self,otro):\n",
    "        return sqrt((self.x - otro.x)**2 + (self.y - otro.y)**2)"
   ]
  },
  {
   "cell_type": "code",
   "execution_count": 24,
   "metadata": {},
   "outputs": [
    {
     "name": "stdout",
     "output_type": "stream",
     "text": [
      "Nuevo Punto\n",
      "Nuevo Punto\n"
     ]
    }
   ],
   "source": [
    "p1 = Punto(2,2)\n",
    "p2 = Punto(5,5)"
   ]
  },
  {
   "cell_type": "code",
   "execution_count": 25,
   "metadata": {},
   "outputs": [
    {
     "name": "stdout",
     "output_type": "stream",
     "text": [
      "Nuevo Punto\n"
     ]
    },
    {
     "data": {
      "text/plain": [
       "(7, 7)"
      ]
     },
     "execution_count": 25,
     "metadata": {},
     "output_type": "execute_result"
    }
   ],
   "source": [
    "p3 = p1.suma(otro=p2)\n",
    "p3.x, p3.y"
   ]
  },
  {
   "cell_type": "code",
   "execution_count": 26,
   "metadata": {},
   "outputs": [
    {
     "data": {
      "text/plain": [
       "4.242640687119285"
      ]
     },
     "execution_count": 26,
     "metadata": {},
     "output_type": "execute_result"
    }
   ],
   "source": [
    "p1.distancia(otro=p2)"
   ]
  },
  {
   "cell_type": "markdown",
   "metadata": {},
   "source": [
    "### Métodos de instancia y clase"
   ]
  },
  {
   "cell_type": "markdown",
   "metadata": {},
   "source": [
    "Hay 2 tipos de método: de instancia y de clase:\n",
    "- De **instancia**, usan los atributos del scope de la instancia. Usando la palabra reservada `self`. Los que hemos visto hasta ahora. (Se diferencian en que necesitan el argumento `self` en la primera posición).\n",
    "- De **clase**, usan los atributos de la clase. NO tienen acceso al scope de Ninguna de las instancias, ni acceso a `self`. Se conocen como métodos *static*"
   ]
  },
  {
   "cell_type": "code",
   "execution_count": 27,
   "metadata": {
    "collapsed": true,
    "jupyter": {
     "outputs_hidden": true
    }
   },
   "outputs": [],
   "source": [
    "class Punto:\n",
    "    alfa = 100 # atributo de la clase \n",
    "    def __init__(self,x,y): # atributo de la instancia\n",
    "        self.x = x\n",
    "        self.y = y\n",
    "        print(\"Nuevo Punto\")\n",
    "    \n",
    "    def modulo(self):\n",
    "        import math\n",
    "        return math.sqrt(self.x**2 + self.y**2)\n",
    "    \n",
    "    def distancia(self,otro):\n",
    "        return sqrt((self.x - otro.x)**2 + (self.y - otro.y)**2)\n",
    "    \n",
    "    @staticmethod\n",
    "    def suma(punto1, punto2): # Método Suma\n",
    "        nueva_x = punto1.x + punto2.x\n",
    "        nueva_y = punto1.y + punto2.y\n",
    "        nuevo_punto = Punto(nueva_x,nueva_y)\n",
    "        return nuevo_punto"
   ]
  },
  {
   "cell_type": "markdown",
   "metadata": {},
   "source": [
    "Se usa de la siguiente manera"
   ]
  },
  {
   "cell_type": "code",
   "execution_count": 28,
   "metadata": {},
   "outputs": [
    {
     "name": "stdout",
     "output_type": "stream",
     "text": [
      "Nuevo Punto\n",
      "Nuevo Punto\n",
      "Nuevo Punto\n"
     ]
    },
    {
     "data": {
      "text/plain": [
       "(13, 25)"
      ]
     },
     "execution_count": 28,
     "metadata": {},
     "output_type": "execute_result"
    }
   ],
   "source": [
    "p1 = Punto(3,5)\n",
    "p2 = Punto(10,20)\n",
    "p3 = Punto.suma(punto1=p1,punto2=p2)\n",
    "p3.x, p3.y"
   ]
  },
  {
   "cell_type": "code",
   "execution_count": 29,
   "metadata": {},
   "outputs": [
    {
     "data": {
      "text/plain": [
       "28.178005607210743"
      ]
     },
     "execution_count": 29,
     "metadata": {},
     "output_type": "execute_result"
    }
   ],
   "source": [
    "p3.modulo()"
   ]
  },
  {
   "cell_type": "markdown",
   "metadata": {},
   "source": [
    "## Subclases"
   ]
  },
  {
   "cell_type": "markdown",
   "metadata": {},
   "source": [
    "Una **subclase** es una clase que pertenece a su vez a una clase superior."
   ]
  },
  {
   "cell_type": "code",
   "execution_count": 30,
   "metadata": {
    "collapsed": true,
    "jupyter": {
     "outputs_hidden": true
    }
   },
   "outputs": [],
   "source": [
    "class superHero:\n",
    "    \n",
    "    def __init__(self, superPower):\n",
    "        \n",
    "        self.superPower = superPower\n",
    "        "
   ]
  },
  {
   "cell_type": "code",
   "execution_count": 31,
   "metadata": {
    "collapsed": true,
    "jupyter": {
     "outputs_hidden": true
    }
   },
   "outputs": [],
   "source": [
    "hero = superHero(\"invisible\")"
   ]
  },
  {
   "cell_type": "code",
   "execution_count": 32,
   "metadata": {},
   "outputs": [
    {
     "data": {
      "text/plain": [
       "'invisible'"
      ]
     },
     "execution_count": 32,
     "metadata": {},
     "output_type": "execute_result"
    }
   ],
   "source": [
    "hero.superPower"
   ]
  },
  {
   "cell_type": "code",
   "execution_count": 33,
   "metadata": {
    "collapsed": true,
    "jupyter": {
     "outputs_hidden": true
    }
   },
   "outputs": [],
   "source": [
    "class superMan(superHero):\n",
    "    \n",
    "    def __init__(self):\n",
    "        \n",
    "        superHero.__init__(self, \"fly\")\n",
    "        "
   ]
  },
  {
   "cell_type": "code",
   "execution_count": null,
   "metadata": {
    "collapsed": true,
    "jupyter": {
     "outputs_hidden": true
    }
   },
   "outputs": [],
   "source": [
    "isinstance(hero, superMan), isinstance(hero, superHero)"
   ]
  },
  {
   "cell_type": "code",
   "execution_count": null,
   "metadata": {
    "collapsed": true,
    "jupyter": {
     "outputs_hidden": true
    }
   },
   "outputs": [],
   "source": [
    "isinstance(hero2, superMan), isinstance(hero2, superHero)"
   ]
  }
 ],
 "metadata": {
  "anaconda-cloud": {},
  "kernelspec": {
   "display_name": "Python 3",
   "language": "python",
   "name": "python3"
  },
  "language_info": {
   "codemirror_mode": {
    "name": "ipython",
    "version": 3
   },
   "file_extension": ".py",
   "mimetype": "text/x-python",
   "name": "python",
   "nbconvert_exporter": "python",
   "pygments_lexer": "ipython3",
   "version": "3.7.7"
  },
  "toc": {
   "nav_menu": {},
   "number_sections": true,
   "sideBar": true,
   "skip_h1_title": false,
   "title_cell": "Table of Contents",
   "title_sidebar": "Contents",
   "toc_cell": false,
   "toc_position": {
    "height": "calc(100% - 180px)",
    "left": "10px",
    "top": "150px",
    "width": "165px"
   },
   "toc_section_display": true,
   "toc_window_display": true
  },
  "varInspector": {
   "cols": {
    "lenName": 16,
    "lenType": 16,
    "lenVar": 40
   },
   "kernels_config": {
    "python": {
     "delete_cmd_postfix": "",
     "delete_cmd_prefix": "del ",
     "library": "var_list.py",
     "varRefreshCmd": "print(var_dic_list())"
    },
    "r": {
     "delete_cmd_postfix": ") ",
     "delete_cmd_prefix": "rm(",
     "library": "var_list.r",
     "varRefreshCmd": "cat(var_dic_list()) "
    }
   },
   "types_to_exclude": [
    "module",
    "function",
    "builtin_function_or_method",
    "instance",
    "_Feature"
   ],
   "window_display": false
  }
 },
 "nbformat": 4,
 "nbformat_minor": 4
}
