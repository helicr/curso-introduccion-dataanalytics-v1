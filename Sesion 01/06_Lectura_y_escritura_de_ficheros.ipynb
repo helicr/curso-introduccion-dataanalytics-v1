{
 "cells": [
  {
   "cell_type": "markdown",
   "metadata": {},
   "source": [
    "# Introducción a Python"
   ]
  },
  {
   "cell_type": "markdown",
   "metadata": {},
   "source": [
    "## Table of Contents\n",
    "1. [Lectura de ficheros](#Lectura-de-ficheros)\n",
    "2. [Escritura de ficheros](#Escritura-de-ficheros)\n",
    "2. [With Statement](#With-Statement)\n",
    "\n"
   ]
  },
  {
   "cell_type": "markdown",
   "metadata": {},
   "source": [
    "---\n",
    "## Lectura y escritura de ficheros"
   ]
  },
  {
   "cell_type": "markdown",
   "metadata": {},
   "source": [
    "\n",
    "### *Lectura de ficheros*"
   ]
  },
  {
   "cell_type": "markdown",
   "metadata": {},
   "source": [
    "Abrimos el fichero llamado file en la carpeta files y lo leemos"
   ]
  },
  {
   "cell_type": "code",
   "execution_count": 40,
   "metadata": {},
   "outputs": [],
   "source": [
    "fichero = open(\"/home/bigdatafutura/Sesion 01/files/file.txt\")"
   ]
  },
  {
   "cell_type": "code",
   "execution_count": 3,
   "metadata": {},
   "outputs": [
    {
     "name": "stdout",
     "output_type": "stream",
     "text": [
      "/home/bigdatafutura/Sesion 01\n"
     ]
    }
   ],
   "source": [
    "!pwd"
   ]
  },
  {
   "cell_type": "code",
   "execution_count": 41,
   "metadata": {},
   "outputs": [
    {
     "data": {
      "text/plain": [
       "<_io.TextIOWrapper name='/home/bigdatafutura/Sesion 01/files/file.txt' mode='r' encoding='UTF-8'>"
      ]
     },
     "execution_count": 41,
     "metadata": {},
     "output_type": "execute_result"
    }
   ],
   "source": [
    "fichero"
   ]
  },
  {
   "cell_type": "code",
   "execution_count": 42,
   "metadata": {},
   "outputs": [
    {
     "data": {
      "text/plain": [
       "'Escribo con modo r YYYYY\\npor aquí.\\nPera\\nManzana\\nPlátano\\nLinea ejemplo.\\n\\nLinea ejemplo XXXX.\\n'"
      ]
     },
     "execution_count": 42,
     "metadata": {},
     "output_type": "execute_result"
    }
   ],
   "source": [
    "fichero.read()"
   ]
  },
  {
   "cell_type": "markdown",
   "metadata": {},
   "source": [
    "Python ha leído el fichero entero, y lo ha impreso por pantalla traduciendo los retornos de carro por '\\n'."
   ]
  },
  {
   "cell_type": "markdown",
   "metadata": {},
   "source": [
    "Si probamos nuevamente a leer el fichero veremos que no imprime nada, pues el cursor de lectura avanzó al final del texto y ya no hay nada para leer."
   ]
  },
  {
   "cell_type": "code",
   "execution_count": 43,
   "metadata": {},
   "outputs": [
    {
     "data": {
      "text/plain": [
       "''"
      ]
     },
     "execution_count": 43,
     "metadata": {},
     "output_type": "execute_result"
    }
   ],
   "source": [
    "fichero.read()"
   ]
  },
  {
   "cell_type": "code",
   "execution_count": 44,
   "metadata": {},
   "outputs": [],
   "source": [
    "fichero.close()"
   ]
  },
  {
   "cell_type": "code",
   "execution_count": 45,
   "metadata": {},
   "outputs": [],
   "source": [
    "fichero = open(\"/home/bigdatafutura/Sesion 01/files/file.txt\")"
   ]
  },
  {
   "cell_type": "markdown",
   "metadata": {},
   "source": [
    "También se puede leer línea a línea"
   ]
  },
  {
   "cell_type": "code",
   "execution_count": 10,
   "metadata": {},
   "outputs": [
    {
     "name": "stdout",
     "output_type": "stream",
     "text": [
      "Escribo con modo r\n",
      "\n"
     ]
    }
   ],
   "source": [
    "print(fichero.readline())"
   ]
  },
  {
   "cell_type": "code",
   "execution_count": 11,
   "metadata": {},
   "outputs": [
    {
     "name": "stdout",
     "output_type": "stream",
     "text": [
      "nea 1 por aquí.\n",
      "\n"
     ]
    }
   ],
   "source": [
    "print(fichero.readline())"
   ]
  },
  {
   "cell_type": "code",
   "execution_count": 12,
   "metadata": {},
   "outputs": [
    {
     "name": "stdout",
     "output_type": "stream",
     "text": [
      "Pera\n",
      "\n"
     ]
    }
   ],
   "source": [
    "print(fichero.readline())"
   ]
  },
  {
   "cell_type": "code",
   "execution_count": 13,
   "metadata": {},
   "outputs": [
    {
     "name": "stdout",
     "output_type": "stream",
     "text": [
      "Manzana\n",
      "\n"
     ]
    }
   ],
   "source": [
    "print(fichero.readline())"
   ]
  },
  {
   "cell_type": "code",
   "execution_count": 14,
   "metadata": {},
   "outputs": [
    {
     "name": "stdout",
     "output_type": "stream",
     "text": [
      "Plátano\n",
      "\n"
     ]
    }
   ],
   "source": [
    "print(fichero.readline())"
   ]
  },
  {
   "cell_type": "code",
   "execution_count": 15,
   "metadata": {},
   "outputs": [
    {
     "name": "stdout",
     "output_type": "stream",
     "text": [
      "Linea ejemplo.\n",
      "\n"
     ]
    }
   ],
   "source": [
    "print(fichero.readline())"
   ]
  },
  {
   "cell_type": "code",
   "execution_count": 16,
   "metadata": {},
   "outputs": [],
   "source": [
    "fichero.close()"
   ]
  },
  {
   "cell_type": "code",
   "execution_count": 17,
   "metadata": {},
   "outputs": [],
   "source": [
    "fichero = open(\"/home/bigdatafutura/Sesion 01/files/file.txt\")"
   ]
  },
  {
   "cell_type": "code",
   "execution_count": 18,
   "metadata": {},
   "outputs": [
    {
     "name": "stdout",
     "output_type": "stream",
     "text": [
      "Escribo con modo r\n",
      "\n",
      "nea 1 por aquí.\n",
      "\n",
      "Pera\n",
      "\n",
      "Manzana\n",
      "\n",
      "Plátano\n",
      "\n",
      "Linea ejemplo.\n",
      "\n"
     ]
    }
   ],
   "source": [
    "for linea in fichero:\n",
    "    print(linea)"
   ]
  },
  {
   "cell_type": "code",
   "execution_count": 19,
   "metadata": {},
   "outputs": [],
   "source": [
    "fichero.close()"
   ]
  },
  {
   "cell_type": "markdown",
   "metadata": {},
   "source": [
    "También podemos obtener todas las lineas del fichero como una lista"
   ]
  },
  {
   "cell_type": "code",
   "execution_count": 20,
   "metadata": {},
   "outputs": [],
   "source": [
    "fichero = open(\"/home/bigdatafutura/Sesion 01/files/file.txt\")"
   ]
  },
  {
   "cell_type": "code",
   "execution_count": 21,
   "metadata": {},
   "outputs": [
    {
     "data": {
      "text/plain": [
       "['Escribo con modo r\\n',\n",
       " 'nea 1 por aquí.\\n',\n",
       " 'Pera\\n',\n",
       " 'Manzana\\n',\n",
       " 'Plátano\\n',\n",
       " 'Linea ejemplo.\\n']"
      ]
     },
     "execution_count": 21,
     "metadata": {},
     "output_type": "execute_result"
    }
   ],
   "source": [
    "fichero.readlines()"
   ]
  },
  {
   "cell_type": "code",
   "execution_count": 22,
   "metadata": {},
   "outputs": [],
   "source": [
    "fichero.close()"
   ]
  },
  {
   "cell_type": "markdown",
   "metadata": {},
   "source": [
    "\n",
    "### *Escritura de ficheros*#"
   ]
  },
  {
   "cell_type": "markdown",
   "metadata": {},
   "source": [
    "Como cualquier cosa que queramos escribir debe ser tipo cadena, podemos usar la función str() que convierte a tipo string si lo que vamos a escribir no es una cadena.\n",
    "No añade carácter de nueva línea, hay que añadirlo si lo queremos.\n"
   ]
  },
  {
   "cell_type": "markdown",
   "metadata": {},
   "source": [
    "Para añadir líneas a un fichero, se utiliza como parámetro en la apertura del fichero el modo 'a'"
   ]
  },
  {
   "cell_type": "code",
   "execution_count": 46,
   "metadata": {},
   "outputs": [],
   "source": [
    "fichero = open(\"/home/bigdatafutura/Sesion 01/files/file.txt\", \"a\")"
   ]
  },
  {
   "cell_type": "code",
   "execution_count": 47,
   "metadata": {},
   "outputs": [
    {
     "data": {
      "text/plain": [
       "21"
      ]
     },
     "execution_count": 47,
     "metadata": {},
     "output_type": "execute_result"
    }
   ],
   "source": [
    "fichero.write(\"\\nLinea ejemplo ZZZZZ\\n\")"
   ]
  },
  {
   "cell_type": "code",
   "execution_count": 49,
   "metadata": {},
   "outputs": [],
   "source": [
    "fichero.close()"
   ]
  },
  {
   "cell_type": "markdown",
   "metadata": {},
   "source": [
    "Abrir un fichero con el modo 'r+'  permite leerlo y escribir valores. "
   ]
  },
  {
   "cell_type": "code",
   "execution_count": 50,
   "metadata": {},
   "outputs": [],
   "source": [
    "fichero = open(\"/home/bigdatafutura/Sesion 01/files/file.txt\", \"r+\")"
   ]
  },
  {
   "cell_type": "code",
   "execution_count": 51,
   "metadata": {},
   "outputs": [
    {
     "data": {
      "text/plain": [
       "26"
      ]
     },
     "execution_count": 51,
     "metadata": {},
     "output_type": "execute_result"
    }
   ],
   "source": [
    "fichero.write(\"Escribo con modo r RRRRRR\\n\")"
   ]
  },
  {
   "cell_type": "code",
   "execution_count": 52,
   "metadata": {},
   "outputs": [
    {
     "data": {
      "text/plain": [
       "'or aquí.\\nPera\\nManzana\\nPlátano\\nLinea ejemplo.\\n\\nLinea ejemplo XXXX.\\n\\nLinea ejemplo ZZZZZ\\n'"
      ]
     },
     "execution_count": 52,
     "metadata": {},
     "output_type": "execute_result"
    }
   ],
   "source": [
    "fichero.read()"
   ]
  },
  {
   "cell_type": "code",
   "execution_count": 53,
   "metadata": {},
   "outputs": [],
   "source": [
    "fichero.close()"
   ]
  },
  {
   "cell_type": "markdown",
   "metadata": {},
   "source": [
    "Se pueden consultar los distintos modos en los que se pueden abrir una conexión a un fichero aquí: https://docs.python.org/3.5/library/functions.html#open"
   ]
  },
  {
   "cell_type": "markdown",
   "metadata": {},
   "source": [
    "### *With Statement*"
   ]
  },
  {
   "cell_type": "markdown",
   "metadata": {},
   "source": [
    "También se puede trabajar con ficheros usando el *with* statement. Está diseñado para trabajar con sintaxis más limpia, y manejo de excepciones mientras se trabaja.\n",
    "\n",
    "Una ventaja de usar este método es que cualquier fichero abrieto se cerrará automaticamente. \n",
    "\n",
    "Se usa así:\n",
    "\n",
    "**with open**(“filename”) **as** file: \n",
    "\n",
    "    {código}"
   ]
  },
  {
   "cell_type": "code",
   "execution_count": 34,
   "metadata": {},
   "outputs": [
    {
     "name": "stdout",
     "output_type": "stream",
     "text": [
      "Escribo con modo r YYYYY\n",
      "\n",
      "por aquí.\n",
      "\n",
      "Pera\n",
      "\n",
      "Manzana\n",
      "\n",
      "Plátano\n",
      "\n",
      "Linea ejemplo.\n",
      "\n",
      "\n",
      "\n",
      "Linea ejemplo XXXX.\n",
      "\n"
     ]
    }
   ],
   "source": [
    "with open(\"/home/bigdatafutura/Sesion 01/files/file.txt\") as f: \n",
    "    for line in f: \n",
    "        print (line)"
   ]
  },
  {
   "cell_type": "code",
   "execution_count": null,
   "metadata": {},
   "outputs": [],
   "source": []
  }
 ],
 "metadata": {
  "kernelspec": {
   "display_name": "p_env_ds",
   "language": "python",
   "name": "env-ds"
  },
  "language_info": {
   "codemirror_mode": {
    "name": "ipython",
    "version": 3
   },
   "file_extension": ".py",
   "mimetype": "text/x-python",
   "name": "python",
   "nbconvert_exporter": "python",
   "pygments_lexer": "ipython3",
   "version": "3.7.9"
  }
 },
 "nbformat": 4,
 "nbformat_minor": 4
}
