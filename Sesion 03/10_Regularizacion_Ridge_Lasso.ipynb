{
 "cells": [
  {
   "cell_type": "markdown",
   "metadata": {},
   "source": [
    "# Machine Learning: Supervised Learning"
   ]
  },
  {
   "cell_type": "markdown",
   "metadata": {
    "toc": true
   },
   "source": [
    "<h1>Table of Contents<span class=\"tocSkip\"></span></h1>\n",
    "<div class=\"toc\"><ul class=\"toc-item\"><li><span><a href=\"#Linear-Regression\" data-toc-modified-id=\"Linear-Regression-1\"><span class=\"toc-item-num\">1&nbsp;&nbsp;</span>Linear Regression</a></span></li><li><span><a href=\"#Ridge-Regression-(L2-penalty)\" data-toc-modified-id=\"Ridge-Regression-(L2-penalty)-2\"><span class=\"toc-item-num\">2&nbsp;&nbsp;</span>Ridge Regression (L2 penalty)</a></span></li><li><span><a href=\"#Lasso-(L1-penalty)\" data-toc-modified-id=\"Lasso-(L1-penalty)-3\"><span class=\"toc-item-num\">3&nbsp;&nbsp;</span>Lasso (L1 penalty)</a></span></li><li><span><a href=\"#Ejercicios\" data-toc-modified-id=\"Ejercicios-4\"><span class=\"toc-item-num\">4&nbsp;&nbsp;</span>Ejercicios</a></span><ul class=\"toc-item\"><li><span><a href=\"#Ejercicio-1\" data-toc-modified-id=\"Ejercicio-1-4.1\"><span class=\"toc-item-num\">4.1&nbsp;&nbsp;</span>Ejercicio 1</a></span></li><li><span><a href=\"#Ejercicio-2\" data-toc-modified-id=\"Ejercicio-2-4.2\"><span class=\"toc-item-num\">4.2&nbsp;&nbsp;</span>Ejercicio 2</a></span></li></ul></li></ul></div>"
   ]
  },
  {
   "cell_type": "markdown",
   "metadata": {},
   "source": [
    "# Regresión: Regularización - Ridge y Lasso\n",
    "\n",
    "En este notebook vamos a estudiar como la regularización puede ayudarnos a reducir los efectos del bias y la varianza. En concreto veremos como utilizar regularización en modelos de regresión.\n"
   ]
  },
  {
   "cell_type": "code",
   "execution_count": null,
   "metadata": {},
   "outputs": [],
   "source": [
    "import pandas as pd\n",
    "import numpy as np\n",
    "from matplotlib import pyplot as plt\n",
    "%matplotlib inline"
   ]
  },
  {
   "cell_type": "markdown",
   "metadata": {},
   "source": [
    "## Linear Regression\n"
   ]
  },
  {
   "cell_type": "markdown",
   "metadata": {},
   "source": [
    "Todos los modelos de regresión lineal aprenden una serie de *coeficientes* (también llamados parámetros o pesos) y un *intercept* (también llamado bias) para realizar una combinación lineal de las características del modelo a aprender. Así tenemos que:\n",
    "\n",
    "```\n",
    "y_pred = x_test[0] * coef_[0] + ... + x_test[n_features-1] * coef_[n_features-1] + intercept_\n",
    "```\n",
    "\n",
    "Existen varios modelos de regresión lineal cuya principal diferencia reside en las restricciones que le ponemos en los *coeficientes*. Recordad que estas restricciones se conocen como regularización.\n",
    "\n",
    "Vamos a generar una conjunto de datos sintético que nos permita ver el comportamiento de estos modelos."
   ]
  },
  {
   "cell_type": "code",
   "execution_count": null,
   "metadata": {
    "collapsed": false,
    "jupyter": {
     "outputs_hidden": false
    }
   },
   "outputs": [],
   "source": [
    "from sklearn.datasets import make_regression\n",
    "from sklearn.model_selection import train_test_split\n",
    "\n",
    "X, y, coefs = make_regression(n_samples=200, n_features=30, n_informative=10,\n",
    "                              noise=100, coef=True, random_state=5)\n",
    "print(X.shape)\n",
    "print(y.shape)\n",
    "# print(coefs)\n",
    "\n",
    "X_train, X_test, y_train, y_test = train_test_split(X, y,\n",
    "                                                    random_state=5,\n",
    "                                                    train_size=60)\n",
    "print(X_train.shape, X_test.shape)"
   ]
  },
  {
   "cell_type": "markdown",
   "metadata": {},
   "source": [
    "\n",
    "El modelo lineal más famoso es la regresión OLS (Ordinary Least Squares), llamada *regresión lineal*. Este tipo de regresión no impone ninguna restricción a los coeficientes. Esto significa que cuando tenemos un gran número de caracterísiticas, el modelo tienda a sobreajustar.\n",
    "\n",
    "$$ \\text{min}_{w, b} \\sum_i || w^\\mathsf{T}x_i + b  - y_i||^2 $$"
   ]
  },
  {
   "cell_type": "code",
   "execution_count": null,
   "metadata": {
    "collapsed": false,
    "jupyter": {
     "outputs_hidden": false
    }
   },
   "outputs": [],
   "source": [
    "from sklearn.linear_model import LinearRegression\n",
    "regr = LinearRegression(fit_intercept=True)\n",
    "regr.fit(X_train, y_train)"
   ]
  },
  {
   "cell_type": "code",
   "execution_count": null,
   "metadata": {
    "collapsed": false,
    "jupyter": {
     "outputs_hidden": false
    }
   },
   "outputs": [],
   "source": [
    "regr.score(X_train, y_train)"
   ]
  },
  {
   "cell_type": "code",
   "execution_count": null,
   "metadata": {
    "collapsed": false,
    "jupyter": {
     "outputs_hidden": false
    }
   },
   "outputs": [],
   "source": [
    "regr.score(X_test, y_test)"
   ]
  },
  {
   "cell_type": "markdown",
   "metadata": {},
   "source": [
    "Como vemos el $R^2$ en el conjunto de entrenamiento es muy alto, pero muy bajo en el conjunto de test. Esto suele ser un indicativo de que nuestro modelo está sobreajustando."
   ]
  },
  {
   "cell_type": "markdown",
   "metadata": {},
   "source": [
    "Vamos a aprovecharnos que nuestros datos son sinténticos para evaluar como se comporta el modelo real sobre los datos:"
   ]
  },
  {
   "cell_type": "code",
   "execution_count": null,
   "metadata": {
    "collapsed": true,
    "jupyter": {
     "outputs_hidden": true
    }
   },
   "outputs": [],
   "source": [
    "np.dot?"
   ]
  },
  {
   "cell_type": "code",
   "execution_count": null,
   "metadata": {
    "collapsed": false,
    "jupyter": {
     "outputs_hidden": false
    }
   },
   "outputs": [],
   "source": [
    "from sklearn.metrics import r2_score\n",
    "r2_score(np.dot(X, coefs), y)"
   ]
  },
  {
   "cell_type": "markdown",
   "metadata": {},
   "source": [
    "Por lo que podemos decir que un $R^2 \\approx 0.6$ es un resultado ideal para nuestro conjunto de datos. "
   ]
  },
  {
   "cell_type": "markdown",
   "metadata": {},
   "source": [
    "También vamos a aprovechar que tenemos conjuntos de datos sinténticos para comparar los coeficientes del aprendidos por el modelo con los coeficientes reales de nuestros datos sinténticos:"
   ]
  },
  {
   "cell_type": "code",
   "execution_count": null,
   "metadata": {
    "collapsed": true,
    "jupyter": {
     "outputs_hidden": true
    }
   },
   "outputs": [],
   "source": [
    "coefs_sorted = np.argsort(coefs)[::-1]\n",
    "coefs[coefs_sorted]"
   ]
  },
  {
   "cell_type": "code",
   "execution_count": null,
   "metadata": {
    "collapsed": false,
    "jupyter": {
     "outputs_hidden": false
    }
   },
   "outputs": [],
   "source": [
    "plt.plot(coefs[coefs_sorted], \"o\", label=\"Coefs verdaderos\")\n",
    "plt.plot(regr.coef_[coefs_sorted], \"o\", label=\"Coefs estimados\")\n",
    "plt.xlabel(\"Coefs\")\n",
    "plt.ylabel(\"Valor Coef\")\n",
    "plt.legend()\n",
    "\n",
    "plt.show()"
   ]
  },
  {
   "cell_type": "markdown",
   "metadata": {},
   "source": [
    "Un método muy útil para conocer si nuestro modelo sufre de *underfitting* o de *overfitting* es calcular las curvas de aprendizaje. Éstas muestran el score del modelo en los conjuntos de training y de test para un número determinado de muestras de entrenamiento."
   ]
  },
  {
   "cell_type": "code",
   "execution_count": null,
   "metadata": {
    "collapsed": true,
    "jupyter": {
     "outputs_hidden": true
    }
   },
   "outputs": [],
   "source": [
    "from sklearn.model_selection import learning_curve"
   ]
  },
  {
   "cell_type": "code",
   "execution_count": null,
   "metadata": {
    "collapsed": false,
    "jupyter": {
     "outputs_hidden": false
    }
   },
   "outputs": [],
   "source": [
    "def plot_learning_curve(est, X, y):\n",
    "    \n",
    "    train_size, train_score, test_score = learning_curve(est, X, y,\n",
    "                                                         train_sizes=np.linspace(0.1, 1, 20))\n",
    "    plt.plot(train_size, train_score.mean(axis=1), \"-\", label=\"Train\")\n",
    "    plt.plot(train_size, test_score.mean(axis=1), \"-\", label=\"Test\")\n",
    "    plt.ylim(-0.1, 1.1)\n",
    "    plt.legend()\n",
    "\n",
    "    plt.show()"
   ]
  },
  {
   "cell_type": "code",
   "execution_count": null,
   "metadata": {
    "collapsed": false,
    "jupyter": {
     "outputs_hidden": false
    }
   },
   "outputs": [],
   "source": [
    "plot_learning_curve(LinearRegression(),X, y)"
   ]
  },
  {
   "cell_type": "markdown",
   "metadata": {},
   "source": [
    "## Ridge Regression (L2 penalty)\n",
    "\n",
    "La **Regresión de Ridge** es un método de regularización que impone una restricción a los pesos del modelo de regresión simple. La regresión que impone la Regresión de Ridge se basa en la norma $L2$. Este tipo de regularización tiene la ventaja de no ser mucho más pesada computacionalmente que una regresión por OLS.\n",
    "\n",
    "$$ \\text{min}_{w,b}  \\sum_i || w^\\mathsf{T}x_i + b  - y_i||^2  + \\alpha ||w||_2^2$$ "
   ]
  },
  {
   "cell_type": "markdown",
   "metadata": {},
   "source": [
    "Como vemos, la Regresión de Ridge, es muy parecida a la Regresión Lineal. La única diferencia entre ambas es que Ridge añade la norma L2 a la función de minimización.\n",
    "\n",
    "El parámetro libre $\\alpha$ regula la cantidad de regularización que queemos aplicar al modelo. Vamos a probar varios valores de $\\alpha$ para evaluar como afecta al performance del modelo:"
   ]
  },
  {
   "cell_type": "code",
   "execution_count": null,
   "metadata": {
    "collapsed": false,
    "jupyter": {
     "outputs_hidden": false
    }
   },
   "outputs": [],
   "source": [
    "from sklearn.linear_model import Ridge\n",
    "\n",
    "regr = Ridge(alpha=1)\n",
    "regr.fit(X_train, y_train)\n",
    "\n",
    "print(regr.score(X_train, y_train), regr.score(X_test, y_test))"
   ]
  },
  {
   "cell_type": "code",
   "execution_count": null,
   "metadata": {
    "collapsed": true,
    "jupyter": {
     "outputs_hidden": true
    }
   },
   "outputs": [],
   "source": [
    "train_r2 = []\n",
    "test_r2 = []\n",
    "alphas = [0.001, 0.01, 0.1, 1, 5, 10, 30, 100]\n",
    "ridge_models = {}\n",
    "\n",
    "for alpha in alphas:\n",
    "    regr = Ridge(alpha=alpha)\n",
    "    regr.fit(X_train, y_train)\n",
    "    train_r2.append(regr.score(X_train, y_train))\n",
    "    test_r2.append(regr.score(X_test, y_test))\n",
    "    ridge_models[alpha] = regr\n",
    "    \n",
    "plt.plot(train_r2, label=\"R2 Train\")\n",
    "plt.plot(test_r2, label=\"R2 Test\")\n",
    "plt.xticks(range(len(alphas)), alphas)\n",
    "plt.legend()\n",
    "\n",
    "plt.show()"
   ]
  },
  {
   "cell_type": "markdown",
   "metadata": {},
   "source": [
    "Tenemos el máximo score en el conjunto de test para $\\alpha = 10$.\n",
    "\n",
    "\n",
    "**EJERCICIO**:\n",
    "\n",
    "- Qué le ocurre al modelo para valores de $\\alpha$ menores a 10?\n",
    "- Qué le ocurre al modelo par avalores de $\\alpha$ mayores a 10?"
   ]
  },
  {
   "cell_type": "markdown",
   "metadata": {},
   "source": [
    "Vamos a ver lo ocurre con los coeficientes:"
   ]
  },
  {
   "cell_type": "code",
   "execution_count": null,
   "metadata": {
    "collapsed": false,
    "jupyter": {
     "outputs_hidden": false
    }
   },
   "outputs": [],
   "source": [
    "plt.plot(coefs[coefs_sorted], \"s\", label=\"Coefs Verdaderos\")\n",
    "\n",
    "for alpha in [100, 10]:\n",
    "    plt.plot(ridge_models[alpha].coef_[coefs_sorted], \"o\",\n",
    "             label=\"alpha = \" + str(alpha))\n",
    "plt.legend()\n",
    "plt.show()"
   ]
  },
  {
   "cell_type": "markdown",
   "metadata": {},
   "source": [
    "- Valores altos de $\\alpha$ producen que el modelo tienda a ajustar los pesos a 0.\n",
    "  - Es decir, aumentan el bias del modelo.\n",
    "- Valores bajos de $\\alpha$ producen que el modelo se comporte como una regresión lineal sin regularización."
   ]
  },
  {
   "cell_type": "markdown",
   "metadata": {},
   "source": [
    "En **resumen**: es muy importante elegir el valor óptimo de $\\alpha$. "
   ]
  },
  {
   "cell_type": "markdown",
   "metadata": {},
   "source": [
    "Ahora vamos a ver las curvas de aprendizaje del modelo de Ridge vs la Regresión Lineal."
   ]
  },
  {
   "cell_type": "code",
   "execution_count": null,
   "metadata": {
    "collapsed": true,
    "jupyter": {
     "outputs_hidden": true
    }
   },
   "outputs": [],
   "source": [
    "plt.style.use(\"ggplot\")"
   ]
  },
  {
   "cell_type": "code",
   "execution_count": null,
   "metadata": {
    "collapsed": true,
    "jupyter": {
     "outputs_hidden": true
    }
   },
   "outputs": [],
   "source": [
    "plt.subplot(211)\n",
    "plot_learning_curve(LinearRegression(), X, y)\n",
    "plt.subplot(212)\n",
    "plot_learning_curve(Ridge(alpha=10), X, y)\n",
    "\n",
    "plt.show()"
   ]
  },
  {
   "cell_type": "markdown",
   "metadata": {},
   "source": [
    "## Lasso (L1 penalty)\n",
    "\n",
    "La **Regresión de Lasso** es otro tipo de regularización pero que impone una restrucción utilizando la norma $L1$. Este tipo de regularización es útil cuando creemos que muchas de los parámetros del modelo no son relevantes (como es el caso de nuestro dataset). \n",
    "\n",
    "$$ \\text{min}_{w, b} \\sum_i || w^\\mathsf{T}x_i + b  - y_i||^2  + \\alpha ||w||_1$$ "
   ]
  },
  {
   "cell_type": "code",
   "execution_count": null,
   "metadata": {
    "collapsed": true,
    "jupyter": {
     "outputs_hidden": true
    }
   },
   "outputs": [],
   "source": [
    "from sklearn.linear_model import Lasso"
   ]
  },
  {
   "cell_type": "code",
   "execution_count": null,
   "metadata": {
    "collapsed": true,
    "jupyter": {
     "outputs_hidden": true
    }
   },
   "outputs": [],
   "source": [
    "train_r2_lasso = []\n",
    "test_r2_lasso = []\n",
    "alphas = [0.001, 0.01, 0.1, 1, 5, 10, 30, 100]\n",
    "lasso_models = {}\n",
    "\n",
    "for alpha in alphas:\n",
    "    regr = Lasso(alpha=alpha)\n",
    "    regr.fit(X_train, y_train)\n",
    "    train_r2_lasso.append(regr.score(X_train, y_train))\n",
    "    test_r2_lasso.append(regr.score(X_test, y_test))\n",
    "    lasso_models[alpha] = regr\n"
   ]
  },
  {
   "cell_type": "code",
   "execution_count": null,
   "metadata": {
    "collapsed": true,
    "jupyter": {
     "outputs_hidden": true
    }
   },
   "outputs": [],
   "source": [
    "plt.subplot(211)\n",
    "plt.title(\"Lasso\")\n",
    "plt.plot(train_r2_lasso, label=\"R2 Train\")\n",
    "plt.plot(test_r2_lasso, label=\"R2 Test\")\n",
    "plt.ylim(0, 1)\n",
    "plt.xticks(range(len(alphas)), alphas)\n",
    "plt.legend()\n",
    "\n",
    "plt.subplot(212)\n",
    "plt.title(\"Ridge\")\n",
    "plt.plot(train_r2, label=\"R2 Train\")\n",
    "plt.plot(test_r2, label=\"R2 Test\")\n",
    "plt.ylim(0, 1)\n",
    "plt.xticks(range(len(alphas)), alphas)\n",
    "plt.legend()\n",
    "\n",
    "plt.show()"
   ]
  },
  {
   "cell_type": "code",
   "execution_count": null,
   "metadata": {
    "collapsed": true,
    "jupyter": {
     "outputs_hidden": true
    }
   },
   "outputs": [],
   "source": [
    "plt.plot(coefs[coefs_sorted], \"s\", label=\"Coefs Verdaderos\")\n",
    "\n",
    "for alpha in [30, 10]:\n",
    "    plt.plot(lasso_models[alpha].coef_[coefs_sorted], \"o-\",\n",
    "             label=\"alpha = \" + str(alpha))\n",
    "plt.legend()\n",
    "plt.show()"
   ]
  },
  {
   "cell_type": "code",
   "execution_count": null,
   "metadata": {
    "collapsed": false,
    "jupyter": {
     "outputs_hidden": false
    }
   },
   "outputs": [],
   "source": [
    "plt.subplot(311)\n",
    "plt.title(\"Reg Lineal\")\n",
    "plot_learning_curve(LinearRegression(), X, y)\n",
    "plt.subplot(312)\n",
    "plt.title(\"Ridge\")\n",
    "plot_learning_curve(Ridge(alpha=10), X, y)\n",
    "plt.subplot(313)\n",
    "plt.title(\"Lasso\")\n",
    "plot_learning_curve(Lasso(alpha=10), X, y)\n",
    "\n",
    "plt.show()"
   ]
  },
  {
   "cell_type": "markdown",
   "metadata": {},
   "source": [
    "### Ejercicio 1"
   ]
  },
  {
   "cell_type": "markdown",
   "metadata": {},
   "source": [
    "Ajusta los algoritmos de regresión de Ridge y Lasso al dataset `YearPredictionMSD.txt` seleccionando los $\\alpha$ óptimos para cada uno de ellos. Compara los resultados con los obtenidos con **regresión lineal clásica**.\n",
    "\n",
    "0. Seleccionar una muestra aleatoria de 10000 observaciones del dataset original (`DataFrame.sample?`).\n",
    "1. Determinar el mejor $\\alpha$ para Ridge y Lasso.\n",
    "2. Representar los coeficientes de los modelos de regresión lineal, Ridge y Lasso.\n",
    "3. Representar las curvas de aprendizaje para los tres modelos."
   ]
  },
  {
   "cell_type": "markdown",
   "metadata": {},
   "source": [
    "Cargamos el dataset"
   ]
  },
  {
   "cell_type": "code",
   "execution_count": 1,
   "metadata": {},
   "outputs": [
    {
     "name": "stdout",
     "output_type": "stream",
     "text": [
      "/home/bigdatafutura/Sesion 03\n"
     ]
    }
   ],
   "source": [
    "!pwd"
   ]
  },
  {
   "cell_type": "code",
   "execution_count": 83,
   "metadata": {
    "collapsed": false,
    "jupyter": {
     "outputs_hidden": false
    }
   },
   "outputs": [
    {
     "data": {
      "text/html": [
       "<div>\n",
       "<style scoped>\n",
       "    .dataframe tbody tr th:only-of-type {\n",
       "        vertical-align: middle;\n",
       "    }\n",
       "\n",
       "    .dataframe tbody tr th {\n",
       "        vertical-align: top;\n",
       "    }\n",
       "\n",
       "    .dataframe thead th {\n",
       "        text-align: right;\n",
       "    }\n",
       "</style>\n",
       "<table border=\"1\" class=\"dataframe\">\n",
       "  <thead>\n",
       "    <tr style=\"text-align: right;\">\n",
       "      <th></th>\n",
       "      <th>target</th>\n",
       "      <th>timbre_avg_1</th>\n",
       "      <th>timbre_avg_2</th>\n",
       "      <th>timbre_avg_3</th>\n",
       "      <th>timbre_avg_4</th>\n",
       "      <th>timbre_avg_5</th>\n",
       "      <th>timbre_avg_6</th>\n",
       "      <th>timbre_avg_7</th>\n",
       "      <th>timbre_avg_8</th>\n",
       "      <th>timbre_avg_9</th>\n",
       "      <th>...</th>\n",
       "      <th>timbre_cov_69</th>\n",
       "      <th>timbre_cov_70</th>\n",
       "      <th>timbre_cov_71</th>\n",
       "      <th>timbre_cov_72</th>\n",
       "      <th>timbre_cov_73</th>\n",
       "      <th>timbre_cov_74</th>\n",
       "      <th>timbre_cov_75</th>\n",
       "      <th>timbre_cov_76</th>\n",
       "      <th>timbre_cov_77</th>\n",
       "      <th>timbre_cov_78</th>\n",
       "    </tr>\n",
       "  </thead>\n",
       "  <tbody>\n",
       "    <tr>\n",
       "      <th>0</th>\n",
       "      <td>2001</td>\n",
       "      <td>49.94357</td>\n",
       "      <td>21.47114</td>\n",
       "      <td>73.07750</td>\n",
       "      <td>8.74861</td>\n",
       "      <td>-17.40628</td>\n",
       "      <td>-13.09905</td>\n",
       "      <td>-25.01202</td>\n",
       "      <td>-12.23257</td>\n",
       "      <td>7.83089</td>\n",
       "      <td>...</td>\n",
       "      <td>13.01620</td>\n",
       "      <td>-54.40548</td>\n",
       "      <td>58.99367</td>\n",
       "      <td>15.37344</td>\n",
       "      <td>1.11144</td>\n",
       "      <td>-23.08793</td>\n",
       "      <td>68.40795</td>\n",
       "      <td>-1.82223</td>\n",
       "      <td>-27.46348</td>\n",
       "      <td>2.26327</td>\n",
       "    </tr>\n",
       "    <tr>\n",
       "      <th>1</th>\n",
       "      <td>2001</td>\n",
       "      <td>48.73215</td>\n",
       "      <td>18.42930</td>\n",
       "      <td>70.32679</td>\n",
       "      <td>12.94636</td>\n",
       "      <td>-10.32437</td>\n",
       "      <td>-24.83777</td>\n",
       "      <td>8.76630</td>\n",
       "      <td>-0.92019</td>\n",
       "      <td>18.76548</td>\n",
       "      <td>...</td>\n",
       "      <td>5.66812</td>\n",
       "      <td>-19.68073</td>\n",
       "      <td>33.04964</td>\n",
       "      <td>42.87836</td>\n",
       "      <td>-9.90378</td>\n",
       "      <td>-32.22788</td>\n",
       "      <td>70.49388</td>\n",
       "      <td>12.04941</td>\n",
       "      <td>58.43453</td>\n",
       "      <td>26.92061</td>\n",
       "    </tr>\n",
       "    <tr>\n",
       "      <th>2</th>\n",
       "      <td>2001</td>\n",
       "      <td>50.95714</td>\n",
       "      <td>31.85602</td>\n",
       "      <td>55.81851</td>\n",
       "      <td>13.41693</td>\n",
       "      <td>-6.57898</td>\n",
       "      <td>-18.54940</td>\n",
       "      <td>-3.27872</td>\n",
       "      <td>-2.35035</td>\n",
       "      <td>16.07017</td>\n",
       "      <td>...</td>\n",
       "      <td>3.03800</td>\n",
       "      <td>26.05866</td>\n",
       "      <td>-50.92779</td>\n",
       "      <td>10.93792</td>\n",
       "      <td>-0.07568</td>\n",
       "      <td>43.20130</td>\n",
       "      <td>-115.00698</td>\n",
       "      <td>-0.05859</td>\n",
       "      <td>39.67068</td>\n",
       "      <td>-0.66345</td>\n",
       "    </tr>\n",
       "  </tbody>\n",
       "</table>\n",
       "<p>3 rows × 91 columns</p>\n",
       "</div>"
      ],
      "text/plain": [
       "   target  timbre_avg_1  timbre_avg_2  timbre_avg_3  timbre_avg_4  \\\n",
       "0    2001      49.94357      21.47114      73.07750       8.74861   \n",
       "1    2001      48.73215      18.42930      70.32679      12.94636   \n",
       "2    2001      50.95714      31.85602      55.81851      13.41693   \n",
       "\n",
       "   timbre_avg_5  timbre_avg_6  timbre_avg_7  timbre_avg_8  timbre_avg_9  \\\n",
       "0     -17.40628     -13.09905     -25.01202     -12.23257       7.83089   \n",
       "1     -10.32437     -24.83777       8.76630      -0.92019      18.76548   \n",
       "2      -6.57898     -18.54940      -3.27872      -2.35035      16.07017   \n",
       "\n",
       "       ...        timbre_cov_69  timbre_cov_70  timbre_cov_71  timbre_cov_72  \\\n",
       "0      ...             13.01620      -54.40548       58.99367       15.37344   \n",
       "1      ...              5.66812      -19.68073       33.04964       42.87836   \n",
       "2      ...              3.03800       26.05866      -50.92779       10.93792   \n",
       "\n",
       "   timbre_cov_73  timbre_cov_74  timbre_cov_75  timbre_cov_76  timbre_cov_77  \\\n",
       "0        1.11144      -23.08793       68.40795       -1.82223      -27.46348   \n",
       "1       -9.90378      -32.22788       70.49388       12.04941       58.43453   \n",
       "2       -0.07568       43.20130     -115.00698       -0.05859       39.67068   \n",
       "\n",
       "   timbre_cov_78  \n",
       "0        2.26327  \n",
       "1       26.92061  \n",
       "2       -0.66345  \n",
       "\n",
       "[3 rows x 91 columns]"
      ]
     },
     "execution_count": 83,
     "metadata": {},
     "output_type": "execute_result"
    }
   ],
   "source": [
    "PATH = \"/home/bigdatafutura/Sesion 03/files/YearPredictionMSD.txt\"\n",
    "\n",
    "columns = [\"target\"] + [\"timbre_avg_\" + str(i) for i in range(1, 13)]\n",
    "columns = columns + [\"timbre_cov_\" + str(i) for i in range(1, 79)]\n",
    "len(columns)\n",
    "\n",
    "df = pd.read_csv(PATH, names=columns, header=None)\n",
    "df.head(3)"
   ]
  },
  {
   "cell_type": "markdown",
   "metadata": {},
   "source": [
    "Muestreamos y hacemos split"
   ]
  },
  {
   "cell_type": "code",
   "execution_count": 84,
   "metadata": {
    "collapsed": false,
    "jupyter": {
     "outputs_hidden": false
    }
   },
   "outputs": [
    {
     "data": {
      "text/plain": [
       "(10000, 91)"
      ]
     },
     "execution_count": 84,
     "metadata": {},
     "output_type": "execute_result"
    }
   ],
   "source": [
    "df = df.sample(n=10000, random_state=5)\n",
    "df.shape"
   ]
  },
  {
   "cell_type": "code",
   "execution_count": 85,
   "metadata": {
    "collapsed": false,
    "jupyter": {
     "outputs_hidden": false
    }
   },
   "outputs": [
    {
     "name": "stderr",
     "output_type": "stream",
     "text": [
      "/bk/bigdata/working_dir/bancadigital/se07080/bk/anaconda/envs/p_se07080/lib/python3.5/site-packages/sklearn/model_selection/_split.py:2026: FutureWarning: From version 0.21, test_size will always complement train_size unless both are specified.\n",
      "  FutureWarning)\n"
     ]
    }
   ],
   "source": [
    "from sklearn.model_selection import train_test_split\n",
    "\n",
    "X_train, X_test, y_train, y_test = train_test_split(df[df.columns[1:]], df[\"target\"],\n",
    "                                                    train_size=0.8, random_state=5)"
   ]
  },
  {
   "cell_type": "markdown",
   "metadata": {},
   "source": [
    "Ajustamos Ridge"
   ]
  },
  {
   "cell_type": "code",
   "execution_count": 86,
   "metadata": {
    "collapsed": false,
    "jupyter": {
     "outputs_hidden": false
    }
   },
   "outputs": [
    {
     "data": {
      "image/png": "[encoded data removed]",
      "text/plain": [
       "<Figure size 432x288 with 1 Axes>"
      ]
     },
     "metadata": {},
     "output_type": "display_data"
    }
   ],
   "source": [
    "from sklearn.linear_model import Ridge\n",
    "\n",
    "train_r2 = []\n",
    "test_r2 = []\n",
    "alphas = [0.001, 0.01, 0.1, 1, 5, 10, 30, 100]\n",
    "ridge_models = {}\n",
    "\n",
    "for alpha in alphas:\n",
    "    regr = Ridge(alpha=alpha)\n",
    "    regr.fit(X_train, y_train)\n",
    "    train_r2.append(regr.score(X_train, y_train))\n",
    "    test_r2.append(regr.score(X_test, y_test))\n",
    "    ridge_models[alpha] = regr\n",
    "\n",
    "plt.title(\"Ridge\")\n",
    "plt.plot(train_r2, label=\"R2 Train\")\n",
    "plt.plot(test_r2, label=\"R2 Test\")\n",
    "plt.ylim(0.19, 0.41)\n",
    "plt.xticks(range(len(alphas)), alphas)\n",
    "plt.legend()\n",
    "\n",
    "plt.show()"
   ]
  },
  {
   "cell_type": "code",
   "execution_count": 89,
   "metadata": {
    "collapsed": true,
    "jupyter": {
     "outputs_hidden": true
    }
   },
   "outputs": [
    {
     "data": {
      "text/plain": [
       "[0.23770653597275537,\n",
       " 0.23770653821162713,\n",
       " 0.23770656060020667,\n",
       " 0.23770678447188742,\n",
       " 0.23770777914655283,\n",
       " 0.23770902177698916,\n",
       " 0.23771398438332547,\n",
       " 0.23773125400396444]"
      ]
     },
     "execution_count": 89,
     "metadata": {},
     "output_type": "execute_result"
    }
   ],
   "source": [
    "test_r2"
   ]
  },
  {
   "cell_type": "code",
   "execution_count": 87,
   "metadata": {
    "collapsed": false,
    "jupyter": {
     "outputs_hidden": false
    }
   },
   "outputs": [
    {
     "data": {
      "text/plain": [
       "100"
      ]
     },
     "execution_count": 87,
     "metadata": {},
     "output_type": "execute_result"
    }
   ],
   "source": [
    "alphas[np.argmax(test_r2)]"
   ]
  },
  {
   "cell_type": "markdown",
   "metadata": {},
   "source": [
    "Ajustamos Lasso"
   ]
  },
  {
   "cell_type": "code",
   "execution_count": 90,
   "metadata": {
    "collapsed": false,
    "jupyter": {
     "outputs_hidden": false
    }
   },
   "outputs": [
    {
     "data": {
      "image/png": "[encoded data removed]",
      "text/plain": [
       "<Figure size 432x288 with 1 Axes>"
      ]
     },
     "metadata": {},
     "output_type": "display_data"
    }
   ],
   "source": [
    "from sklearn.linear_model import Lasso\n",
    "\n",
    "train_r2_lasso = []\n",
    "test_r2_lasso = []\n",
    "alphas = [0.001, 0.01, 0.1, 1, 5, 10, 30, 100]\n",
    "lasso_models = {}\n",
    "\n",
    "for alpha in alphas:\n",
    "    regr = Lasso(alpha=alpha)\n",
    "    regr.fit(X_train, y_train)\n",
    "    train_r2_lasso.append(regr.score(X_train, y_train))\n",
    "    test_r2_lasso.append(regr.score(X_test, y_test))\n",
    "    ridge_models[alpha] = regr\n",
    "\n",
    "plt.title(\"Lasso\")\n",
    "plt.plot(train_r2_lasso, label=\"R2 Train\")\n",
    "plt.plot(test_r2_lasso, label=\"R2 Test\")\n",
    "plt.ylim(0, 0.5)\n",
    "plt.xticks(range(len(alphas)), alphas)\n",
    "plt.legend()\n",
    "\n",
    "plt.show()"
   ]
  },
  {
   "cell_type": "code",
   "execution_count": 92,
   "metadata": {
    "collapsed": false,
    "jupyter": {
     "outputs_hidden": false
    }
   },
   "outputs": [
    {
     "data": {
      "text/plain": [
       "[0.23771299147562397,\n",
       " 0.23777046353830059,\n",
       " 0.2382815938266326,\n",
       " 0.23930599554771592,\n",
       " 0.21913789540847006,\n",
       " 0.1581043221335363,\n",
       " 0.08833950789474788,\n",
       " 0.04871802655021562]"
      ]
     },
     "execution_count": 92,
     "metadata": {},
     "output_type": "execute_result"
    }
   ],
   "source": [
    "test_r2_lasso"
   ]
  },
  {
   "cell_type": "code",
   "execution_count": 91,
   "metadata": {
    "collapsed": false,
    "jupyter": {
     "outputs_hidden": false
    }
   },
   "outputs": [
    {
     "data": {
      "text/plain": [
       "1"
      ]
     },
     "execution_count": 91,
     "metadata": {},
     "output_type": "execute_result"
    }
   ],
   "source": [
    "alphas[np.argmax(test_r2_lasso)]"
   ]
  },
  {
   "cell_type": "markdown",
   "metadata": {},
   "source": [
    "Graficamos las Learning Curves"
   ]
  },
  {
   "cell_type": "code",
   "execution_count": 93,
   "metadata": {
    "collapsed": true,
    "jupyter": {
     "outputs_hidden": true
    }
   },
   "outputs": [],
   "source": [
    "def plot_learning_curve(est, X, y):\n",
    "    \n",
    "    train_size, train_score, test_score = learning_curve(est, X, y,\n",
    "                                                         train_sizes=np.linspace(0.1, 1, 20))\n",
    "    max_r2 = np.max(test_score.mean(axis=1))\n",
    "    plt.plot(train_size, train_score.mean(axis=1), \"-\", label=\"Train\")\n",
    "    plt.plot(train_size, test_score.mean(axis=1), \"-\", label=\"Test\")\n",
    "    plt.plot([np.min(train_size),np.max(train_size)],\n",
    "             [max_r2, max_r2], \"--\", label=\"Max R2\",c=\"black\")\n",
    "    plt.ylim(-0.1, 1.1)\n",
    "    plt.legend()\n",
    "\n",
    "    plt.show()"
   ]
  },
  {
   "cell_type": "code",
   "execution_count": 94,
   "metadata": {
    "collapsed": true,
    "jupyter": {
     "outputs_hidden": true
    }
   },
   "outputs": [],
   "source": [
    "from sklearn.linear_model import LinearRegression"
   ]
  },
  {
   "cell_type": "code",
   "execution_count": 95,
   "metadata": {
    "collapsed": false,
    "jupyter": {
     "outputs_hidden": false
    }
   },
   "outputs": [
    {
     "data": {
      "image/png": "[encoded data removed]",
      "text/plain": [
       "<Figure size 720x720 with 1 Axes>"
      ]
     },
     "metadata": {},
     "output_type": "display_data"
    },
    {
     "data": {
      "image/png": "[encoded data removed]",
      "text/plain": [
       "<Figure size 720x720 with 1 Axes>"
      ]
     },
     "metadata": {},
     "output_type": "display_data"
    },
    {
     "data": {
      "image/png": "[encoded data removed]",
      "text/plain": [
       "<Figure size 720x720 with 1 Axes>"
      ]
     },
     "metadata": {},
     "output_type": "display_data"
    }
   ],
   "source": [
    "plt.figure(figsize=(10,10))\n",
    "plt.subplot(311)\n",
    "plot_learning_curve(LinearRegression(), X_train, y_train)\n",
    "plt.figure(figsize=(10,10))\n",
    "plt.subplot(312)\n",
    "plot_learning_curve(Ridge(alpha=alphas[np.argmax(test_r2)]), X_train, y_train)\n",
    "plt.figure(figsize=(10,10))\n",
    "plt.subplot(313)\n",
    "plot_learning_curve(Lasso(alpha=alphas[np.argmax(test_r2_lasso)]), X_train, y_train)"
   ]
  },
  {
   "cell_type": "markdown",
   "metadata": {},
   "source": [
    "Graficamos los coeficientes"
   ]
  },
  {
   "cell_type": "code",
   "execution_count": 96,
   "metadata": {
    "collapsed": false,
    "jupyter": {
     "outputs_hidden": false
    }
   },
   "outputs": [
    {
     "data": {
      "text/plain": [
       "Lasso(alpha=1, copy_X=True, fit_intercept=True, max_iter=1000,\n",
       "   normalize=False, positive=False, precompute=False, random_state=None,\n",
       "   selection='cyclic', tol=0.0001, warm_start=False)"
      ]
     },
     "execution_count": 96,
     "metadata": {},
     "output_type": "execute_result"
    }
   ],
   "source": [
    "linear = LinearRegression()\n",
    "linear.fit(X_train, y_train)\n",
    "\n",
    "ridge = Ridge(alpha=alphas[np.argmax(test_r2)])\n",
    "ridge.fit(X_train, y_train)\n",
    "\n",
    "lasso = Lasso(alpha=alphas[np.argmax(test_r2_lasso)])\n",
    "lasso.fit(X_train, y_train)\n"
   ]
  },
  {
   "cell_type": "code",
   "execution_count": 97,
   "metadata": {
    "collapsed": false,
    "jupyter": {
     "outputs_hidden": false
    }
   },
   "outputs": [
    {
     "data": {
      "image/png": "[encoded data removed]",
      "text/plain": [
       "<Figure size 432x288 with 1 Axes>"
      ]
     },
     "metadata": {},
     "output_type": "display_data"
    }
   ],
   "source": [
    "plt.plot(linear.coef_, \"s\", label=\"Lineal\")\n",
    "plt.plot(ridge.coef_, \"o-\", label=\"Ridge Alpha \" + str(alphas[np.argmax(test_r2)]))\n",
    "\n",
    "plt.legend()\n",
    "plt.show()"
   ]
  },
  {
   "cell_type": "code",
   "execution_count": 98,
   "metadata": {
    "collapsed": false,
    "jupyter": {
     "outputs_hidden": false
    }
   },
   "outputs": [
    {
     "data": {
      "image/png": "[encoded data removed]",
      "text/plain": [
       "<Figure size 432x288 with 1 Axes>"
      ]
     },
     "metadata": {},
     "output_type": "display_data"
    }
   ],
   "source": [
    "plt.plot(linear.coef_, \"s\", label=\"Lineal\")\n",
    "plt.plot(lasso.coef_, \"o-\", label=\"Ridge Lasso \" + str(alphas[np.argmax(test_r2_lasso)]))\n",
    "\n",
    "plt.legend()\n",
    "plt.show()"
   ]
  },
  {
   "cell_type": "markdown",
   "metadata": {},
   "source": [
    "\n"
   ]
  }
 ],
 "metadata": {
  "anaconda-cloud": {},
  "kernelspec": {
   "display_name": "p_env_ds",
   "language": "python",
   "name": "env-ds"
  },
  "language_info": {
   "codemirror_mode": {
    "name": "ipython",
    "version": 3
   },
   "file_extension": ".py",
   "mimetype": "text/x-python",
   "name": "python",
   "nbconvert_exporter": "python",
   "pygments_lexer": "ipython3",
   "version": "3.7.9"
  },
  "toc": {
   "base_numbering": 1,
   "nav_menu": {},
   "number_sections": true,
   "sideBar": true,
   "skip_h1_title": true,
   "title_cell": "Table of Contents",
   "title_sidebar": "Contents",
   "toc_cell": true,
   "toc_position": {
    "height": "calc(100% - 180px)",
    "left": "10px",
    "top": "150px",
    "width": "282px"
   },
   "toc_section_display": true,
   "toc_window_display": true
  },
  "varInspector": {
   "cols": {
    "lenName": 16,
    "lenType": 16,
    "lenVar": 40
   },
   "kernels_config": {
    "python": {
     "delete_cmd_postfix": "",
     "delete_cmd_prefix": "del ",
     "library": "var_list.py",
     "varRefreshCmd": "print(var_dic_list())"
    },
    "r": {
     "delete_cmd_postfix": ") ",
     "delete_cmd_prefix": "rm(",
     "library": "var_list.r",
     "varRefreshCmd": "cat(var_dic_list()) "
    }
   },
   "types_to_exclude": [
    "module",
    "function",
    "builtin_function_or_method",
    "instance",
    "_Feature"
   ],
   "window_display": false
  }
 },
 "nbformat": 4,
 "nbformat_minor": 4
}
