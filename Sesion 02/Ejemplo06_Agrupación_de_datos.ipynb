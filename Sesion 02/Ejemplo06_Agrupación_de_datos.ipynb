{
 "cells": [
  {
   "cell_type": "markdown",
   "metadata": {
    "colab_type": "text",
    "id": "K2teubACAkRb"
   },
   "source": [
    "# Agregación de datos por categoría"
   ]
  },
  {
   "cell_type": "code",
   "execution_count": 1,
   "metadata": {
    "colab": {},
    "colab_type": "code",
    "id": "zwuY-TMgAkRc"
   },
   "outputs": [],
   "source": [
    "import numpy as np\n",
    "import pandas as pd"
   ]
  },
  {
   "cell_type": "code",
   "execution_count": 2,
   "metadata": {
    "colab": {},
    "colab_type": "code",
    "id": "0r6-BV-FAkRi"
   },
   "outputs": [],
   "source": [
    "gender = [\"Male\", \"Female\"]\n",
    "income = [\"Poor\", \"Middle Class\", \"Rich\"]"
   ]
  },
  {
   "cell_type": "code",
   "execution_count": 3,
   "metadata": {
    "colab": {},
    "colab_type": "code",
    "id": "dUOu8paRAkRl"
   },
   "outputs": [],
   "source": [
    "n = 500\n",
    "\n",
    "gender_data = []\n",
    "income_data = []\n",
    "\n",
    "for i in range(0,500):\n",
    "    gender_data.append(np.random.choice(gender))\n",
    "    income_data.append(np.random.choice(income))"
   ]
  },
  {
   "cell_type": "code",
   "execution_count": 4,
   "metadata": {
    "colab": {
     "base_uri": "https://localhost:8080/",
     "height": 170
    },
    "colab_type": "code",
    "id": "wz2m3fpuAkRo",
    "outputId": "fe626221-e112-4cdd-cfb3-6d68a36045b8"
   },
   "outputs": [
    {
     "data": {
      "text/plain": [
       "['Female', 'Female', 'Male', 'Female', 'Male', 'Male', 'Male', 'Male', 'Male']"
      ]
     },
     "execution_count": 4,
     "metadata": {},
     "output_type": "execute_result"
    }
   ],
   "source": [
    "gender_data[1:10]"
   ]
  },
  {
   "cell_type": "code",
   "execution_count": 5,
   "metadata": {
    "colab": {
     "base_uri": "https://localhost:8080/",
     "height": 170
    },
    "colab_type": "code",
    "id": "CafW2UzYAkRr",
    "outputId": "748ee054-8376-4ff8-c445-9d4734231046"
   },
   "outputs": [
    {
     "data": {
      "text/plain": [
       "['Poor',\n",
       " 'Poor',\n",
       " 'Rich',\n",
       " 'Poor',\n",
       " 'Middle Class',\n",
       " 'Middle Class',\n",
       " 'Middle Class',\n",
       " 'Rich',\n",
       " 'Middle Class']"
      ]
     },
     "execution_count": 5,
     "metadata": {},
     "output_type": "execute_result"
    }
   ],
   "source": [
    "income_data[1:10]"
   ]
  },
  {
   "cell_type": "code",
   "execution_count": 6,
   "metadata": {
    "colab": {},
    "colab_type": "code",
    "id": "Q53rIw03AkRu"
   },
   "outputs": [],
   "source": [
    "#Z -> N(0,1)\n",
    "#N(m, s) -> m + s * Z\n",
    "height = 160 + 30 * np.random.randn(n)\n",
    "weight = 65 + 25 * np.random.randn(n)\n",
    "age = 30 + 12 * np.random.randn(n)\n",
    "income = 18000 + 3500 * np.random.rand(n)"
   ]
  },
  {
   "cell_type": "code",
   "execution_count": 7,
   "metadata": {
    "colab": {},
    "colab_type": "code",
    "id": "tUaeOrqrAkRv"
   },
   "outputs": [],
   "source": [
    "data = pd.DataFrame(\n",
    "    {\n",
    "        \"Gender\" : gender_data,\n",
    "        \"Economic Status\" : income_data,\n",
    "        \"Height\" : height,\n",
    "        \"Weight\" : weight,\n",
    "        \"Age\" : age,\n",
    "        \"Income\" : income\n",
    "    }\n",
    ")"
   ]
  },
  {
   "cell_type": "code",
   "execution_count": 8,
   "metadata": {
    "colab": {
     "base_uri": "https://localhost:8080/",
     "height": 204
    },
    "colab_type": "code",
    "id": "MXeeNF_YAkRx",
    "outputId": "885503b1-4c71-4dea-f6cf-0aefe3c893e6"
   },
   "outputs": [
    {
     "data": {
      "text/html": [
       "<div>\n",
       "<style scoped>\n",
       "    .dataframe tbody tr th:only-of-type {\n",
       "        vertical-align: middle;\n",
       "    }\n",
       "\n",
       "    .dataframe tbody tr th {\n",
       "        vertical-align: top;\n",
       "    }\n",
       "\n",
       "    .dataframe thead th {\n",
       "        text-align: right;\n",
       "    }\n",
       "</style>\n",
       "<table border=\"1\" class=\"dataframe\">\n",
       "  <thead>\n",
       "    <tr style=\"text-align: right;\">\n",
       "      <th></th>\n",
       "      <th>Gender</th>\n",
       "      <th>Economic Status</th>\n",
       "      <th>Height</th>\n",
       "      <th>Weight</th>\n",
       "      <th>Age</th>\n",
       "      <th>Income</th>\n",
       "    </tr>\n",
       "  </thead>\n",
       "  <tbody>\n",
       "    <tr>\n",
       "      <th>0</th>\n",
       "      <td>Male</td>\n",
       "      <td>Poor</td>\n",
       "      <td>155.566219</td>\n",
       "      <td>30.345450</td>\n",
       "      <td>16.747512</td>\n",
       "      <td>18756.227663</td>\n",
       "    </tr>\n",
       "    <tr>\n",
       "      <th>1</th>\n",
       "      <td>Female</td>\n",
       "      <td>Poor</td>\n",
       "      <td>131.295934</td>\n",
       "      <td>52.720935</td>\n",
       "      <td>30.901475</td>\n",
       "      <td>18679.430776</td>\n",
       "    </tr>\n",
       "    <tr>\n",
       "      <th>2</th>\n",
       "      <td>Female</td>\n",
       "      <td>Poor</td>\n",
       "      <td>154.721751</td>\n",
       "      <td>13.613319</td>\n",
       "      <td>29.035024</td>\n",
       "      <td>18135.667684</td>\n",
       "    </tr>\n",
       "    <tr>\n",
       "      <th>3</th>\n",
       "      <td>Male</td>\n",
       "      <td>Rich</td>\n",
       "      <td>159.167583</td>\n",
       "      <td>111.047442</td>\n",
       "      <td>21.192309</td>\n",
       "      <td>19310.314816</td>\n",
       "    </tr>\n",
       "    <tr>\n",
       "      <th>4</th>\n",
       "      <td>Female</td>\n",
       "      <td>Poor</td>\n",
       "      <td>197.797979</td>\n",
       "      <td>66.765546</td>\n",
       "      <td>20.442940</td>\n",
       "      <td>19916.794255</td>\n",
       "    </tr>\n",
       "  </tbody>\n",
       "</table>\n",
       "</div>"
      ],
      "text/plain": [
       "   Gender Economic Status      Height      Weight        Age        Income\n",
       "0    Male            Poor  155.566219   30.345450  16.747512  18756.227663\n",
       "1  Female            Poor  131.295934   52.720935  30.901475  18679.430776\n",
       "2  Female            Poor  154.721751   13.613319  29.035024  18135.667684\n",
       "3    Male            Rich  159.167583  111.047442  21.192309  19310.314816\n",
       "4  Female            Poor  197.797979   66.765546  20.442940  19916.794255"
      ]
     },
     "execution_count": 8,
     "metadata": {},
     "output_type": "execute_result"
    }
   ],
   "source": [
    "data.head()"
   ]
  },
  {
   "cell_type": "markdown",
   "metadata": {
    "colab_type": "text",
    "id": "lcIDvGCfAkRy"
   },
   "source": [
    "## Agrupación de datos"
   ]
  },
  {
   "cell_type": "code",
   "execution_count": 9,
   "metadata": {
    "colab": {},
    "colab_type": "code",
    "id": "b0ejXt6rAkRz"
   },
   "outputs": [],
   "source": [
    "grouped_gender = data.groupby(\"Gender\")"
   ]
  },
  {
   "cell_type": "code",
   "execution_count": 10,
   "metadata": {
    "colab": {
     "base_uri": "https://localhost:8080/",
     "height": 153
    },
    "colab_type": "code",
    "id": "aEiG5AFrAkR0",
    "outputId": "474eeb1c-4efa-4ecf-ba8e-1622a786f9cc"
   },
   "outputs": [
    {
     "data": {
      "text/plain": [
       "{'Female': [1, 2, 4, 10, 11, 12, 13, 14, 15, 21, 23, 24, 27, 32, 34, 35, 36, 38, 39, 42, 44, 45, 48, 54, 57, 58, 59, 63, 65, 66, 67, 69, 70, 72, 74, 75, 76, 77, 78, 79, 80, 81, 82, 83, 84, 87, 89, 90, 93, 96, 97, 99, 100, 102, 104, 105, 111, 116, 119, 121, 124, 125, 127, 128, 129, 131, 132, 133, 135, 136, 137, 140, 142, 144, 145, 148, 149, 152, 153, 154, 156, 158, 159, 160, 161, 162, 163, 167, 168, 169, 170, 171, 172, 173, 176, 177, 178, 179, 180, 185, ...], 'Male': [0, 3, 5, 6, 7, 8, 9, 16, 17, 18, 19, 20, 22, 25, 26, 28, 29, 30, 31, 33, 37, 40, 41, 43, 46, 47, 49, 50, 51, 52, 53, 55, 56, 60, 61, 62, 64, 68, 71, 73, 85, 86, 88, 91, 92, 94, 95, 98, 101, 103, 106, 107, 108, 109, 110, 112, 113, 114, 115, 117, 118, 120, 122, 123, 126, 130, 134, 138, 139, 141, 143, 146, 147, 150, 151, 155, 157, 164, 165, 166, 174, 175, 181, 182, 183, 184, 186, 187, 189, 195, 196, 197, 198, 201, 208, 209, 211, 212, 213, 215, ...]}"
      ]
     },
     "execution_count": 10,
     "metadata": {},
     "output_type": "execute_result"
    }
   ],
   "source": [
    "grouped_gender.groups"
   ]
  },
  {
   "cell_type": "code",
   "execution_count": 11,
   "metadata": {
    "colab": {
     "base_uri": "https://localhost:8080/",
     "height": 527
    },
    "colab_type": "code",
    "id": "gSVmrowTAkR2",
    "outputId": "95eea914-8b1e-4c3f-ba12-3d28e821ff4b"
   },
   "outputs": [
    {
     "name": "stdout",
     "output_type": "stream",
     "text": [
      "Female\n",
      "     Gender Economic Status      Height      Weight        Age        Income\n",
      "1    Female            Poor  131.295934   52.720935  30.901475  18679.430776\n",
      "2    Female            Poor  154.721751   13.613319  29.035024  18135.667684\n",
      "4    Female            Poor  197.797979   66.765546  20.442940  19916.794255\n",
      "10   Female            Poor  130.820153   80.334231  39.333536  20699.889311\n",
      "11   Female            Rich  172.324808   57.489331  40.491976  18299.390781\n",
      "..      ...             ...         ...         ...        ...           ...\n",
      "490  Female            Rich  182.882363   68.910000  12.312139  20004.799996\n",
      "496  Female            Rich  170.418337   56.818311  29.937032  19651.011661\n",
      "497  Female    Middle Class  148.930271   43.911611  16.736163  19450.668558\n",
      "498  Female            Rich  163.164052  105.411361  51.152521  18889.737637\n",
      "499  Female    Middle Class  148.535146   46.865926  40.867914  19372.584742\n",
      "\n",
      "[263 rows x 6 columns]\n",
      "Male\n",
      "    Gender Economic Status      Height      Weight        Age        Income\n",
      "0     Male            Poor  155.566219   30.345450  16.747512  18756.227663\n",
      "3     Male            Rich  159.167583  111.047442  21.192309  19310.314816\n",
      "5     Male    Middle Class  157.296245   85.967195   6.850109  19924.162901\n",
      "6     Male    Middle Class  181.084849  114.653375  35.349012  20403.998606\n",
      "7     Male    Middle Class  169.907096   59.001136  25.257273  18965.565530\n",
      "..     ...             ...         ...         ...        ...           ...\n",
      "491   Male            Poor  176.817251   68.387444  27.484902  18356.900079\n",
      "492   Male            Rich  174.425482   80.499364  44.442331  20628.358936\n",
      "493   Male            Poor  127.245838   57.298207  14.992771  18858.116392\n",
      "494   Male    Middle Class  127.291107   53.769744   4.798377  21149.966825\n",
      "495   Male            Poor  154.822961   54.058875  36.722932  20898.909844\n",
      "\n",
      "[237 rows x 6 columns]\n"
     ]
    }
   ],
   "source": [
    "for names, groups in grouped_gender:\n",
    "    print(names)\n",
    "    print(groups)"
   ]
  },
  {
   "cell_type": "code",
   "execution_count": 12,
   "metadata": {
    "colab": {
     "base_uri": "https://localhost:8080/",
     "height": 419
    },
    "colab_type": "code",
    "id": "-eV8DVorAkR3",
    "outputId": "19c4888f-1ffc-47aa-9550-99fc166a5a93"
   },
   "outputs": [
    {
     "data": {
      "text/html": [
       "<div>\n",
       "<style scoped>\n",
       "    .dataframe tbody tr th:only-of-type {\n",
       "        vertical-align: middle;\n",
       "    }\n",
       "\n",
       "    .dataframe tbody tr th {\n",
       "        vertical-align: top;\n",
       "    }\n",
       "\n",
       "    .dataframe thead th {\n",
       "        text-align: right;\n",
       "    }\n",
       "</style>\n",
       "<table border=\"1\" class=\"dataframe\">\n",
       "  <thead>\n",
       "    <tr style=\"text-align: right;\">\n",
       "      <th></th>\n",
       "      <th>Gender</th>\n",
       "      <th>Economic Status</th>\n",
       "      <th>Height</th>\n",
       "      <th>Weight</th>\n",
       "      <th>Age</th>\n",
       "      <th>Income</th>\n",
       "    </tr>\n",
       "  </thead>\n",
       "  <tbody>\n",
       "    <tr>\n",
       "      <th>1</th>\n",
       "      <td>Female</td>\n",
       "      <td>Poor</td>\n",
       "      <td>131.295934</td>\n",
       "      <td>52.720935</td>\n",
       "      <td>30.901475</td>\n",
       "      <td>18679.430776</td>\n",
       "    </tr>\n",
       "    <tr>\n",
       "      <th>2</th>\n",
       "      <td>Female</td>\n",
       "      <td>Poor</td>\n",
       "      <td>154.721751</td>\n",
       "      <td>13.613319</td>\n",
       "      <td>29.035024</td>\n",
       "      <td>18135.667684</td>\n",
       "    </tr>\n",
       "    <tr>\n",
       "      <th>4</th>\n",
       "      <td>Female</td>\n",
       "      <td>Poor</td>\n",
       "      <td>197.797979</td>\n",
       "      <td>66.765546</td>\n",
       "      <td>20.442940</td>\n",
       "      <td>19916.794255</td>\n",
       "    </tr>\n",
       "    <tr>\n",
       "      <th>10</th>\n",
       "      <td>Female</td>\n",
       "      <td>Poor</td>\n",
       "      <td>130.820153</td>\n",
       "      <td>80.334231</td>\n",
       "      <td>39.333536</td>\n",
       "      <td>20699.889311</td>\n",
       "    </tr>\n",
       "    <tr>\n",
       "      <th>11</th>\n",
       "      <td>Female</td>\n",
       "      <td>Rich</td>\n",
       "      <td>172.324808</td>\n",
       "      <td>57.489331</td>\n",
       "      <td>40.491976</td>\n",
       "      <td>18299.390781</td>\n",
       "    </tr>\n",
       "    <tr>\n",
       "      <th>...</th>\n",
       "      <td>...</td>\n",
       "      <td>...</td>\n",
       "      <td>...</td>\n",
       "      <td>...</td>\n",
       "      <td>...</td>\n",
       "      <td>...</td>\n",
       "    </tr>\n",
       "    <tr>\n",
       "      <th>490</th>\n",
       "      <td>Female</td>\n",
       "      <td>Rich</td>\n",
       "      <td>182.882363</td>\n",
       "      <td>68.910000</td>\n",
       "      <td>12.312139</td>\n",
       "      <td>20004.799996</td>\n",
       "    </tr>\n",
       "    <tr>\n",
       "      <th>496</th>\n",
       "      <td>Female</td>\n",
       "      <td>Rich</td>\n",
       "      <td>170.418337</td>\n",
       "      <td>56.818311</td>\n",
       "      <td>29.937032</td>\n",
       "      <td>19651.011661</td>\n",
       "    </tr>\n",
       "    <tr>\n",
       "      <th>497</th>\n",
       "      <td>Female</td>\n",
       "      <td>Middle Class</td>\n",
       "      <td>148.930271</td>\n",
       "      <td>43.911611</td>\n",
       "      <td>16.736163</td>\n",
       "      <td>19450.668558</td>\n",
       "    </tr>\n",
       "    <tr>\n",
       "      <th>498</th>\n",
       "      <td>Female</td>\n",
       "      <td>Rich</td>\n",
       "      <td>163.164052</td>\n",
       "      <td>105.411361</td>\n",
       "      <td>51.152521</td>\n",
       "      <td>18889.737637</td>\n",
       "    </tr>\n",
       "    <tr>\n",
       "      <th>499</th>\n",
       "      <td>Female</td>\n",
       "      <td>Middle Class</td>\n",
       "      <td>148.535146</td>\n",
       "      <td>46.865926</td>\n",
       "      <td>40.867914</td>\n",
       "      <td>19372.584742</td>\n",
       "    </tr>\n",
       "  </tbody>\n",
       "</table>\n",
       "<p>263 rows × 6 columns</p>\n",
       "</div>"
      ],
      "text/plain": [
       "     Gender Economic Status      Height      Weight        Age        Income\n",
       "1    Female            Poor  131.295934   52.720935  30.901475  18679.430776\n",
       "2    Female            Poor  154.721751   13.613319  29.035024  18135.667684\n",
       "4    Female            Poor  197.797979   66.765546  20.442940  19916.794255\n",
       "10   Female            Poor  130.820153   80.334231  39.333536  20699.889311\n",
       "11   Female            Rich  172.324808   57.489331  40.491976  18299.390781\n",
       "..      ...             ...         ...         ...        ...           ...\n",
       "490  Female            Rich  182.882363   68.910000  12.312139  20004.799996\n",
       "496  Female            Rich  170.418337   56.818311  29.937032  19651.011661\n",
       "497  Female    Middle Class  148.930271   43.911611  16.736163  19450.668558\n",
       "498  Female            Rich  163.164052  105.411361  51.152521  18889.737637\n",
       "499  Female    Middle Class  148.535146   46.865926  40.867914  19372.584742\n",
       "\n",
       "[263 rows x 6 columns]"
      ]
     },
     "execution_count": 12,
     "metadata": {},
     "output_type": "execute_result"
    }
   ],
   "source": [
    "grouped_gender.get_group(\"Female\")"
   ]
  },
  {
   "cell_type": "code",
   "execution_count": 13,
   "metadata": {
    "colab": {},
    "colab_type": "code",
    "id": "cSzGIkkTAkR4"
   },
   "outputs": [],
   "source": [
    "double_group = data.groupby([\"Gender\", \"Economic Status\"])"
   ]
  },
  {
   "cell_type": "code",
   "execution_count": 14,
   "metadata": {
    "colab": {
     "base_uri": "https://localhost:8080/",
     "height": 34
    },
    "colab_type": "code",
    "id": "ZQLuFUejAkR6",
    "outputId": "d42b8dad-d4aa-4be4-ee8c-71e6f15568f2"
   },
   "outputs": [
    {
     "data": {
      "text/plain": [
       "6"
      ]
     },
     "execution_count": 14,
     "metadata": {},
     "output_type": "execute_result"
    }
   ],
   "source": [
    "len(double_group)"
   ]
  },
  {
   "cell_type": "code",
   "execution_count": 15,
   "metadata": {
    "colab": {
     "base_uri": "https://localhost:8080/",
     "height": 1000
    },
    "colab_type": "code",
    "id": "Eho6KDzUAkR7",
    "outputId": "a641a83c-cdcd-49d2-8c9b-c7f333a246d1"
   },
   "outputs": [
    {
     "name": "stdout",
     "output_type": "stream",
     "text": [
      "('Female', 'Middle Class')\n",
      "     Gender Economic Status      Height      Weight        Age        Income\n",
      "12   Female    Middle Class  134.980170   69.518334  16.642745  20904.340879\n",
      "14   Female    Middle Class  146.860605   67.937694  37.675189  18557.543652\n",
      "23   Female    Middle Class  191.805309  102.377503  32.526475  20831.694532\n",
      "24   Female    Middle Class  130.131515   82.206892   8.720651  19974.908117\n",
      "27   Female    Middle Class  144.970542   44.474613  30.144267  20200.146959\n",
      "..      ...             ...         ...         ...        ...           ...\n",
      "474  Female    Middle Class  126.159132   47.446730  47.456958  20218.998615\n",
      "481  Female    Middle Class  145.909445   87.756295  33.285314  18381.596432\n",
      "486  Female    Middle Class  125.804090  133.231908  47.495196  21470.726943\n",
      "497  Female    Middle Class  148.930271   43.911611  16.736163  19450.668558\n",
      "499  Female    Middle Class  148.535146   46.865926  40.867914  19372.584742\n",
      "\n",
      "[84 rows x 6 columns]\n",
      "('Female', 'Poor')\n",
      "     Gender Economic Status      Height     Weight        Age        Income\n",
      "1    Female            Poor  131.295934  52.720935  30.901475  18679.430776\n",
      "2    Female            Poor  154.721751  13.613319  29.035024  18135.667684\n",
      "4    Female            Poor  197.797979  66.765546  20.442940  19916.794255\n",
      "10   Female            Poor  130.820153  80.334231  39.333536  20699.889311\n",
      "34   Female            Poor  163.110936  37.861786  43.009870  18703.741308\n",
      "..      ...             ...         ...        ...        ...           ...\n",
      "467  Female            Poor  183.277171  72.891883  22.137440  20492.418529\n",
      "473  Female            Poor  123.674585  64.859644  32.946042  19304.184455\n",
      "475  Female            Poor  156.445997  11.311801  21.374805  19105.952948\n",
      "484  Female            Poor  210.250104  53.499422  38.275185  18578.625886\n",
      "487  Female            Poor  186.048408  25.286503  38.902219  18431.213942\n",
      "\n",
      "[95 rows x 6 columns]\n",
      "('Female', 'Rich')\n",
      "     Gender Economic Status      Height      Weight        Age        Income\n",
      "11   Female            Rich  172.324808   57.489331  40.491976  18299.390781\n",
      "13   Female            Rich  171.873324   19.415797  37.467335  19790.373999\n",
      "15   Female            Rich  150.572603   70.021748  17.246519  21324.544637\n",
      "21   Female            Rich  144.945502   80.642400  28.396854  18296.206785\n",
      "32   Female            Rich  176.302750   47.045176  34.509874  20378.494556\n",
      "..      ...             ...         ...         ...        ...           ...\n",
      "479  Female            Rich  129.891980   57.422488  38.580854  21024.790406\n",
      "489  Female            Rich  173.892535   37.185451  51.023137  21013.618113\n",
      "490  Female            Rich  182.882363   68.910000  12.312139  20004.799996\n",
      "496  Female            Rich  170.418337   56.818311  29.937032  19651.011661\n",
      "498  Female            Rich  163.164052  105.411361  51.152521  18889.737637\n",
      "\n",
      "[84 rows x 6 columns]\n",
      "('Male', 'Middle Class')\n",
      "    Gender Economic Status      Height      Weight        Age        Income\n",
      "5     Male    Middle Class  157.296245   85.967195   6.850109  19924.162901\n",
      "6     Male    Middle Class  181.084849  114.653375  35.349012  20403.998606\n",
      "7     Male    Middle Class  169.907096   59.001136  25.257273  18965.565530\n",
      "9     Male    Middle Class  206.064123   89.188705  12.410316  19171.316484\n",
      "18    Male    Middle Class  179.319809   56.320569  40.540227  20746.356934\n",
      "..     ...             ...         ...         ...        ...           ...\n",
      "463   Male    Middle Class  173.563838   72.990375  17.375131  20124.555007\n",
      "464   Male    Middle Class  185.817031   77.530412   2.848955  18656.769061\n",
      "476   Male    Middle Class  124.687983   91.928227  37.795163  20477.863000\n",
      "488   Male    Middle Class  160.938415   39.063416  42.603098  19484.673724\n",
      "494   Male    Middle Class  127.291107   53.769744   4.798377  21149.966825\n",
      "\n",
      "[81 rows x 6 columns]\n",
      "('Male', 'Poor')\n",
      "    Gender Economic Status      Height     Weight        Age        Income\n",
      "0     Male            Poor  155.566219  30.345450  16.747512  18756.227663\n",
      "22    Male            Poor  170.315317  43.933468  41.915989  20033.158481\n",
      "25    Male            Poor  152.499792  33.965426  30.758089  21029.585667\n",
      "30    Male            Poor  163.744148  55.306947  47.440803  20460.251613\n",
      "31    Male            Poor  173.848646  72.410278  40.746401  18986.581962\n",
      "..     ...             ...         ...        ...        ...           ...\n",
      "462   Male            Poor  144.103535  51.940737  23.662835  18740.939688\n",
      "483   Male            Poor  179.374089  70.198098  25.848481  19290.324463\n",
      "491   Male            Poor  176.817251  68.387444  27.484902  18356.900079\n",
      "493   Male            Poor  127.245838  57.298207  14.992771  18858.116392\n",
      "495   Male            Poor  154.822961  54.058875  36.722932  20898.909844\n",
      "\n",
      "[73 rows x 6 columns]\n",
      "('Male', 'Rich')\n",
      "    Gender Economic Status      Height      Weight        Age        Income\n",
      "3     Male            Rich  159.167583  111.047442  21.192309  19310.314816\n",
      "8     Male            Rich  104.203077   52.859739   0.938660  20403.436803\n",
      "16    Male            Rich  136.673746   63.037620  38.655435  20810.616277\n",
      "17    Male            Rich  208.227343   62.937370  35.765079  20934.410378\n",
      "20    Male            Rich  153.233731   12.295584  20.152117  21347.580147\n",
      "..     ...             ...         ...         ...        ...           ...\n",
      "478   Male            Rich  190.526106   75.121371  20.010935  19504.120660\n",
      "480   Male            Rich  183.950061   55.134912  18.405736  19195.771765\n",
      "482   Male            Rich  175.078249   40.342406  42.335387  19817.113213\n",
      "485   Male            Rich  105.380679   91.925841  16.011951  18532.608876\n",
      "492   Male            Rich  174.425482   80.499364  44.442331  20628.358936\n",
      "\n",
      "[83 rows x 6 columns]\n"
     ]
    }
   ],
   "source": [
    "for names, groups in double_group:\n",
    "    print(names)\n",
    "    print(groups)"
   ]
  },
  {
   "cell_type": "markdown",
   "metadata": {
    "colab_type": "text",
    "id": "bt-jzYaOAkR8"
   },
   "source": [
    "## Operaciones sobre datos agrupados"
   ]
  },
  {
   "cell_type": "code",
   "execution_count": 16,
   "metadata": {
    "colab": {
     "base_uri": "https://localhost:8080/",
     "height": 266
    },
    "colab_type": "code",
    "id": "IALClhg8AkR8",
    "outputId": "6f13982b-30f8-46c1-84c0-f7d82500c562"
   },
   "outputs": [
    {
     "data": {
      "text/html": [
       "<div>\n",
       "<style scoped>\n",
       "    .dataframe tbody tr th:only-of-type {\n",
       "        vertical-align: middle;\n",
       "    }\n",
       "\n",
       "    .dataframe tbody tr th {\n",
       "        vertical-align: top;\n",
       "    }\n",
       "\n",
       "    .dataframe thead th {\n",
       "        text-align: right;\n",
       "    }\n",
       "</style>\n",
       "<table border=\"1\" class=\"dataframe\">\n",
       "  <thead>\n",
       "    <tr style=\"text-align: right;\">\n",
       "      <th></th>\n",
       "      <th></th>\n",
       "      <th>Height</th>\n",
       "      <th>Weight</th>\n",
       "      <th>Age</th>\n",
       "      <th>Income</th>\n",
       "    </tr>\n",
       "    <tr>\n",
       "      <th>Gender</th>\n",
       "      <th>Economic Status</th>\n",
       "      <th></th>\n",
       "      <th></th>\n",
       "      <th></th>\n",
       "      <th></th>\n",
       "    </tr>\n",
       "  </thead>\n",
       "  <tbody>\n",
       "    <tr>\n",
       "      <th rowspan=\"3\" valign=\"top\">Female</th>\n",
       "      <th>Middle Class</th>\n",
       "      <td>13366.279053</td>\n",
       "      <td>5532.877875</td>\n",
       "      <td>2703.854005</td>\n",
       "      <td>1.674255e+06</td>\n",
       "    </tr>\n",
       "    <tr>\n",
       "      <th>Poor</th>\n",
       "      <td>15182.540364</td>\n",
       "      <td>5668.038348</td>\n",
       "      <td>2831.465004</td>\n",
       "      <td>1.877255e+06</td>\n",
       "    </tr>\n",
       "    <tr>\n",
       "      <th>Rich</th>\n",
       "      <td>13167.762524</td>\n",
       "      <td>5528.228463</td>\n",
       "      <td>2592.224670</td>\n",
       "      <td>1.672310e+06</td>\n",
       "    </tr>\n",
       "    <tr>\n",
       "      <th rowspan=\"3\" valign=\"top\">Male</th>\n",
       "      <th>Middle Class</th>\n",
       "      <td>12704.696168</td>\n",
       "      <td>5140.501401</td>\n",
       "      <td>2503.027162</td>\n",
       "      <td>1.615819e+06</td>\n",
       "    </tr>\n",
       "    <tr>\n",
       "      <th>Poor</th>\n",
       "      <td>11689.090647</td>\n",
       "      <td>4477.567130</td>\n",
       "      <td>2083.585113</td>\n",
       "      <td>1.439484e+06</td>\n",
       "    </tr>\n",
       "    <tr>\n",
       "      <th>Rich</th>\n",
       "      <td>13288.066824</td>\n",
       "      <td>5354.440296</td>\n",
       "      <td>2468.386570</td>\n",
       "      <td>1.645668e+06</td>\n",
       "    </tr>\n",
       "  </tbody>\n",
       "</table>\n",
       "</div>"
      ],
      "text/plain": [
       "                              Height       Weight          Age        Income\n",
       "Gender Economic Status                                                      \n",
       "Female Middle Class     13366.279053  5532.877875  2703.854005  1.674255e+06\n",
       "       Poor             15182.540364  5668.038348  2831.465004  1.877255e+06\n",
       "       Rich             13167.762524  5528.228463  2592.224670  1.672310e+06\n",
       "Male   Middle Class     12704.696168  5140.501401  2503.027162  1.615819e+06\n",
       "       Poor             11689.090647  4477.567130  2083.585113  1.439484e+06\n",
       "       Rich             13288.066824  5354.440296  2468.386570  1.645668e+06"
      ]
     },
     "execution_count": 16,
     "metadata": {},
     "output_type": "execute_result"
    }
   ],
   "source": [
    "double_group.sum()"
   ]
  },
  {
   "cell_type": "code",
   "execution_count": 17,
   "metadata": {
    "colab": {
     "base_uri": "https://localhost:8080/",
     "height": 266
    },
    "colab_type": "code",
    "id": "XIG-ViIKAkR-",
    "outputId": "daa9cbd7-3175-49a8-ff93-92d29ca6f55b"
   },
   "outputs": [
    {
     "data": {
      "text/html": [
       "<div>\n",
       "<style scoped>\n",
       "    .dataframe tbody tr th:only-of-type {\n",
       "        vertical-align: middle;\n",
       "    }\n",
       "\n",
       "    .dataframe tbody tr th {\n",
       "        vertical-align: top;\n",
       "    }\n",
       "\n",
       "    .dataframe thead th {\n",
       "        text-align: right;\n",
       "    }\n",
       "</style>\n",
       "<table border=\"1\" class=\"dataframe\">\n",
       "  <thead>\n",
       "    <tr style=\"text-align: right;\">\n",
       "      <th></th>\n",
       "      <th></th>\n",
       "      <th>Height</th>\n",
       "      <th>Weight</th>\n",
       "      <th>Age</th>\n",
       "      <th>Income</th>\n",
       "    </tr>\n",
       "    <tr>\n",
       "      <th>Gender</th>\n",
       "      <th>Economic Status</th>\n",
       "      <th></th>\n",
       "      <th></th>\n",
       "      <th></th>\n",
       "      <th></th>\n",
       "    </tr>\n",
       "  </thead>\n",
       "  <tbody>\n",
       "    <tr>\n",
       "      <th rowspan=\"3\" valign=\"top\">Female</th>\n",
       "      <th>Middle Class</th>\n",
       "      <td>159.122370</td>\n",
       "      <td>65.867594</td>\n",
       "      <td>32.188738</td>\n",
       "      <td>19931.611482</td>\n",
       "    </tr>\n",
       "    <tr>\n",
       "      <th>Poor</th>\n",
       "      <td>159.816214</td>\n",
       "      <td>59.663562</td>\n",
       "      <td>29.804895</td>\n",
       "      <td>19760.573802</td>\n",
       "    </tr>\n",
       "    <tr>\n",
       "      <th>Rich</th>\n",
       "      <td>156.759078</td>\n",
       "      <td>65.812244</td>\n",
       "      <td>30.859817</td>\n",
       "      <td>19908.453240</td>\n",
       "    </tr>\n",
       "    <tr>\n",
       "      <th rowspan=\"3\" valign=\"top\">Male</th>\n",
       "      <th>Middle Class</th>\n",
       "      <td>156.848101</td>\n",
       "      <td>63.462980</td>\n",
       "      <td>30.901570</td>\n",
       "      <td>19948.380220</td>\n",
       "    </tr>\n",
       "    <tr>\n",
       "      <th>Poor</th>\n",
       "      <td>160.124529</td>\n",
       "      <td>61.336536</td>\n",
       "      <td>28.542262</td>\n",
       "      <td>19718.954736</td>\n",
       "    </tr>\n",
       "    <tr>\n",
       "      <th>Rich</th>\n",
       "      <td>160.097191</td>\n",
       "      <td>64.511329</td>\n",
       "      <td>29.739597</td>\n",
       "      <td>19827.326891</td>\n",
       "    </tr>\n",
       "  </tbody>\n",
       "</table>\n",
       "</div>"
      ],
      "text/plain": [
       "                            Height     Weight        Age        Income\n",
       "Gender Economic Status                                                \n",
       "Female Middle Class     159.122370  65.867594  32.188738  19931.611482\n",
       "       Poor             159.816214  59.663562  29.804895  19760.573802\n",
       "       Rich             156.759078  65.812244  30.859817  19908.453240\n",
       "Male   Middle Class     156.848101  63.462980  30.901570  19948.380220\n",
       "       Poor             160.124529  61.336536  28.542262  19718.954736\n",
       "       Rich             160.097191  64.511329  29.739597  19827.326891"
      ]
     },
     "execution_count": 17,
     "metadata": {},
     "output_type": "execute_result"
    }
   ],
   "source": [
    "double_group.mean()"
   ]
  },
  {
   "cell_type": "code",
   "execution_count": 18,
   "metadata": {
    "colab": {
     "base_uri": "https://localhost:8080/",
     "height": 153
    },
    "colab_type": "code",
    "id": "Dp6clyJuAkR_",
    "outputId": "c43dbc59-2358-4e5e-a662-7ffad3e3b1a0"
   },
   "outputs": [
    {
     "data": {
      "text/plain": [
       "Gender  Economic Status\n",
       "Female  Middle Class       84\n",
       "        Poor               95\n",
       "        Rich               84\n",
       "Male    Middle Class       81\n",
       "        Poor               73\n",
       "        Rich               83\n",
       "dtype: int64"
      ]
     },
     "execution_count": 18,
     "metadata": {},
     "output_type": "execute_result"
    }
   ],
   "source": [
    "double_group.size()"
   ]
  },
  {
   "cell_type": "code",
   "execution_count": 19,
   "metadata": {
    "colab": {
     "base_uri": "https://localhost:8080/",
     "height": 368
    },
    "colab_type": "code",
    "id": "MVRQed0CAkSA",
    "outputId": "9d2c6adf-a3c6-41d6-b728-3a9fbcc5902a"
   },
   "outputs": [
    {
     "data": {
      "text/html": [
       "<div>\n",
       "<style scoped>\n",
       "    .dataframe tbody tr th:only-of-type {\n",
       "        vertical-align: middle;\n",
       "    }\n",
       "\n",
       "    .dataframe tbody tr th {\n",
       "        vertical-align: top;\n",
       "    }\n",
       "\n",
       "    .dataframe thead tr th {\n",
       "        text-align: left;\n",
       "    }\n",
       "\n",
       "    .dataframe thead tr:last-of-type th {\n",
       "        text-align: right;\n",
       "    }\n",
       "</style>\n",
       "<table border=\"1\" class=\"dataframe\">\n",
       "  <thead>\n",
       "    <tr>\n",
       "      <th></th>\n",
       "      <th></th>\n",
       "      <th colspan=\"8\" halign=\"left\">Height</th>\n",
       "      <th colspan=\"2\" halign=\"left\">Weight</th>\n",
       "      <th>...</th>\n",
       "      <th colspan=\"2\" halign=\"left\">Age</th>\n",
       "      <th colspan=\"8\" halign=\"left\">Income</th>\n",
       "    </tr>\n",
       "    <tr>\n",
       "      <th></th>\n",
       "      <th></th>\n",
       "      <th>count</th>\n",
       "      <th>mean</th>\n",
       "      <th>std</th>\n",
       "      <th>min</th>\n",
       "      <th>25%</th>\n",
       "      <th>50%</th>\n",
       "      <th>75%</th>\n",
       "      <th>max</th>\n",
       "      <th>count</th>\n",
       "      <th>mean</th>\n",
       "      <th>...</th>\n",
       "      <th>75%</th>\n",
       "      <th>max</th>\n",
       "      <th>count</th>\n",
       "      <th>mean</th>\n",
       "      <th>std</th>\n",
       "      <th>min</th>\n",
       "      <th>25%</th>\n",
       "      <th>50%</th>\n",
       "      <th>75%</th>\n",
       "      <th>max</th>\n",
       "    </tr>\n",
       "    <tr>\n",
       "      <th>Gender</th>\n",
       "      <th>Economic Status</th>\n",
       "      <th></th>\n",
       "      <th></th>\n",
       "      <th></th>\n",
       "      <th></th>\n",
       "      <th></th>\n",
       "      <th></th>\n",
       "      <th></th>\n",
       "      <th></th>\n",
       "      <th></th>\n",
       "      <th></th>\n",
       "      <th></th>\n",
       "      <th></th>\n",
       "      <th></th>\n",
       "      <th></th>\n",
       "      <th></th>\n",
       "      <th></th>\n",
       "      <th></th>\n",
       "      <th></th>\n",
       "      <th></th>\n",
       "      <th></th>\n",
       "      <th></th>\n",
       "    </tr>\n",
       "  </thead>\n",
       "  <tbody>\n",
       "    <tr>\n",
       "      <th rowspan=\"3\" valign=\"top\">Female</th>\n",
       "      <th>Middle Class</th>\n",
       "      <td>84.0</td>\n",
       "      <td>159.122370</td>\n",
       "      <td>28.629705</td>\n",
       "      <td>94.715058</td>\n",
       "      <td>141.392078</td>\n",
       "      <td>157.079514</td>\n",
       "      <td>180.014272</td>\n",
       "      <td>233.773901</td>\n",
       "      <td>84.0</td>\n",
       "      <td>65.867594</td>\n",
       "      <td>...</td>\n",
       "      <td>39.623329</td>\n",
       "      <td>70.953465</td>\n",
       "      <td>84.0</td>\n",
       "      <td>19931.611482</td>\n",
       "      <td>1036.702013</td>\n",
       "      <td>18011.506990</td>\n",
       "      <td>19073.428055</td>\n",
       "      <td>20146.390572</td>\n",
       "      <td>20812.444712</td>\n",
       "      <td>21470.726943</td>\n",
       "    </tr>\n",
       "    <tr>\n",
       "      <th>Poor</th>\n",
       "      <td>95.0</td>\n",
       "      <td>159.816214</td>\n",
       "      <td>31.947783</td>\n",
       "      <td>57.419392</td>\n",
       "      <td>139.747327</td>\n",
       "      <td>161.261690</td>\n",
       "      <td>185.050988</td>\n",
       "      <td>223.032928</td>\n",
       "      <td>95.0</td>\n",
       "      <td>59.663562</td>\n",
       "      <td>...</td>\n",
       "      <td>38.759654</td>\n",
       "      <td>53.887734</td>\n",
       "      <td>95.0</td>\n",
       "      <td>19760.573802</td>\n",
       "      <td>1003.155639</td>\n",
       "      <td>18026.148173</td>\n",
       "      <td>18905.875397</td>\n",
       "      <td>19735.710001</td>\n",
       "      <td>20552.584770</td>\n",
       "      <td>21420.238394</td>\n",
       "    </tr>\n",
       "    <tr>\n",
       "      <th>Rich</th>\n",
       "      <td>84.0</td>\n",
       "      <td>156.759078</td>\n",
       "      <td>27.885496</td>\n",
       "      <td>74.676892</td>\n",
       "      <td>140.380251</td>\n",
       "      <td>155.431429</td>\n",
       "      <td>172.519196</td>\n",
       "      <td>240.649673</td>\n",
       "      <td>84.0</td>\n",
       "      <td>65.812244</td>\n",
       "      <td>...</td>\n",
       "      <td>37.561757</td>\n",
       "      <td>66.427401</td>\n",
       "      <td>84.0</td>\n",
       "      <td>19908.453240</td>\n",
       "      <td>1028.685472</td>\n",
       "      <td>18046.604566</td>\n",
       "      <td>19056.257212</td>\n",
       "      <td>20017.388865</td>\n",
       "      <td>20806.312764</td>\n",
       "      <td>21470.056804</td>\n",
       "    </tr>\n",
       "    <tr>\n",
       "      <th rowspan=\"3\" valign=\"top\">Male</th>\n",
       "      <th>Middle Class</th>\n",
       "      <td>81.0</td>\n",
       "      <td>156.848101</td>\n",
       "      <td>30.299040</td>\n",
       "      <td>87.147008</td>\n",
       "      <td>138.508549</td>\n",
       "      <td>157.481600</td>\n",
       "      <td>174.631194</td>\n",
       "      <td>240.134288</td>\n",
       "      <td>81.0</td>\n",
       "      <td>63.462980</td>\n",
       "      <td>...</td>\n",
       "      <td>39.970114</td>\n",
       "      <td>59.303211</td>\n",
       "      <td>81.0</td>\n",
       "      <td>19948.380220</td>\n",
       "      <td>1035.118757</td>\n",
       "      <td>18006.366080</td>\n",
       "      <td>19095.188305</td>\n",
       "      <td>20052.034319</td>\n",
       "      <td>20867.368208</td>\n",
       "      <td>21456.706970</td>\n",
       "    </tr>\n",
       "    <tr>\n",
       "      <th>Poor</th>\n",
       "      <td>73.0</td>\n",
       "      <td>160.124529</td>\n",
       "      <td>28.883760</td>\n",
       "      <td>93.944152</td>\n",
       "      <td>137.988763</td>\n",
       "      <td>165.272024</td>\n",
       "      <td>181.466822</td>\n",
       "      <td>223.058427</td>\n",
       "      <td>73.0</td>\n",
       "      <td>61.336536</td>\n",
       "      <td>...</td>\n",
       "      <td>36.722932</td>\n",
       "      <td>60.230689</td>\n",
       "      <td>73.0</td>\n",
       "      <td>19718.954736</td>\n",
       "      <td>974.499764</td>\n",
       "      <td>18028.661631</td>\n",
       "      <td>18869.031456</td>\n",
       "      <td>19856.013256</td>\n",
       "      <td>20552.275172</td>\n",
       "      <td>21446.253359</td>\n",
       "    </tr>\n",
       "    <tr>\n",
       "      <th>Rich</th>\n",
       "      <td>83.0</td>\n",
       "      <td>160.097191</td>\n",
       "      <td>33.969914</td>\n",
       "      <td>90.827544</td>\n",
       "      <td>134.948771</td>\n",
       "      <td>160.610308</td>\n",
       "      <td>184.636454</td>\n",
       "      <td>243.608358</td>\n",
       "      <td>83.0</td>\n",
       "      <td>64.511329</td>\n",
       "      <td>...</td>\n",
       "      <td>37.617126</td>\n",
       "      <td>53.704454</td>\n",
       "      <td>83.0</td>\n",
       "      <td>19827.326891</td>\n",
       "      <td>961.152240</td>\n",
       "      <td>18145.654492</td>\n",
       "      <td>18982.273648</td>\n",
       "      <td>19851.826103</td>\n",
       "      <td>20667.547983</td>\n",
       "      <td>21491.081946</td>\n",
       "    </tr>\n",
       "  </tbody>\n",
       "</table>\n",
       "<p>6 rows × 32 columns</p>\n",
       "</div>"
      ],
      "text/plain": [
       "                       Height                                                \\\n",
       "                        count        mean        std        min         25%   \n",
       "Gender Economic Status                                                        \n",
       "Female Middle Class      84.0  159.122370  28.629705  94.715058  141.392078   \n",
       "       Poor              95.0  159.816214  31.947783  57.419392  139.747327   \n",
       "       Rich              84.0  156.759078  27.885496  74.676892  140.380251   \n",
       "Male   Middle Class      81.0  156.848101  30.299040  87.147008  138.508549   \n",
       "       Poor              73.0  160.124529  28.883760  93.944152  137.988763   \n",
       "       Rich              83.0  160.097191  33.969914  90.827544  134.948771   \n",
       "\n",
       "                                                           Weight             \\\n",
       "                               50%         75%         max  count       mean   \n",
       "Gender Economic Status                                                         \n",
       "Female Middle Class     157.079514  180.014272  233.773901   84.0  65.867594   \n",
       "       Poor             161.261690  185.050988  223.032928   95.0  59.663562   \n",
       "       Rich             155.431429  172.519196  240.649673   84.0  65.812244   \n",
       "Male   Middle Class     157.481600  174.631194  240.134288   81.0  63.462980   \n",
       "       Poor             165.272024  181.466822  223.058427   73.0  61.336536   \n",
       "       Rich             160.610308  184.636454  243.608358   83.0  64.511329   \n",
       "\n",
       "                        ...        Age            Income                \\\n",
       "                        ...        75%        max  count          mean   \n",
       "Gender Economic Status  ...                                              \n",
       "Female Middle Class     ...  39.623329  70.953465   84.0  19931.611482   \n",
       "       Poor             ...  38.759654  53.887734   95.0  19760.573802   \n",
       "       Rich             ...  37.561757  66.427401   84.0  19908.453240   \n",
       "Male   Middle Class     ...  39.970114  59.303211   81.0  19948.380220   \n",
       "       Poor             ...  36.722932  60.230689   73.0  19718.954736   \n",
       "       Rich             ...  37.617126  53.704454   83.0  19827.326891   \n",
       "\n",
       "                                                                               \\\n",
       "                                std           min           25%           50%   \n",
       "Gender Economic Status                                                          \n",
       "Female Middle Class     1036.702013  18011.506990  19073.428055  20146.390572   \n",
       "       Poor             1003.155639  18026.148173  18905.875397  19735.710001   \n",
       "       Rich             1028.685472  18046.604566  19056.257212  20017.388865   \n",
       "Male   Middle Class     1035.118757  18006.366080  19095.188305  20052.034319   \n",
       "       Poor              974.499764  18028.661631  18869.031456  19856.013256   \n",
       "       Rich              961.152240  18145.654492  18982.273648  19851.826103   \n",
       "\n",
       "                                                    \n",
       "                                 75%           max  \n",
       "Gender Economic Status                              \n",
       "Female Middle Class     20812.444712  21470.726943  \n",
       "       Poor             20552.584770  21420.238394  \n",
       "       Rich             20806.312764  21470.056804  \n",
       "Male   Middle Class     20867.368208  21456.706970  \n",
       "       Poor             20552.275172  21446.253359  \n",
       "       Rich             20667.547983  21491.081946  \n",
       "\n",
       "[6 rows x 32 columns]"
      ]
     },
     "execution_count": 19,
     "metadata": {},
     "output_type": "execute_result"
    }
   ],
   "source": [
    "double_group.describe()"
   ]
  },
  {
   "cell_type": "code",
   "execution_count": 20,
   "metadata": {
    "colab": {},
    "colab_type": "code",
    "id": "m0tze5dCAkSB"
   },
   "outputs": [],
   "source": [
    "grouped_income = double_group[\"Income\"]"
   ]
  },
  {
   "cell_type": "code",
   "execution_count": 21,
   "metadata": {
    "colab": {
     "base_uri": "https://localhost:8080/",
     "height": 266
    },
    "colab_type": "code",
    "id": "GnO4smZWAkSC",
    "outputId": "d6a8c7d5-a0fd-4dbd-c1a3-252531f0dde2"
   },
   "outputs": [
    {
     "data": {
      "text/html": [
       "<div>\n",
       "<style scoped>\n",
       "    .dataframe tbody tr th:only-of-type {\n",
       "        vertical-align: middle;\n",
       "    }\n",
       "\n",
       "    .dataframe tbody tr th {\n",
       "        vertical-align: top;\n",
       "    }\n",
       "\n",
       "    .dataframe thead th {\n",
       "        text-align: right;\n",
       "    }\n",
       "</style>\n",
       "<table border=\"1\" class=\"dataframe\">\n",
       "  <thead>\n",
       "    <tr style=\"text-align: right;\">\n",
       "      <th></th>\n",
       "      <th></th>\n",
       "      <th>count</th>\n",
       "      <th>mean</th>\n",
       "      <th>std</th>\n",
       "      <th>min</th>\n",
       "      <th>25%</th>\n",
       "      <th>50%</th>\n",
       "      <th>75%</th>\n",
       "      <th>max</th>\n",
       "    </tr>\n",
       "    <tr>\n",
       "      <th>Gender</th>\n",
       "      <th>Economic Status</th>\n",
       "      <th></th>\n",
       "      <th></th>\n",
       "      <th></th>\n",
       "      <th></th>\n",
       "      <th></th>\n",
       "      <th></th>\n",
       "      <th></th>\n",
       "      <th></th>\n",
       "    </tr>\n",
       "  </thead>\n",
       "  <tbody>\n",
       "    <tr>\n",
       "      <th rowspan=\"3\" valign=\"top\">Female</th>\n",
       "      <th>Middle Class</th>\n",
       "      <td>84.0</td>\n",
       "      <td>19931.611482</td>\n",
       "      <td>1036.702013</td>\n",
       "      <td>18011.506990</td>\n",
       "      <td>19073.428055</td>\n",
       "      <td>20146.390572</td>\n",
       "      <td>20812.444712</td>\n",
       "      <td>21470.726943</td>\n",
       "    </tr>\n",
       "    <tr>\n",
       "      <th>Poor</th>\n",
       "      <td>95.0</td>\n",
       "      <td>19760.573802</td>\n",
       "      <td>1003.155639</td>\n",
       "      <td>18026.148173</td>\n",
       "      <td>18905.875397</td>\n",
       "      <td>19735.710001</td>\n",
       "      <td>20552.584770</td>\n",
       "      <td>21420.238394</td>\n",
       "    </tr>\n",
       "    <tr>\n",
       "      <th>Rich</th>\n",
       "      <td>84.0</td>\n",
       "      <td>19908.453240</td>\n",
       "      <td>1028.685472</td>\n",
       "      <td>18046.604566</td>\n",
       "      <td>19056.257212</td>\n",
       "      <td>20017.388865</td>\n",
       "      <td>20806.312764</td>\n",
       "      <td>21470.056804</td>\n",
       "    </tr>\n",
       "    <tr>\n",
       "      <th rowspan=\"3\" valign=\"top\">Male</th>\n",
       "      <th>Middle Class</th>\n",
       "      <td>81.0</td>\n",
       "      <td>19948.380220</td>\n",
       "      <td>1035.118757</td>\n",
       "      <td>18006.366080</td>\n",
       "      <td>19095.188305</td>\n",
       "      <td>20052.034319</td>\n",
       "      <td>20867.368208</td>\n",
       "      <td>21456.706970</td>\n",
       "    </tr>\n",
       "    <tr>\n",
       "      <th>Poor</th>\n",
       "      <td>73.0</td>\n",
       "      <td>19718.954736</td>\n",
       "      <td>974.499764</td>\n",
       "      <td>18028.661631</td>\n",
       "      <td>18869.031456</td>\n",
       "      <td>19856.013256</td>\n",
       "      <td>20552.275172</td>\n",
       "      <td>21446.253359</td>\n",
       "    </tr>\n",
       "    <tr>\n",
       "      <th>Rich</th>\n",
       "      <td>83.0</td>\n",
       "      <td>19827.326891</td>\n",
       "      <td>961.152240</td>\n",
       "      <td>18145.654492</td>\n",
       "      <td>18982.273648</td>\n",
       "      <td>19851.826103</td>\n",
       "      <td>20667.547983</td>\n",
       "      <td>21491.081946</td>\n",
       "    </tr>\n",
       "  </tbody>\n",
       "</table>\n",
       "</div>"
      ],
      "text/plain": [
       "                        count          mean          std           min  \\\n",
       "Gender Economic Status                                                   \n",
       "Female Middle Class      84.0  19931.611482  1036.702013  18011.506990   \n",
       "       Poor              95.0  19760.573802  1003.155639  18026.148173   \n",
       "       Rich              84.0  19908.453240  1028.685472  18046.604566   \n",
       "Male   Middle Class      81.0  19948.380220  1035.118757  18006.366080   \n",
       "       Poor              73.0  19718.954736   974.499764  18028.661631   \n",
       "       Rich              83.0  19827.326891   961.152240  18145.654492   \n",
       "\n",
       "                                 25%           50%           75%           max  \n",
       "Gender Economic Status                                                          \n",
       "Female Middle Class     19073.428055  20146.390572  20812.444712  21470.726943  \n",
       "       Poor             18905.875397  19735.710001  20552.584770  21420.238394  \n",
       "       Rich             19056.257212  20017.388865  20806.312764  21470.056804  \n",
       "Male   Middle Class     19095.188305  20052.034319  20867.368208  21456.706970  \n",
       "       Poor             18869.031456  19856.013256  20552.275172  21446.253359  \n",
       "       Rich             18982.273648  19851.826103  20667.547983  21491.081946  "
      ]
     },
     "execution_count": 21,
     "metadata": {},
     "output_type": "execute_result"
    }
   ],
   "source": [
    "grouped_income.describe()"
   ]
  },
  {
   "cell_type": "code",
   "execution_count": 22,
   "metadata": {
    "colab": {
     "base_uri": "https://localhost:8080/",
     "height": 266
    },
    "colab_type": "code",
    "id": "kc8V5PfaAkSD",
    "outputId": "82aef21c-a5f8-4c6b-f7a8-fb80786af5bd"
   },
   "outputs": [
    {
     "data": {
      "text/html": [
       "<div>\n",
       "<style scoped>\n",
       "    .dataframe tbody tr th:only-of-type {\n",
       "        vertical-align: middle;\n",
       "    }\n",
       "\n",
       "    .dataframe tbody tr th {\n",
       "        vertical-align: top;\n",
       "    }\n",
       "\n",
       "    .dataframe thead th {\n",
       "        text-align: right;\n",
       "    }\n",
       "</style>\n",
       "<table border=\"1\" class=\"dataframe\">\n",
       "  <thead>\n",
       "    <tr style=\"text-align: right;\">\n",
       "      <th></th>\n",
       "      <th></th>\n",
       "      <th>Income</th>\n",
       "      <th>Age</th>\n",
       "      <th>Height</th>\n",
       "    </tr>\n",
       "    <tr>\n",
       "      <th>Gender</th>\n",
       "      <th>Economic Status</th>\n",
       "      <th></th>\n",
       "      <th></th>\n",
       "      <th></th>\n",
       "    </tr>\n",
       "  </thead>\n",
       "  <tbody>\n",
       "    <tr>\n",
       "      <th rowspan=\"3\" valign=\"top\">Female</th>\n",
       "      <th>Middle Class</th>\n",
       "      <td>1.674255e+06</td>\n",
       "      <td>32.188738</td>\n",
       "      <td>28.629705</td>\n",
       "    </tr>\n",
       "    <tr>\n",
       "      <th>Poor</th>\n",
       "      <td>1.877255e+06</td>\n",
       "      <td>29.804895</td>\n",
       "      <td>31.947783</td>\n",
       "    </tr>\n",
       "    <tr>\n",
       "      <th>Rich</th>\n",
       "      <td>1.672310e+06</td>\n",
       "      <td>30.859817</td>\n",
       "      <td>27.885496</td>\n",
       "    </tr>\n",
       "    <tr>\n",
       "      <th rowspan=\"3\" valign=\"top\">Male</th>\n",
       "      <th>Middle Class</th>\n",
       "      <td>1.615819e+06</td>\n",
       "      <td>30.901570</td>\n",
       "      <td>30.299040</td>\n",
       "    </tr>\n",
       "    <tr>\n",
       "      <th>Poor</th>\n",
       "      <td>1.439484e+06</td>\n",
       "      <td>28.542262</td>\n",
       "      <td>28.883760</td>\n",
       "    </tr>\n",
       "    <tr>\n",
       "      <th>Rich</th>\n",
       "      <td>1.645668e+06</td>\n",
       "      <td>29.739597</td>\n",
       "      <td>33.969914</td>\n",
       "    </tr>\n",
       "  </tbody>\n",
       "</table>\n",
       "</div>"
      ],
      "text/plain": [
       "                              Income        Age     Height\n",
       "Gender Economic Status                                    \n",
       "Female Middle Class     1.674255e+06  32.188738  28.629705\n",
       "       Poor             1.877255e+06  29.804895  31.947783\n",
       "       Rich             1.672310e+06  30.859817  27.885496\n",
       "Male   Middle Class     1.615819e+06  30.901570  30.299040\n",
       "       Poor             1.439484e+06  28.542262  28.883760\n",
       "       Rich             1.645668e+06  29.739597  33.969914"
      ]
     },
     "execution_count": 22,
     "metadata": {},
     "output_type": "execute_result"
    }
   ],
   "source": [
    "double_group.aggregate(\n",
    "    {\n",
    "        \"Income\": np.sum,\n",
    "        \"Age\" : np.mean,\n",
    "        \"Height\" : np.std\n",
    "    }\n",
    ")"
   ]
  },
  {
   "cell_type": "code",
   "execution_count": 23,
   "metadata": {
    "colab": {
     "base_uri": "https://localhost:8080/",
     "height": 266
    },
    "colab_type": "code",
    "id": "hjThnV4yAkSE",
    "outputId": "c70ed120-8fc1-4f01-ca77-fe33e8518a11"
   },
   "outputs": [
    {
     "data": {
      "text/html": [
       "<div>\n",
       "<style scoped>\n",
       "    .dataframe tbody tr th:only-of-type {\n",
       "        vertical-align: middle;\n",
       "    }\n",
       "\n",
       "    .dataframe tbody tr th {\n",
       "        vertical-align: top;\n",
       "    }\n",
       "\n",
       "    .dataframe thead th {\n",
       "        text-align: right;\n",
       "    }\n",
       "</style>\n",
       "<table border=\"1\" class=\"dataframe\">\n",
       "  <thead>\n",
       "    <tr style=\"text-align: right;\">\n",
       "      <th></th>\n",
       "      <th></th>\n",
       "      <th>Age</th>\n",
       "      <th>Height</th>\n",
       "    </tr>\n",
       "    <tr>\n",
       "      <th>Gender</th>\n",
       "      <th>Economic Status</th>\n",
       "      <th></th>\n",
       "      <th></th>\n",
       "    </tr>\n",
       "  </thead>\n",
       "  <tbody>\n",
       "    <tr>\n",
       "      <th rowspan=\"3\" valign=\"top\">Female</th>\n",
       "      <th>Middle Class</th>\n",
       "      <td>32.188738</td>\n",
       "      <td>5.591328</td>\n",
       "    </tr>\n",
       "    <tr>\n",
       "      <th>Poor</th>\n",
       "      <td>29.804895</td>\n",
       "      <td>5.028958</td>\n",
       "    </tr>\n",
       "    <tr>\n",
       "      <th>Rich</th>\n",
       "      <td>30.859817</td>\n",
       "      <td>5.655290</td>\n",
       "    </tr>\n",
       "    <tr>\n",
       "      <th rowspan=\"3\" valign=\"top\">Male</th>\n",
       "      <th>Middle Class</th>\n",
       "      <td>30.901570</td>\n",
       "      <td>5.208923</td>\n",
       "    </tr>\n",
       "    <tr>\n",
       "      <th>Poor</th>\n",
       "      <td>28.542262</td>\n",
       "      <td>5.582122</td>\n",
       "    </tr>\n",
       "    <tr>\n",
       "      <th>Rich</th>\n",
       "      <td>29.739597</td>\n",
       "      <td>4.741561</td>\n",
       "    </tr>\n",
       "  </tbody>\n",
       "</table>\n",
       "</div>"
      ],
      "text/plain": [
       "                              Age    Height\n",
       "Gender Economic Status                     \n",
       "Female Middle Class     32.188738  5.591328\n",
       "       Poor             29.804895  5.028958\n",
       "       Rich             30.859817  5.655290\n",
       "Male   Middle Class     30.901570  5.208923\n",
       "       Poor             28.542262  5.582122\n",
       "       Rich             29.739597  4.741561"
      ]
     },
     "execution_count": 23,
     "metadata": {},
     "output_type": "execute_result"
    }
   ],
   "source": [
    "double_group.aggregate(\n",
    "    {\n",
    "        \"Age\" : np.mean,\n",
    "        \"Height\" : lambda h:(np.mean(h))/np.std(h)\n",
    "    }\n",
    ")"
   ]
  },
  {
   "cell_type": "code",
   "execution_count": 24,
   "metadata": {
    "colab": {
     "base_uri": "https://localhost:8080/",
     "height": 297
    },
    "colab_type": "code",
    "id": "SGx9EOlFAkSF",
    "outputId": "46b278df-a199-4cd5-bb95-aff120b6ac43"
   },
   "outputs": [
    {
     "data": {
      "text/html": [
       "<div>\n",
       "<style scoped>\n",
       "    .dataframe tbody tr th:only-of-type {\n",
       "        vertical-align: middle;\n",
       "    }\n",
       "\n",
       "    .dataframe tbody tr th {\n",
       "        vertical-align: top;\n",
       "    }\n",
       "\n",
       "    .dataframe thead tr th {\n",
       "        text-align: left;\n",
       "    }\n",
       "\n",
       "    .dataframe thead tr:last-of-type th {\n",
       "        text-align: right;\n",
       "    }\n",
       "</style>\n",
       "<table border=\"1\" class=\"dataframe\">\n",
       "  <thead>\n",
       "    <tr>\n",
       "      <th></th>\n",
       "      <th></th>\n",
       "      <th colspan=\"3\" halign=\"left\">Height</th>\n",
       "      <th colspan=\"3\" halign=\"left\">Weight</th>\n",
       "      <th colspan=\"3\" halign=\"left\">Age</th>\n",
       "      <th colspan=\"3\" halign=\"left\">Income</th>\n",
       "    </tr>\n",
       "    <tr>\n",
       "      <th></th>\n",
       "      <th></th>\n",
       "      <th>sum</th>\n",
       "      <th>mean</th>\n",
       "      <th>std</th>\n",
       "      <th>sum</th>\n",
       "      <th>mean</th>\n",
       "      <th>std</th>\n",
       "      <th>sum</th>\n",
       "      <th>mean</th>\n",
       "      <th>std</th>\n",
       "      <th>sum</th>\n",
       "      <th>mean</th>\n",
       "      <th>std</th>\n",
       "    </tr>\n",
       "    <tr>\n",
       "      <th>Gender</th>\n",
       "      <th>Economic Status</th>\n",
       "      <th></th>\n",
       "      <th></th>\n",
       "      <th></th>\n",
       "      <th></th>\n",
       "      <th></th>\n",
       "      <th></th>\n",
       "      <th></th>\n",
       "      <th></th>\n",
       "      <th></th>\n",
       "      <th></th>\n",
       "      <th></th>\n",
       "      <th></th>\n",
       "    </tr>\n",
       "  </thead>\n",
       "  <tbody>\n",
       "    <tr>\n",
       "      <th rowspan=\"3\" valign=\"top\">Female</th>\n",
       "      <th>Middle Class</th>\n",
       "      <td>13366.279053</td>\n",
       "      <td>159.122370</td>\n",
       "      <td>28.629705</td>\n",
       "      <td>5532.877875</td>\n",
       "      <td>65.867594</td>\n",
       "      <td>26.897371</td>\n",
       "      <td>2703.854005</td>\n",
       "      <td>32.188738</td>\n",
       "      <td>12.495543</td>\n",
       "      <td>1.674255e+06</td>\n",
       "      <td>19931.611482</td>\n",
       "      <td>1036.702013</td>\n",
       "    </tr>\n",
       "    <tr>\n",
       "      <th>Poor</th>\n",
       "      <td>15182.540364</td>\n",
       "      <td>159.816214</td>\n",
       "      <td>31.947783</td>\n",
       "      <td>5668.038348</td>\n",
       "      <td>59.663562</td>\n",
       "      <td>23.292332</td>\n",
       "      <td>2831.465004</td>\n",
       "      <td>29.804895</td>\n",
       "      <td>11.484540</td>\n",
       "      <td>1.877255e+06</td>\n",
       "      <td>19760.573802</td>\n",
       "      <td>1003.155639</td>\n",
       "    </tr>\n",
       "    <tr>\n",
       "      <th>Rich</th>\n",
       "      <td>13167.762524</td>\n",
       "      <td>156.759078</td>\n",
       "      <td>27.885496</td>\n",
       "      <td>5528.228463</td>\n",
       "      <td>65.812244</td>\n",
       "      <td>24.057617</td>\n",
       "      <td>2592.224670</td>\n",
       "      <td>30.859817</td>\n",
       "      <td>12.865308</td>\n",
       "      <td>1.672310e+06</td>\n",
       "      <td>19908.453240</td>\n",
       "      <td>1028.685472</td>\n",
       "    </tr>\n",
       "    <tr>\n",
       "      <th rowspan=\"3\" valign=\"top\">Male</th>\n",
       "      <th>Middle Class</th>\n",
       "      <td>12704.696168</td>\n",
       "      <td>156.848101</td>\n",
       "      <td>30.299040</td>\n",
       "      <td>5140.501401</td>\n",
       "      <td>63.462980</td>\n",
       "      <td>25.668524</td>\n",
       "      <td>2503.027162</td>\n",
       "      <td>30.901570</td>\n",
       "      <td>12.840423</td>\n",
       "      <td>1.615819e+06</td>\n",
       "      <td>19948.380220</td>\n",
       "      <td>1035.118757</td>\n",
       "    </tr>\n",
       "    <tr>\n",
       "      <th>Poor</th>\n",
       "      <td>11689.090647</td>\n",
       "      <td>160.124529</td>\n",
       "      <td>28.883760</td>\n",
       "      <td>4477.567130</td>\n",
       "      <td>61.336536</td>\n",
       "      <td>23.666552</td>\n",
       "      <td>2083.585113</td>\n",
       "      <td>28.542262</td>\n",
       "      <td>11.479897</td>\n",
       "      <td>1.439484e+06</td>\n",
       "      <td>19718.954736</td>\n",
       "      <td>974.499764</td>\n",
       "    </tr>\n",
       "    <tr>\n",
       "      <th>Rich</th>\n",
       "      <td>13288.066824</td>\n",
       "      <td>160.097191</td>\n",
       "      <td>33.969914</td>\n",
       "      <td>5354.440296</td>\n",
       "      <td>64.511329</td>\n",
       "      <td>24.451377</td>\n",
       "      <td>2468.386570</td>\n",
       "      <td>29.739597</td>\n",
       "      <td>10.745518</td>\n",
       "      <td>1.645668e+06</td>\n",
       "      <td>19827.326891</td>\n",
       "      <td>961.152240</td>\n",
       "    </tr>\n",
       "  </tbody>\n",
       "</table>\n",
       "</div>"
      ],
      "text/plain": [
       "                              Height                              Weight  \\\n",
       "                                 sum        mean        std          sum   \n",
       "Gender Economic Status                                                     \n",
       "Female Middle Class     13366.279053  159.122370  28.629705  5532.877875   \n",
       "       Poor             15182.540364  159.816214  31.947783  5668.038348   \n",
       "       Rich             13167.762524  156.759078  27.885496  5528.228463   \n",
       "Male   Middle Class     12704.696168  156.848101  30.299040  5140.501401   \n",
       "       Poor             11689.090647  160.124529  28.883760  4477.567130   \n",
       "       Rich             13288.066824  160.097191  33.969914  5354.440296   \n",
       "\n",
       "                                                      Age             \\\n",
       "                             mean        std          sum       mean   \n",
       "Gender Economic Status                                                 \n",
       "Female Middle Class     65.867594  26.897371  2703.854005  32.188738   \n",
       "       Poor             59.663562  23.292332  2831.465004  29.804895   \n",
       "       Rich             65.812244  24.057617  2592.224670  30.859817   \n",
       "Male   Middle Class     63.462980  25.668524  2503.027162  30.901570   \n",
       "       Poor             61.336536  23.666552  2083.585113  28.542262   \n",
       "       Rich             64.511329  24.451377  2468.386570  29.739597   \n",
       "\n",
       "                                         Income                             \n",
       "                              std           sum          mean          std  \n",
       "Gender Economic Status                                                      \n",
       "Female Middle Class     12.495543  1.674255e+06  19931.611482  1036.702013  \n",
       "       Poor             11.484540  1.877255e+06  19760.573802  1003.155639  \n",
       "       Rich             12.865308  1.672310e+06  19908.453240  1028.685472  \n",
       "Male   Middle Class     12.840423  1.615819e+06  19948.380220  1035.118757  \n",
       "       Poor             11.479897  1.439484e+06  19718.954736   974.499764  \n",
       "       Rich             10.745518  1.645668e+06  19827.326891   961.152240  "
      ]
     },
     "execution_count": 24,
     "metadata": {},
     "output_type": "execute_result"
    }
   ],
   "source": [
    "double_group.aggregate([np.sum, np.mean, np.std])"
   ]
  },
  {
   "cell_type": "code",
   "execution_count": 25,
   "metadata": {
    "colab": {
     "base_uri": "https://localhost:8080/",
     "height": 297
    },
    "colab_type": "code",
    "id": "UkktjSkgAkSG",
    "outputId": "649b4150-ed5f-434c-aba1-fd463463fa25"
   },
   "outputs": [
    {
     "data": {
      "text/html": [
       "<div>\n",
       "<style scoped>\n",
       "    .dataframe tbody tr th:only-of-type {\n",
       "        vertical-align: middle;\n",
       "    }\n",
       "\n",
       "    .dataframe tbody tr th {\n",
       "        vertical-align: top;\n",
       "    }\n",
       "\n",
       "    .dataframe thead tr th {\n",
       "        text-align: left;\n",
       "    }\n",
       "\n",
       "    .dataframe thead tr:last-of-type th {\n",
       "        text-align: right;\n",
       "    }\n",
       "</style>\n",
       "<table border=\"1\" class=\"dataframe\">\n",
       "  <thead>\n",
       "    <tr>\n",
       "      <th></th>\n",
       "      <th></th>\n",
       "      <th>Height</th>\n",
       "      <th>Weight</th>\n",
       "      <th>Age</th>\n",
       "      <th>Income</th>\n",
       "    </tr>\n",
       "    <tr>\n",
       "      <th></th>\n",
       "      <th></th>\n",
       "      <th>&lt;lambda&gt;</th>\n",
       "      <th>&lt;lambda&gt;</th>\n",
       "      <th>&lt;lambda&gt;</th>\n",
       "      <th>&lt;lambda&gt;</th>\n",
       "    </tr>\n",
       "    <tr>\n",
       "      <th>Gender</th>\n",
       "      <th>Economic Status</th>\n",
       "      <th></th>\n",
       "      <th></th>\n",
       "      <th></th>\n",
       "      <th></th>\n",
       "    </tr>\n",
       "  </thead>\n",
       "  <tbody>\n",
       "    <tr>\n",
       "      <th rowspan=\"3\" valign=\"top\">Female</th>\n",
       "      <th>Middle Class</th>\n",
       "      <td>5.591328</td>\n",
       "      <td>2.463557</td>\n",
       "      <td>2.591489</td>\n",
       "      <td>19.341452</td>\n",
       "    </tr>\n",
       "    <tr>\n",
       "      <th>Poor</th>\n",
       "      <td>5.028958</td>\n",
       "      <td>2.575100</td>\n",
       "      <td>2.608987</td>\n",
       "      <td>19.802914</td>\n",
       "    </tr>\n",
       "    <tr>\n",
       "      <th>Rich</th>\n",
       "      <td>5.655290</td>\n",
       "      <td>2.752040</td>\n",
       "      <td>2.413091</td>\n",
       "      <td>19.469532</td>\n",
       "    </tr>\n",
       "    <tr>\n",
       "      <th rowspan=\"3\" valign=\"top\">Male</th>\n",
       "      <th>Middle Class</th>\n",
       "      <td>5.208923</td>\n",
       "      <td>2.487809</td>\n",
       "      <td>2.421579</td>\n",
       "      <td>19.391659</td>\n",
       "    </tr>\n",
       "    <tr>\n",
       "      <th>Poor</th>\n",
       "      <td>5.582122</td>\n",
       "      <td>2.609633</td>\n",
       "      <td>2.503488</td>\n",
       "      <td>20.374987</td>\n",
       "    </tr>\n",
       "    <tr>\n",
       "      <th>Rich</th>\n",
       "      <td>4.741561</td>\n",
       "      <td>2.654390</td>\n",
       "      <td>2.784453</td>\n",
       "      <td>20.754110</td>\n",
       "    </tr>\n",
       "  </tbody>\n",
       "</table>\n",
       "</div>"
      ],
      "text/plain": [
       "                          Height    Weight       Age     Income\n",
       "                        <lambda>  <lambda>  <lambda>   <lambda>\n",
       "Gender Economic Status                                         \n",
       "Female Middle Class     5.591328  2.463557  2.591489  19.341452\n",
       "       Poor             5.028958  2.575100  2.608987  19.802914\n",
       "       Rich             5.655290  2.752040  2.413091  19.469532\n",
       "Male   Middle Class     5.208923  2.487809  2.421579  19.391659\n",
       "       Poor             5.582122  2.609633  2.503488  20.374987\n",
       "       Rich             4.741561  2.654390  2.784453  20.754110"
      ]
     },
     "execution_count": 25,
     "metadata": {},
     "output_type": "execute_result"
    }
   ],
   "source": [
    "double_group.aggregate([lambda x: np.mean(x) / np.std(x)])"
   ]
  },
  {
   "cell_type": "markdown",
   "metadata": {
    "colab_type": "text",
    "id": "YqDrlXlFAkSH"
   },
   "source": [
    "## Filtrado de datos"
   ]
  },
  {
   "cell_type": "code",
   "execution_count": 26,
   "metadata": {
    "colab": {
     "base_uri": "https://localhost:8080/",
     "height": 221
    },
    "colab_type": "code",
    "id": "dD7rfKxSAkSH",
    "outputId": "324de0e9-e7f3-4d0a-f627-4502bf988198"
   },
   "outputs": [
    {
     "data": {
      "text/plain": [
       "1      30.901475\n",
       "2      29.035024\n",
       "3      21.192309\n",
       "4      20.442940\n",
       "5       6.850109\n",
       "         ...    \n",
       "494     4.798377\n",
       "496    29.937032\n",
       "497    16.736163\n",
       "498    51.152521\n",
       "499    40.867914\n",
       "Name: Age, Length: 427, dtype: float64"
      ]
     },
     "execution_count": 26,
     "metadata": {},
     "output_type": "execute_result"
    }
   ],
   "source": [
    "double_group[\"Age\"].filter(lambda x: x.sum()>2400)"
   ]
  },
  {
   "cell_type": "markdown",
   "metadata": {
    "colab_type": "text",
    "id": "K8WuegM0AkSI"
   },
   "source": [
    "## Transformación de variables"
   ]
  },
  {
   "cell_type": "code",
   "execution_count": 27,
   "metadata": {
    "colab": {},
    "colab_type": "code",
    "id": "_3lvmdbVAkSI"
   },
   "outputs": [],
   "source": [
    "zscore = lambda x : (x - x.mean())/x.std()"
   ]
  },
  {
   "cell_type": "code",
   "execution_count": 28,
   "metadata": {
    "colab": {},
    "colab_type": "code",
    "id": "fLCs7OEOAkSJ"
   },
   "outputs": [],
   "source": [
    "z_group = double_group.transform(zscore)"
   ]
  },
  {
   "cell_type": "code",
   "execution_count": 29,
   "metadata": {
    "colab": {},
    "colab_type": "code",
    "id": "1_3gMroqAkSK"
   },
   "outputs": [],
   "source": [
    "import matplotlib.pyplot as plt"
   ]
  },
  {
   "cell_type": "code",
   "execution_count": 30,
   "metadata": {
    "colab": {
     "base_uri": "https://localhost:8080/",
     "height": 350
    },
    "colab_type": "code",
    "id": "CRgESBjmAkSL",
    "outputId": "3f2055ac-0d7e-4787-ab2a-aa6045c585db"
   },
   "outputs": [
    {
     "data": {
      "text/plain": [
       "(array([  5.,  28.,  60.,  88., 102., 111.,  64.,  33.,   6.,   3.]),\n",
       " array([-2.68027429, -2.10201843, -1.52376257, -0.94550672, -0.36725086,\n",
       "         0.21100499,  0.78926085,  1.3675167 ,  1.94577256,  2.52402842,\n",
       "         3.10228427]),\n",
       " <BarContainer object of 10 artists>)"
      ]
     },
     "execution_count": 30,
     "metadata": {},
     "output_type": "execute_result"
    },
    {
     "data": {
      "image/png": "[encoded data removed]",
      "text/plain": [
       "<Figure size 432x288 with 1 Axes>"
      ]
     },
     "metadata": {
      "needs_background": "light"
     },
     "output_type": "display_data"
    }
   ],
   "source": [
    "plt.hist(z_group[\"Age\"])"
   ]
  },
  {
   "cell_type": "code",
   "execution_count": 31,
   "metadata": {
    "colab": {},
    "colab_type": "code",
    "id": "V5OjiQoAAkSM"
   },
   "outputs": [],
   "source": [
    "fill_na_mean = lambda x : x.fillna(x.mean())"
   ]
  },
  {
   "cell_type": "code",
   "execution_count": 32,
   "metadata": {
    "colab": {
     "base_uri": "https://localhost:8080/",
     "height": 419
    },
    "colab_type": "code",
    "id": "Jt30Dhi7AkSN",
    "outputId": "ca1ea0dc-e6fe-4fbc-a412-9629628408b4"
   },
   "outputs": [
    {
     "data": {
      "text/html": [
       "<div>\n",
       "<style scoped>\n",
       "    .dataframe tbody tr th:only-of-type {\n",
       "        vertical-align: middle;\n",
       "    }\n",
       "\n",
       "    .dataframe tbody tr th {\n",
       "        vertical-align: top;\n",
       "    }\n",
       "\n",
       "    .dataframe thead th {\n",
       "        text-align: right;\n",
       "    }\n",
       "</style>\n",
       "<table border=\"1\" class=\"dataframe\">\n",
       "  <thead>\n",
       "    <tr style=\"text-align: right;\">\n",
       "      <th></th>\n",
       "      <th>Height</th>\n",
       "      <th>Weight</th>\n",
       "      <th>Age</th>\n",
       "      <th>Income</th>\n",
       "    </tr>\n",
       "  </thead>\n",
       "  <tbody>\n",
       "    <tr>\n",
       "      <th>0</th>\n",
       "      <td>155.566219</td>\n",
       "      <td>30.345450</td>\n",
       "      <td>16.747512</td>\n",
       "      <td>18756.227663</td>\n",
       "    </tr>\n",
       "    <tr>\n",
       "      <th>1</th>\n",
       "      <td>131.295934</td>\n",
       "      <td>52.720935</td>\n",
       "      <td>30.901475</td>\n",
       "      <td>18679.430776</td>\n",
       "    </tr>\n",
       "    <tr>\n",
       "      <th>2</th>\n",
       "      <td>154.721751</td>\n",
       "      <td>13.613319</td>\n",
       "      <td>29.035024</td>\n",
       "      <td>18135.667684</td>\n",
       "    </tr>\n",
       "    <tr>\n",
       "      <th>3</th>\n",
       "      <td>159.167583</td>\n",
       "      <td>111.047442</td>\n",
       "      <td>21.192309</td>\n",
       "      <td>19310.314816</td>\n",
       "    </tr>\n",
       "    <tr>\n",
       "      <th>4</th>\n",
       "      <td>197.797979</td>\n",
       "      <td>66.765546</td>\n",
       "      <td>20.442940</td>\n",
       "      <td>19916.794255</td>\n",
       "    </tr>\n",
       "    <tr>\n",
       "      <th>...</th>\n",
       "      <td>...</td>\n",
       "      <td>...</td>\n",
       "      <td>...</td>\n",
       "      <td>...</td>\n",
       "    </tr>\n",
       "    <tr>\n",
       "      <th>495</th>\n",
       "      <td>154.822961</td>\n",
       "      <td>54.058875</td>\n",
       "      <td>36.722932</td>\n",
       "      <td>20898.909844</td>\n",
       "    </tr>\n",
       "    <tr>\n",
       "      <th>496</th>\n",
       "      <td>170.418337</td>\n",
       "      <td>56.818311</td>\n",
       "      <td>29.937032</td>\n",
       "      <td>19651.011661</td>\n",
       "    </tr>\n",
       "    <tr>\n",
       "      <th>497</th>\n",
       "      <td>148.930271</td>\n",
       "      <td>43.911611</td>\n",
       "      <td>16.736163</td>\n",
       "      <td>19450.668558</td>\n",
       "    </tr>\n",
       "    <tr>\n",
       "      <th>498</th>\n",
       "      <td>163.164052</td>\n",
       "      <td>105.411361</td>\n",
       "      <td>51.152521</td>\n",
       "      <td>18889.737637</td>\n",
       "    </tr>\n",
       "    <tr>\n",
       "      <th>499</th>\n",
       "      <td>148.535146</td>\n",
       "      <td>46.865926</td>\n",
       "      <td>40.867914</td>\n",
       "      <td>19372.584742</td>\n",
       "    </tr>\n",
       "  </tbody>\n",
       "</table>\n",
       "<p>500 rows × 4 columns</p>\n",
       "</div>"
      ],
      "text/plain": [
       "         Height      Weight        Age        Income\n",
       "0    155.566219   30.345450  16.747512  18756.227663\n",
       "1    131.295934   52.720935  30.901475  18679.430776\n",
       "2    154.721751   13.613319  29.035024  18135.667684\n",
       "3    159.167583  111.047442  21.192309  19310.314816\n",
       "4    197.797979   66.765546  20.442940  19916.794255\n",
       "..          ...         ...        ...           ...\n",
       "495  154.822961   54.058875  36.722932  20898.909844\n",
       "496  170.418337   56.818311  29.937032  19651.011661\n",
       "497  148.930271   43.911611  16.736163  19450.668558\n",
       "498  163.164052  105.411361  51.152521  18889.737637\n",
       "499  148.535146   46.865926  40.867914  19372.584742\n",
       "\n",
       "[500 rows x 4 columns]"
      ]
     },
     "execution_count": 32,
     "metadata": {},
     "output_type": "execute_result"
    }
   ],
   "source": [
    "double_group.transform(fill_na_mean)"
   ]
  },
  {
   "cell_type": "markdown",
   "metadata": {
    "colab_type": "text",
    "id": "REgLbwFpAkSO"
   },
   "source": [
    "## Operaciones diversas muy útiles"
   ]
  },
  {
   "cell_type": "code",
   "execution_count": 33,
   "metadata": {
    "colab": {
     "base_uri": "https://localhost:8080/",
     "height": 235
    },
    "colab_type": "code",
    "id": "Onxbpf_5AkSO",
    "outputId": "ec3f40b7-5e5e-4674-b0a8-01963860af19"
   },
   "outputs": [
    {
     "data": {
      "text/html": [
       "<div>\n",
       "<style scoped>\n",
       "    .dataframe tbody tr th:only-of-type {\n",
       "        vertical-align: middle;\n",
       "    }\n",
       "\n",
       "    .dataframe tbody tr th {\n",
       "        vertical-align: top;\n",
       "    }\n",
       "\n",
       "    .dataframe thead th {\n",
       "        text-align: right;\n",
       "    }\n",
       "</style>\n",
       "<table border=\"1\" class=\"dataframe\">\n",
       "  <thead>\n",
       "    <tr style=\"text-align: right;\">\n",
       "      <th></th>\n",
       "      <th>Gender</th>\n",
       "      <th>Economic Status</th>\n",
       "      <th>Height</th>\n",
       "      <th>Weight</th>\n",
       "      <th>Age</th>\n",
       "      <th>Income</th>\n",
       "    </tr>\n",
       "  </thead>\n",
       "  <tbody>\n",
       "    <tr>\n",
       "      <th>0</th>\n",
       "      <td>Male</td>\n",
       "      <td>Poor</td>\n",
       "      <td>155.566219</td>\n",
       "      <td>30.345450</td>\n",
       "      <td>16.747512</td>\n",
       "      <td>18756.227663</td>\n",
       "    </tr>\n",
       "    <tr>\n",
       "      <th>1</th>\n",
       "      <td>Female</td>\n",
       "      <td>Poor</td>\n",
       "      <td>131.295934</td>\n",
       "      <td>52.720935</td>\n",
       "      <td>30.901475</td>\n",
       "      <td>18679.430776</td>\n",
       "    </tr>\n",
       "    <tr>\n",
       "      <th>3</th>\n",
       "      <td>Male</td>\n",
       "      <td>Rich</td>\n",
       "      <td>159.167583</td>\n",
       "      <td>111.047442</td>\n",
       "      <td>21.192309</td>\n",
       "      <td>19310.314816</td>\n",
       "    </tr>\n",
       "    <tr>\n",
       "      <th>5</th>\n",
       "      <td>Male</td>\n",
       "      <td>Middle Class</td>\n",
       "      <td>157.296245</td>\n",
       "      <td>85.967195</td>\n",
       "      <td>6.850109</td>\n",
       "      <td>19924.162901</td>\n",
       "    </tr>\n",
       "    <tr>\n",
       "      <th>11</th>\n",
       "      <td>Female</td>\n",
       "      <td>Rich</td>\n",
       "      <td>172.324808</td>\n",
       "      <td>57.489331</td>\n",
       "      <td>40.491976</td>\n",
       "      <td>18299.390781</td>\n",
       "    </tr>\n",
       "    <tr>\n",
       "      <th>12</th>\n",
       "      <td>Female</td>\n",
       "      <td>Middle Class</td>\n",
       "      <td>134.980170</td>\n",
       "      <td>69.518334</td>\n",
       "      <td>16.642745</td>\n",
       "      <td>20904.340879</td>\n",
       "    </tr>\n",
       "  </tbody>\n",
       "</table>\n",
       "</div>"
      ],
      "text/plain": [
       "    Gender Economic Status      Height      Weight        Age        Income\n",
       "0     Male            Poor  155.566219   30.345450  16.747512  18756.227663\n",
       "1   Female            Poor  131.295934   52.720935  30.901475  18679.430776\n",
       "3     Male            Rich  159.167583  111.047442  21.192309  19310.314816\n",
       "5     Male    Middle Class  157.296245   85.967195   6.850109  19924.162901\n",
       "11  Female            Rich  172.324808   57.489331  40.491976  18299.390781\n",
       "12  Female    Middle Class  134.980170   69.518334  16.642745  20904.340879"
      ]
     },
     "execution_count": 33,
     "metadata": {},
     "output_type": "execute_result"
    }
   ],
   "source": [
    "double_group.head(1)"
   ]
  },
  {
   "cell_type": "code",
   "execution_count": 34,
   "metadata": {
    "colab": {
     "base_uri": "https://localhost:8080/",
     "height": 235
    },
    "colab_type": "code",
    "id": "srDlzkTjAkSP",
    "outputId": "7c3e78ed-0525-4c24-d3e5-ffd788897744"
   },
   "outputs": [
    {
     "data": {
      "text/html": [
       "<div>\n",
       "<style scoped>\n",
       "    .dataframe tbody tr th:only-of-type {\n",
       "        vertical-align: middle;\n",
       "    }\n",
       "\n",
       "    .dataframe tbody tr th {\n",
       "        vertical-align: top;\n",
       "    }\n",
       "\n",
       "    .dataframe thead th {\n",
       "        text-align: right;\n",
       "    }\n",
       "</style>\n",
       "<table border=\"1\" class=\"dataframe\">\n",
       "  <thead>\n",
       "    <tr style=\"text-align: right;\">\n",
       "      <th></th>\n",
       "      <th>Gender</th>\n",
       "      <th>Economic Status</th>\n",
       "      <th>Height</th>\n",
       "      <th>Weight</th>\n",
       "      <th>Age</th>\n",
       "      <th>Income</th>\n",
       "    </tr>\n",
       "  </thead>\n",
       "  <tbody>\n",
       "    <tr>\n",
       "      <th>487</th>\n",
       "      <td>Female</td>\n",
       "      <td>Poor</td>\n",
       "      <td>186.048408</td>\n",
       "      <td>25.286503</td>\n",
       "      <td>38.902219</td>\n",
       "      <td>18431.213942</td>\n",
       "    </tr>\n",
       "    <tr>\n",
       "      <th>492</th>\n",
       "      <td>Male</td>\n",
       "      <td>Rich</td>\n",
       "      <td>174.425482</td>\n",
       "      <td>80.499364</td>\n",
       "      <td>44.442331</td>\n",
       "      <td>20628.358936</td>\n",
       "    </tr>\n",
       "    <tr>\n",
       "      <th>494</th>\n",
       "      <td>Male</td>\n",
       "      <td>Middle Class</td>\n",
       "      <td>127.291107</td>\n",
       "      <td>53.769744</td>\n",
       "      <td>4.798377</td>\n",
       "      <td>21149.966825</td>\n",
       "    </tr>\n",
       "    <tr>\n",
       "      <th>495</th>\n",
       "      <td>Male</td>\n",
       "      <td>Poor</td>\n",
       "      <td>154.822961</td>\n",
       "      <td>54.058875</td>\n",
       "      <td>36.722932</td>\n",
       "      <td>20898.909844</td>\n",
       "    </tr>\n",
       "    <tr>\n",
       "      <th>498</th>\n",
       "      <td>Female</td>\n",
       "      <td>Rich</td>\n",
       "      <td>163.164052</td>\n",
       "      <td>105.411361</td>\n",
       "      <td>51.152521</td>\n",
       "      <td>18889.737637</td>\n",
       "    </tr>\n",
       "    <tr>\n",
       "      <th>499</th>\n",
       "      <td>Female</td>\n",
       "      <td>Middle Class</td>\n",
       "      <td>148.535146</td>\n",
       "      <td>46.865926</td>\n",
       "      <td>40.867914</td>\n",
       "      <td>19372.584742</td>\n",
       "    </tr>\n",
       "  </tbody>\n",
       "</table>\n",
       "</div>"
      ],
      "text/plain": [
       "     Gender Economic Status      Height      Weight        Age        Income\n",
       "487  Female            Poor  186.048408   25.286503  38.902219  18431.213942\n",
       "492    Male            Rich  174.425482   80.499364  44.442331  20628.358936\n",
       "494    Male    Middle Class  127.291107   53.769744   4.798377  21149.966825\n",
       "495    Male            Poor  154.822961   54.058875  36.722932  20898.909844\n",
       "498  Female            Rich  163.164052  105.411361  51.152521  18889.737637\n",
       "499  Female    Middle Class  148.535146   46.865926  40.867914  19372.584742"
      ]
     },
     "execution_count": 34,
     "metadata": {},
     "output_type": "execute_result"
    }
   ],
   "source": [
    "double_group.tail(1)"
   ]
  },
  {
   "cell_type": "code",
   "execution_count": 35,
   "metadata": {
    "colab": {
     "base_uri": "https://localhost:8080/",
     "height": 266
    },
    "colab_type": "code",
    "id": "PUzcau-IAkSQ",
    "outputId": "b6414924-5c52-4957-ca75-e482fa6bb218"
   },
   "outputs": [
    {
     "data": {
      "text/html": [
       "<div>\n",
       "<style scoped>\n",
       "    .dataframe tbody tr th:only-of-type {\n",
       "        vertical-align: middle;\n",
       "    }\n",
       "\n",
       "    .dataframe tbody tr th {\n",
       "        vertical-align: top;\n",
       "    }\n",
       "\n",
       "    .dataframe thead th {\n",
       "        text-align: right;\n",
       "    }\n",
       "</style>\n",
       "<table border=\"1\" class=\"dataframe\">\n",
       "  <thead>\n",
       "    <tr style=\"text-align: right;\">\n",
       "      <th></th>\n",
       "      <th></th>\n",
       "      <th>Height</th>\n",
       "      <th>Weight</th>\n",
       "      <th>Age</th>\n",
       "      <th>Income</th>\n",
       "    </tr>\n",
       "    <tr>\n",
       "      <th>Gender</th>\n",
       "      <th>Economic Status</th>\n",
       "      <th></th>\n",
       "      <th></th>\n",
       "      <th></th>\n",
       "      <th></th>\n",
       "    </tr>\n",
       "  </thead>\n",
       "  <tbody>\n",
       "    <tr>\n",
       "      <th rowspan=\"3\" valign=\"top\">Female</th>\n",
       "      <th>Middle Class</th>\n",
       "      <td>94.715058</td>\n",
       "      <td>57.921270</td>\n",
       "      <td>34.410065</td>\n",
       "      <td>20990.829891</td>\n",
       "    </tr>\n",
       "    <tr>\n",
       "      <th>Poor</th>\n",
       "      <td>206.434862</td>\n",
       "      <td>65.661543</td>\n",
       "      <td>39.279424</td>\n",
       "      <td>18710.757761</td>\n",
       "    </tr>\n",
       "    <tr>\n",
       "      <th>Rich</th>\n",
       "      <td>170.550539</td>\n",
       "      <td>90.272527</td>\n",
       "      <td>8.381869</td>\n",
       "      <td>20720.794513</td>\n",
       "    </tr>\n",
       "    <tr>\n",
       "      <th rowspan=\"3\" valign=\"top\">Male</th>\n",
       "      <th>Middle Class</th>\n",
       "      <td>134.131941</td>\n",
       "      <td>75.075102</td>\n",
       "      <td>19.797286</td>\n",
       "      <td>20841.908221</td>\n",
       "    </tr>\n",
       "    <tr>\n",
       "      <th>Poor</th>\n",
       "      <td>137.988763</td>\n",
       "      <td>52.774139</td>\n",
       "      <td>24.262348</td>\n",
       "      <td>18484.251845</td>\n",
       "    </tr>\n",
       "    <tr>\n",
       "      <th>Rich</th>\n",
       "      <td>112.790167</td>\n",
       "      <td>76.963223</td>\n",
       "      <td>27.800170</td>\n",
       "      <td>18530.962192</td>\n",
       "    </tr>\n",
       "  </tbody>\n",
       "</table>\n",
       "</div>"
      ],
      "text/plain": [
       "                            Height     Weight        Age        Income\n",
       "Gender Economic Status                                                \n",
       "Female Middle Class      94.715058  57.921270  34.410065  20990.829891\n",
       "       Poor             206.434862  65.661543  39.279424  18710.757761\n",
       "       Rich             170.550539  90.272527   8.381869  20720.794513\n",
       "Male   Middle Class     134.131941  75.075102  19.797286  20841.908221\n",
       "       Poor             137.988763  52.774139  24.262348  18484.251845\n",
       "       Rich             112.790167  76.963223  27.800170  18530.962192"
      ]
     },
     "execution_count": 35,
     "metadata": {},
     "output_type": "execute_result"
    }
   ],
   "source": [
    "double_group.nth(32)"
   ]
  },
  {
   "cell_type": "code",
   "execution_count": 36,
   "metadata": {
    "colab": {
     "base_uri": "https://localhost:8080/",
     "height": 142
    },
    "colab_type": "code",
    "id": "TLvuUCwlAkSR",
    "outputId": "f4db7972-2a76-4a61-9040-8b0ea79773f0"
   },
   "outputs": [
    {
     "data": {
      "text/html": [
       "<div>\n",
       "<style scoped>\n",
       "    .dataframe tbody tr th:only-of-type {\n",
       "        vertical-align: middle;\n",
       "    }\n",
       "\n",
       "    .dataframe tbody tr th {\n",
       "        vertical-align: top;\n",
       "    }\n",
       "\n",
       "    .dataframe thead th {\n",
       "        text-align: right;\n",
       "    }\n",
       "</style>\n",
       "<table border=\"1\" class=\"dataframe\">\n",
       "  <thead>\n",
       "    <tr style=\"text-align: right;\">\n",
       "      <th></th>\n",
       "      <th></th>\n",
       "      <th>Height</th>\n",
       "      <th>Weight</th>\n",
       "      <th>Age</th>\n",
       "      <th>Income</th>\n",
       "    </tr>\n",
       "    <tr>\n",
       "      <th>Gender</th>\n",
       "      <th>Economic Status</th>\n",
       "      <th></th>\n",
       "      <th></th>\n",
       "      <th></th>\n",
       "      <th></th>\n",
       "    </tr>\n",
       "  </thead>\n",
       "  <tbody>\n",
       "    <tr>\n",
       "      <th rowspan=\"3\" valign=\"top\">Female</th>\n",
       "      <th>Middle Class</th>\n",
       "      <td>148.930271</td>\n",
       "      <td>43.911611</td>\n",
       "      <td>16.736163</td>\n",
       "      <td>19450.668558</td>\n",
       "    </tr>\n",
       "    <tr>\n",
       "      <th>Poor</th>\n",
       "      <td>137.412512</td>\n",
       "      <td>68.503740</td>\n",
       "      <td>37.334849</td>\n",
       "      <td>19549.850846</td>\n",
       "    </tr>\n",
       "    <tr>\n",
       "      <th>Rich</th>\n",
       "      <td>170.418337</td>\n",
       "      <td>56.818311</td>\n",
       "      <td>29.937032</td>\n",
       "      <td>19651.011661</td>\n",
       "    </tr>\n",
       "    <tr>\n",
       "      <th>Male</th>\n",
       "      <th>Rich</th>\n",
       "      <td>174.425482</td>\n",
       "      <td>80.499364</td>\n",
       "      <td>44.442331</td>\n",
       "      <td>20628.358936</td>\n",
       "    </tr>\n",
       "  </tbody>\n",
       "</table>\n",
       "</div>"
      ],
      "text/plain": [
       "                            Height     Weight        Age        Income\n",
       "Gender Economic Status                                                \n",
       "Female Middle Class     148.930271  43.911611  16.736163  19450.668558\n",
       "       Poor             137.412512  68.503740  37.334849  19549.850846\n",
       "       Rich             170.418337  56.818311  29.937032  19651.011661\n",
       "Male   Rich             174.425482  80.499364  44.442331  20628.358936"
      ]
     },
     "execution_count": 36,
     "metadata": {},
     "output_type": "execute_result"
    }
   ],
   "source": [
    "double_group.nth(82)"
   ]
  },
  {
   "cell_type": "code",
   "execution_count": 37,
   "metadata": {
    "colab": {},
    "colab_type": "code",
    "id": "Lm1IS7UeAkSS"
   },
   "outputs": [],
   "source": [
    "data_sorted = data.sort_values([\"Age\", \"Income\"])"
   ]
  },
  {
   "cell_type": "code",
   "execution_count": 38,
   "metadata": {
    "colab": {
     "base_uri": "https://localhost:8080/",
     "height": 359
    },
    "colab_type": "code",
    "id": "_E618lUBAkST",
    "outputId": "bb9cd800-a233-4f86-b033-cfb085b09f2d"
   },
   "outputs": [
    {
     "data": {
      "text/html": [
       "<div>\n",
       "<style scoped>\n",
       "    .dataframe tbody tr th:only-of-type {\n",
       "        vertical-align: middle;\n",
       "    }\n",
       "\n",
       "    .dataframe tbody tr th {\n",
       "        vertical-align: top;\n",
       "    }\n",
       "\n",
       "    .dataframe thead th {\n",
       "        text-align: right;\n",
       "    }\n",
       "</style>\n",
       "<table border=\"1\" class=\"dataframe\">\n",
       "  <thead>\n",
       "    <tr style=\"text-align: right;\">\n",
       "      <th></th>\n",
       "      <th>Gender</th>\n",
       "      <th>Economic Status</th>\n",
       "      <th>Height</th>\n",
       "      <th>Weight</th>\n",
       "      <th>Age</th>\n",
       "      <th>Income</th>\n",
       "    </tr>\n",
       "  </thead>\n",
       "  <tbody>\n",
       "    <tr>\n",
       "      <th>8</th>\n",
       "      <td>Male</td>\n",
       "      <td>Rich</td>\n",
       "      <td>104.203077</td>\n",
       "      <td>52.859739</td>\n",
       "      <td>0.938660</td>\n",
       "      <td>20403.436803</td>\n",
       "    </tr>\n",
       "    <tr>\n",
       "      <th>278</th>\n",
       "      <td>Female</td>\n",
       "      <td>Poor</td>\n",
       "      <td>181.360747</td>\n",
       "      <td>56.329547</td>\n",
       "      <td>1.499520</td>\n",
       "      <td>19679.113373</td>\n",
       "    </tr>\n",
       "    <tr>\n",
       "      <th>254</th>\n",
       "      <td>Female</td>\n",
       "      <td>Rich</td>\n",
       "      <td>123.367022</td>\n",
       "      <td>97.350438</td>\n",
       "      <td>2.198905</td>\n",
       "      <td>19069.673323</td>\n",
       "    </tr>\n",
       "    <tr>\n",
       "      <th>464</th>\n",
       "      <td>Male</td>\n",
       "      <td>Middle Class</td>\n",
       "      <td>185.817031</td>\n",
       "      <td>77.530412</td>\n",
       "      <td>2.848955</td>\n",
       "      <td>18656.769061</td>\n",
       "    </tr>\n",
       "    <tr>\n",
       "      <th>466</th>\n",
       "      <td>Male</td>\n",
       "      <td>Rich</td>\n",
       "      <td>156.232747</td>\n",
       "      <td>82.846175</td>\n",
       "      <td>4.360705</td>\n",
       "      <td>20710.712888</td>\n",
       "    </tr>\n",
       "    <tr>\n",
       "      <th>494</th>\n",
       "      <td>Male</td>\n",
       "      <td>Middle Class</td>\n",
       "      <td>127.291107</td>\n",
       "      <td>53.769744</td>\n",
       "      <td>4.798377</td>\n",
       "      <td>21149.966825</td>\n",
       "    </tr>\n",
       "    <tr>\n",
       "      <th>115</th>\n",
       "      <td>Male</td>\n",
       "      <td>Poor</td>\n",
       "      <td>185.306571</td>\n",
       "      <td>69.151862</td>\n",
       "      <td>5.014125</td>\n",
       "      <td>18344.707614</td>\n",
       "    </tr>\n",
       "    <tr>\n",
       "      <th>439</th>\n",
       "      <td>Female</td>\n",
       "      <td>Middle Class</td>\n",
       "      <td>148.583616</td>\n",
       "      <td>104.159308</td>\n",
       "      <td>6.047598</td>\n",
       "      <td>20720.068806</td>\n",
       "    </tr>\n",
       "    <tr>\n",
       "      <th>5</th>\n",
       "      <td>Male</td>\n",
       "      <td>Middle Class</td>\n",
       "      <td>157.296245</td>\n",
       "      <td>85.967195</td>\n",
       "      <td>6.850109</td>\n",
       "      <td>19924.162901</td>\n",
       "    </tr>\n",
       "    <tr>\n",
       "      <th>150</th>\n",
       "      <td>Male</td>\n",
       "      <td>Poor</td>\n",
       "      <td>200.266535</td>\n",
       "      <td>96.420110</td>\n",
       "      <td>6.917725</td>\n",
       "      <td>20506.044825</td>\n",
       "    </tr>\n",
       "  </tbody>\n",
       "</table>\n",
       "</div>"
      ],
      "text/plain": [
       "     Gender Economic Status      Height      Weight       Age        Income\n",
       "8      Male            Rich  104.203077   52.859739  0.938660  20403.436803\n",
       "278  Female            Poor  181.360747   56.329547  1.499520  19679.113373\n",
       "254  Female            Rich  123.367022   97.350438  2.198905  19069.673323\n",
       "464    Male    Middle Class  185.817031   77.530412  2.848955  18656.769061\n",
       "466    Male            Rich  156.232747   82.846175  4.360705  20710.712888\n",
       "494    Male    Middle Class  127.291107   53.769744  4.798377  21149.966825\n",
       "115    Male            Poor  185.306571   69.151862  5.014125  18344.707614\n",
       "439  Female    Middle Class  148.583616  104.159308  6.047598  20720.068806\n",
       "5      Male    Middle Class  157.296245   85.967195  6.850109  19924.162901\n",
       "150    Male            Poor  200.266535   96.420110  6.917725  20506.044825"
      ]
     },
     "execution_count": 38,
     "metadata": {},
     "output_type": "execute_result"
    }
   ],
   "source": [
    "data_sorted.head(10)"
   ]
  },
  {
   "cell_type": "code",
   "execution_count": 39,
   "metadata": {
    "colab": {},
    "colab_type": "code",
    "id": "p7TM9sRqAkSU"
   },
   "outputs": [],
   "source": [
    "age_grouped = data_sorted.groupby(\"Gender\")"
   ]
  },
  {
   "cell_type": "code",
   "execution_count": 40,
   "metadata": {
    "colab": {
     "base_uri": "https://localhost:8080/",
     "height": 111
    },
    "colab_type": "code",
    "id": "xilQDYDuAkSU",
    "outputId": "9d8dba61-abc3-470f-d137-38706f7ddd56"
   },
   "outputs": [
    {
     "data": {
      "text/html": [
       "<div>\n",
       "<style scoped>\n",
       "    .dataframe tbody tr th:only-of-type {\n",
       "        vertical-align: middle;\n",
       "    }\n",
       "\n",
       "    .dataframe tbody tr th {\n",
       "        vertical-align: top;\n",
       "    }\n",
       "\n",
       "    .dataframe thead th {\n",
       "        text-align: right;\n",
       "    }\n",
       "</style>\n",
       "<table border=\"1\" class=\"dataframe\">\n",
       "  <thead>\n",
       "    <tr style=\"text-align: right;\">\n",
       "      <th></th>\n",
       "      <th>Gender</th>\n",
       "      <th>Economic Status</th>\n",
       "      <th>Height</th>\n",
       "      <th>Weight</th>\n",
       "      <th>Age</th>\n",
       "      <th>Income</th>\n",
       "    </tr>\n",
       "  </thead>\n",
       "  <tbody>\n",
       "    <tr>\n",
       "      <th>8</th>\n",
       "      <td>Male</td>\n",
       "      <td>Rich</td>\n",
       "      <td>104.203077</td>\n",
       "      <td>52.859739</td>\n",
       "      <td>0.93866</td>\n",
       "      <td>20403.436803</td>\n",
       "    </tr>\n",
       "    <tr>\n",
       "      <th>278</th>\n",
       "      <td>Female</td>\n",
       "      <td>Poor</td>\n",
       "      <td>181.360747</td>\n",
       "      <td>56.329547</td>\n",
       "      <td>1.49952</td>\n",
       "      <td>19679.113373</td>\n",
       "    </tr>\n",
       "  </tbody>\n",
       "</table>\n",
       "</div>"
      ],
      "text/plain": [
       "     Gender Economic Status      Height     Weight      Age        Income\n",
       "8      Male            Rich  104.203077  52.859739  0.93866  20403.436803\n",
       "278  Female            Poor  181.360747  56.329547  1.49952  19679.113373"
      ]
     },
     "execution_count": 40,
     "metadata": {},
     "output_type": "execute_result"
    }
   ],
   "source": [
    "age_grouped.head(1)"
   ]
  },
  {
   "cell_type": "code",
   "execution_count": 41,
   "metadata": {
    "colab": {
     "base_uri": "https://localhost:8080/",
     "height": 111
    },
    "colab_type": "code",
    "id": "-f2hp-tVAkSV",
    "outputId": "12df5949-b1ab-444b-dfbe-5e86694ce039"
   },
   "outputs": [
    {
     "data": {
      "text/html": [
       "<div>\n",
       "<style scoped>\n",
       "    .dataframe tbody tr th:only-of-type {\n",
       "        vertical-align: middle;\n",
       "    }\n",
       "\n",
       "    .dataframe tbody tr th {\n",
       "        vertical-align: top;\n",
       "    }\n",
       "\n",
       "    .dataframe thead th {\n",
       "        text-align: right;\n",
       "    }\n",
       "</style>\n",
       "<table border=\"1\" class=\"dataframe\">\n",
       "  <thead>\n",
       "    <tr style=\"text-align: right;\">\n",
       "      <th></th>\n",
       "      <th>Gender</th>\n",
       "      <th>Economic Status</th>\n",
       "      <th>Height</th>\n",
       "      <th>Weight</th>\n",
       "      <th>Age</th>\n",
       "      <th>Income</th>\n",
       "    </tr>\n",
       "  </thead>\n",
       "  <tbody>\n",
       "    <tr>\n",
       "      <th>238</th>\n",
       "      <td>Male</td>\n",
       "      <td>Poor</td>\n",
       "      <td>159.446375</td>\n",
       "      <td>27.583582</td>\n",
       "      <td>60.230689</td>\n",
       "      <td>20168.100986</td>\n",
       "    </tr>\n",
       "    <tr>\n",
       "      <th>434</th>\n",
       "      <td>Female</td>\n",
       "      <td>Middle Class</td>\n",
       "      <td>144.474148</td>\n",
       "      <td>95.467438</td>\n",
       "      <td>70.953465</td>\n",
       "      <td>20038.069468</td>\n",
       "    </tr>\n",
       "  </tbody>\n",
       "</table>\n",
       "</div>"
      ],
      "text/plain": [
       "     Gender Economic Status      Height     Weight        Age        Income\n",
       "238    Male            Poor  159.446375  27.583582  60.230689  20168.100986\n",
       "434  Female    Middle Class  144.474148  95.467438  70.953465  20038.069468"
      ]
     },
     "execution_count": 41,
     "metadata": {},
     "output_type": "execute_result"
    }
   ],
   "source": [
    "age_grouped.tail(1)"
   ]
  },
  {
   "cell_type": "markdown",
   "metadata": {
    "colab_type": "text",
    "id": "m6-5J5PaAkSW"
   },
   "source": [
    "# Conjunto de entrenamiento y conjunto de testing"
   ]
  },
  {
   "cell_type": "code",
   "execution_count": 44,
   "metadata": {
    "colab": {},
    "colab_type": "code",
    "id": "TsLsKm4RAkSW"
   },
   "outputs": [],
   "source": [
    "import os\n",
    "import pandas as pd"
   ]
  },
  {
   "cell_type": "code",
   "execution_count": 45,
   "metadata": {
    "colab": {},
    "colab_type": "code",
    "id": "nUwo03aqAkSX"
   },
   "outputs": [],
   "source": [
    "mainpath = \"/home/bigdatafutura/notebooks/sesion 02/files\"\n",
    "filename = \"Customer Churn Model.txt\"\n",
    "fullpath = os.path.join(mainpath, filename)\n",
    "\n",
    "data = pd.read_csv(fullpath)"
   ]
  },
  {
   "cell_type": "code",
   "execution_count": 46,
   "metadata": {
    "colab": {},
    "colab_type": "code",
    "id": "4JGk0tOCAkSY",
    "outputId": "b20a3f6f-635d-47d9-9218-1ee8391ba6bf"
   },
   "outputs": [
    {
     "data": {
      "text/plain": [
       "3333"
      ]
     },
     "execution_count": 46,
     "metadata": {},
     "output_type": "execute_result"
    }
   ],
   "source": [
    "len(data)"
   ]
  },
  {
   "cell_type": "markdown",
   "metadata": {
    "colab_type": "text",
    "id": "xyYlgyXNAkSZ"
   },
   "source": [
    "## Dividir utilizando la distribución normal"
   ]
  },
  {
   "cell_type": "code",
   "execution_count": 47,
   "metadata": {
    "colab": {},
    "colab_type": "code",
    "id": "0USP9bsAAkSZ"
   },
   "outputs": [],
   "source": [
    "a = np.random.randn(len(data))"
   ]
  },
  {
   "cell_type": "code",
   "execution_count": 48,
   "metadata": {
    "colab": {
     "base_uri": "https://localhost:8080/",
     "height": 350
    },
    "colab_type": "code",
    "id": "t3Tdw4SAAkSa",
    "outputId": "68053f0c-2a9a-4b87-905d-7eef21808580"
   },
   "outputs": [
    {
     "data": {
      "text/plain": [
       "(array([  9.,  77., 256., 674., 865., 813., 447., 153.,  35.,   4.]),\n",
       " array([-3.38144775, -2.67439121, -1.96733467, -1.26027813, -0.55322159,\n",
       "         0.15383495,  0.86089149,  1.56794803,  2.27500457,  2.98206111,\n",
       "         3.68911766]),\n",
       " <BarContainer object of 10 artists>)"
      ]
     },
     "execution_count": 48,
     "metadata": {},
     "output_type": "execute_result"
    },
    {
     "data": {
      "image/png": "[encoded data removed]",
      "text/plain": [
       "<Figure size 432x288 with 1 Axes>"
      ]
     },
     "metadata": {
      "needs_background": "light"
     },
     "output_type": "display_data"
    }
   ],
   "source": [
    "plt.hist(a)"
   ]
  },
  {
   "cell_type": "code",
   "execution_count": 49,
   "metadata": {
    "colab": {},
    "colab_type": "code",
    "id": "ZOjx59etAkSa"
   },
   "outputs": [],
   "source": [
    "check = (a<0.75) # No es el 75% de los datos, son los números que son < 0.75!!! "
   ]
  },
  {
   "cell_type": "code",
   "execution_count": 50,
   "metadata": {
    "colab": {
     "base_uri": "https://localhost:8080/",
     "height": 969
    },
    "colab_type": "code",
    "id": "LAVp0N0JAkSb",
    "outputId": "ea86ea28-0907-405d-c41e-292975e12ad2"
   },
   "outputs": [
    {
     "data": {
      "text/plain": [
       "array([ True, False, False, ...,  True,  True,  True])"
      ]
     },
     "execution_count": 50,
     "metadata": {},
     "output_type": "execute_result"
    }
   ],
   "source": [
    "check"
   ]
  },
  {
   "cell_type": "code",
   "execution_count": 51,
   "metadata": {
    "colab": {
     "base_uri": "https://localhost:8080/",
     "height": 316
    },
    "colab_type": "code",
    "id": "iWhUObc0AkSc",
    "outputId": "241296c4-8812-4e44-b70f-f01e4b7deb9b"
   },
   "outputs": [
    {
     "data": {
      "text/plain": [
       "(array([ 745.,    0.,    0.,    0.,    0.,    0.,    0.,    0.,    0.,\n",
       "        2588.]),\n",
       " array([0. , 0.1, 0.2, 0.3, 0.4, 0.5, 0.6, 0.7, 0.8, 0.9, 1. ]),\n",
       " <BarContainer object of 10 artists>)"
      ]
     },
     "execution_count": 51,
     "metadata": {},
     "output_type": "execute_result"
    },
    {
     "data": {
      "image/png": "[encoded data removed]",
      "text/plain": [
       "<Figure size 432x288 with 1 Axes>"
      ]
     },
     "metadata": {
      "needs_background": "light"
     },
     "output_type": "display_data"
    }
   ],
   "source": [
    "plt.hist(check.astype(int))#Ha cambiado en la versión 3.7 de python y necesita hacer un cast de bool a entero"
   ]
  },
  {
   "cell_type": "code",
   "execution_count": 52,
   "metadata": {
    "colab": {},
    "colab_type": "code",
    "id": "GRqOOoG2AkSc"
   },
   "outputs": [],
   "source": [
    "training = data[check]\n",
    "testing = data[~check]"
   ]
  },
  {
   "cell_type": "code",
   "execution_count": 53,
   "metadata": {
    "colab": {
     "base_uri": "https://localhost:8080/",
     "height": 34
    },
    "colab_type": "code",
    "id": "Ribx2PC1AkSd",
    "outputId": "6233c63b-3442-463d-9e2b-b9d68bd000a0"
   },
   "outputs": [
    {
     "data": {
      "text/plain": [
       "2588"
      ]
     },
     "execution_count": 53,
     "metadata": {},
     "output_type": "execute_result"
    }
   ],
   "source": [
    "len(training)"
   ]
  },
  {
   "cell_type": "code",
   "execution_count": 54,
   "metadata": {
    "colab": {
     "base_uri": "https://localhost:8080/",
     "height": 34
    },
    "colab_type": "code",
    "id": "0UnqiUWOAkSe",
    "outputId": "b08d645a-01c5-40fc-9bcd-e13cff80bb71"
   },
   "outputs": [
    {
     "data": {
      "text/plain": [
       "745"
      ]
     },
     "execution_count": 54,
     "metadata": {},
     "output_type": "execute_result"
    }
   ],
   "source": [
    "len(testing)"
   ]
  },
  {
   "cell_type": "markdown",
   "metadata": {
    "colab_type": "text",
    "id": "1f2ToslqAkSf"
   },
   "source": [
    "## Con la libreria sklearn"
   ]
  },
  {
   "cell_type": "code",
   "execution_count": 55,
   "metadata": {
    "colab": {},
    "colab_type": "code",
    "id": "26zoqG7RAkSf"
   },
   "outputs": [],
   "source": [
    "from sklearn.model_selection import train_test_split# Ha cambiado en la 3.7 de Python"
   ]
  },
  {
   "cell_type": "code",
   "execution_count": 56,
   "metadata": {
    "colab": {},
    "colab_type": "code",
    "id": "aVojsIWeAkSg"
   },
   "outputs": [],
   "source": [
    "train, test = train_test_split(data, test_size = 0.2)"
   ]
  },
  {
   "cell_type": "code",
   "execution_count": 57,
   "metadata": {
    "colab": {
     "base_uri": "https://localhost:8080/",
     "height": 34
    },
    "colab_type": "code",
    "id": "60Cjk1ifAkSg",
    "outputId": "127bd786-c53b-4382-973a-90f1b3bf0244"
   },
   "outputs": [
    {
     "data": {
      "text/plain": [
       "2666"
      ]
     },
     "execution_count": 57,
     "metadata": {},
     "output_type": "execute_result"
    }
   ],
   "source": [
    "len(train)"
   ]
  },
  {
   "cell_type": "code",
   "execution_count": 58,
   "metadata": {
    "colab": {
     "base_uri": "https://localhost:8080/",
     "height": 34
    },
    "colab_type": "code",
    "id": "xWfmYLTNAkSn",
    "outputId": "ed19bc2b-5dbc-40fd-dcf3-0c4a816838ba"
   },
   "outputs": [
    {
     "data": {
      "text/plain": [
       "667"
      ]
     },
     "execution_count": 58,
     "metadata": {},
     "output_type": "execute_result"
    }
   ],
   "source": [
    "len(test)"
   ]
  },
  {
   "cell_type": "markdown",
   "metadata": {
    "colab_type": "text",
    "id": "9l8-cogRAkSo"
   },
   "source": [
    "## Usando una función de shuffle"
   ]
  },
  {
   "cell_type": "code",
   "execution_count": 59,
   "metadata": {
    "colab": {},
    "colab_type": "code",
    "id": "QLvByZ3PAkSo"
   },
   "outputs": [],
   "source": [
    "import numpy as np"
   ]
  },
  {
   "cell_type": "code",
   "execution_count": 60,
   "metadata": {
    "colab": {
     "base_uri": "https://localhost:8080/",
     "height": 204
    },
    "colab_type": "code",
    "id": "hAwmSuggAkSp",
    "outputId": "68556d22-1833-44a7-8093-a88587991b76"
   },
   "outputs": [
    {
     "data": {
      "text/html": [
       "<div>\n",
       "<style scoped>\n",
       "    .dataframe tbody tr th:only-of-type {\n",
       "        vertical-align: middle;\n",
       "    }\n",
       "\n",
       "    .dataframe tbody tr th {\n",
       "        vertical-align: top;\n",
       "    }\n",
       "\n",
       "    .dataframe thead th {\n",
       "        text-align: right;\n",
       "    }\n",
       "</style>\n",
       "<table border=\"1\" class=\"dataframe\">\n",
       "  <thead>\n",
       "    <tr style=\"text-align: right;\">\n",
       "      <th></th>\n",
       "      <th>State</th>\n",
       "      <th>Account Length</th>\n",
       "      <th>Area Code</th>\n",
       "      <th>Phone</th>\n",
       "      <th>Int'l Plan</th>\n",
       "      <th>VMail Plan</th>\n",
       "      <th>VMail Message</th>\n",
       "      <th>Day Mins</th>\n",
       "      <th>Day Calls</th>\n",
       "      <th>Day Charge</th>\n",
       "      <th>...</th>\n",
       "      <th>Eve Calls</th>\n",
       "      <th>Eve Charge</th>\n",
       "      <th>Night Mins</th>\n",
       "      <th>Night Calls</th>\n",
       "      <th>Night Charge</th>\n",
       "      <th>Intl Mins</th>\n",
       "      <th>Intl Calls</th>\n",
       "      <th>Intl Charge</th>\n",
       "      <th>CustServ Calls</th>\n",
       "      <th>Churn?</th>\n",
       "    </tr>\n",
       "  </thead>\n",
       "  <tbody>\n",
       "    <tr>\n",
       "      <th>0</th>\n",
       "      <td>KS</td>\n",
       "      <td>128</td>\n",
       "      <td>415</td>\n",
       "      <td>382-4657</td>\n",
       "      <td>no</td>\n",
       "      <td>yes</td>\n",
       "      <td>25</td>\n",
       "      <td>265.1</td>\n",
       "      <td>110</td>\n",
       "      <td>45.07</td>\n",
       "      <td>...</td>\n",
       "      <td>99</td>\n",
       "      <td>16.78</td>\n",
       "      <td>244.7</td>\n",
       "      <td>91</td>\n",
       "      <td>11.01</td>\n",
       "      <td>10.0</td>\n",
       "      <td>3</td>\n",
       "      <td>2.70</td>\n",
       "      <td>1</td>\n",
       "      <td>False.</td>\n",
       "    </tr>\n",
       "    <tr>\n",
       "      <th>1</th>\n",
       "      <td>OH</td>\n",
       "      <td>107</td>\n",
       "      <td>415</td>\n",
       "      <td>371-7191</td>\n",
       "      <td>no</td>\n",
       "      <td>yes</td>\n",
       "      <td>26</td>\n",
       "      <td>161.6</td>\n",
       "      <td>123</td>\n",
       "      <td>27.47</td>\n",
       "      <td>...</td>\n",
       "      <td>103</td>\n",
       "      <td>16.62</td>\n",
       "      <td>254.4</td>\n",
       "      <td>103</td>\n",
       "      <td>11.45</td>\n",
       "      <td>13.7</td>\n",
       "      <td>3</td>\n",
       "      <td>3.70</td>\n",
       "      <td>1</td>\n",
       "      <td>False.</td>\n",
       "    </tr>\n",
       "    <tr>\n",
       "      <th>2</th>\n",
       "      <td>NJ</td>\n",
       "      <td>137</td>\n",
       "      <td>415</td>\n",
       "      <td>358-1921</td>\n",
       "      <td>no</td>\n",
       "      <td>no</td>\n",
       "      <td>0</td>\n",
       "      <td>243.4</td>\n",
       "      <td>114</td>\n",
       "      <td>41.38</td>\n",
       "      <td>...</td>\n",
       "      <td>110</td>\n",
       "      <td>10.30</td>\n",
       "      <td>162.6</td>\n",
       "      <td>104</td>\n",
       "      <td>7.32</td>\n",
       "      <td>12.2</td>\n",
       "      <td>5</td>\n",
       "      <td>3.29</td>\n",
       "      <td>0</td>\n",
       "      <td>False.</td>\n",
       "    </tr>\n",
       "    <tr>\n",
       "      <th>3</th>\n",
       "      <td>OH</td>\n",
       "      <td>84</td>\n",
       "      <td>408</td>\n",
       "      <td>375-9999</td>\n",
       "      <td>yes</td>\n",
       "      <td>no</td>\n",
       "      <td>0</td>\n",
       "      <td>299.4</td>\n",
       "      <td>71</td>\n",
       "      <td>50.90</td>\n",
       "      <td>...</td>\n",
       "      <td>88</td>\n",
       "      <td>5.26</td>\n",
       "      <td>196.9</td>\n",
       "      <td>89</td>\n",
       "      <td>8.86</td>\n",
       "      <td>6.6</td>\n",
       "      <td>7</td>\n",
       "      <td>1.78</td>\n",
       "      <td>2</td>\n",
       "      <td>False.</td>\n",
       "    </tr>\n",
       "    <tr>\n",
       "      <th>4</th>\n",
       "      <td>OK</td>\n",
       "      <td>75</td>\n",
       "      <td>415</td>\n",
       "      <td>330-6626</td>\n",
       "      <td>yes</td>\n",
       "      <td>no</td>\n",
       "      <td>0</td>\n",
       "      <td>166.7</td>\n",
       "      <td>113</td>\n",
       "      <td>28.34</td>\n",
       "      <td>...</td>\n",
       "      <td>122</td>\n",
       "      <td>12.61</td>\n",
       "      <td>186.9</td>\n",
       "      <td>121</td>\n",
       "      <td>8.41</td>\n",
       "      <td>10.1</td>\n",
       "      <td>3</td>\n",
       "      <td>2.73</td>\n",
       "      <td>3</td>\n",
       "      <td>False.</td>\n",
       "    </tr>\n",
       "  </tbody>\n",
       "</table>\n",
       "<p>5 rows × 21 columns</p>\n",
       "</div>"
      ],
      "text/plain": [
       "  State  Account Length  Area Code     Phone Int'l Plan VMail Plan  \\\n",
       "0    KS             128        415  382-4657         no        yes   \n",
       "1    OH             107        415  371-7191         no        yes   \n",
       "2    NJ             137        415  358-1921         no         no   \n",
       "3    OH              84        408  375-9999        yes         no   \n",
       "4    OK              75        415  330-6626        yes         no   \n",
       "\n",
       "   VMail Message  Day Mins  Day Calls  Day Charge  ...  Eve Calls  Eve Charge  \\\n",
       "0             25     265.1        110       45.07  ...         99       16.78   \n",
       "1             26     161.6        123       27.47  ...        103       16.62   \n",
       "2              0     243.4        114       41.38  ...        110       10.30   \n",
       "3              0     299.4         71       50.90  ...         88        5.26   \n",
       "4              0     166.7        113       28.34  ...        122       12.61   \n",
       "\n",
       "   Night Mins  Night Calls  Night Charge  Intl Mins  Intl Calls  Intl Charge  \\\n",
       "0       244.7           91         11.01       10.0           3         2.70   \n",
       "1       254.4          103         11.45       13.7           3         3.70   \n",
       "2       162.6          104          7.32       12.2           5         3.29   \n",
       "3       196.9           89          8.86        6.6           7         1.78   \n",
       "4       186.9          121          8.41       10.1           3         2.73   \n",
       "\n",
       "   CustServ Calls  Churn?  \n",
       "0               1  False.  \n",
       "1               1  False.  \n",
       "2               0  False.  \n",
       "3               2  False.  \n",
       "4               3  False.  \n",
       "\n",
       "[5 rows x 21 columns]"
      ]
     },
     "execution_count": 60,
     "metadata": {},
     "output_type": "execute_result"
    }
   ],
   "source": [
    "data.head()"
   ]
  },
  {
   "cell_type": "code",
   "execution_count": 61,
   "metadata": {
    "colab": {},
    "colab_type": "code",
    "id": "qa0z_ZJ6AkSp"
   },
   "outputs": [],
   "source": [
    "import sklearn"
   ]
  },
  {
   "cell_type": "code",
   "execution_count": 62,
   "metadata": {
    "colab": {},
    "colab_type": "code",
    "id": "yBX-tSSCAkSq"
   },
   "outputs": [],
   "source": [
    "data = sklearn.utils.shuffle(data)"
   ]
  },
  {
   "cell_type": "code",
   "execution_count": 63,
   "metadata": {
    "colab": {},
    "colab_type": "code",
    "id": "lkwfCbmSAkSr"
   },
   "outputs": [],
   "source": [
    "cut_id = int(0.75*len(data))\n",
    "train_data = data[:cut_id]\n",
    "test_data = data[cut_id+1:]"
   ]
  },
  {
   "cell_type": "code",
   "execution_count": 64,
   "metadata": {
    "colab": {
     "base_uri": "https://localhost:8080/",
     "height": 34
    },
    "colab_type": "code",
    "id": "NuJVmGovAkSr",
    "outputId": "6fb2bfaf-e9c0-4de0-a154-f135f4823089"
   },
   "outputs": [
    {
     "data": {
      "text/plain": [
       "2499"
      ]
     },
     "execution_count": 64,
     "metadata": {},
     "output_type": "execute_result"
    }
   ],
   "source": [
    "len(train_data)"
   ]
  },
  {
   "cell_type": "code",
   "execution_count": 65,
   "metadata": {
    "colab": {
     "base_uri": "https://localhost:8080/",
     "height": 34
    },
    "colab_type": "code",
    "id": "ztoaBbOeAkSs",
    "outputId": "b3c609f2-fedc-4670-add3-51ca09418772"
   },
   "outputs": [
    {
     "data": {
      "text/plain": [
       "833"
      ]
     },
     "execution_count": 65,
     "metadata": {},
     "output_type": "execute_result"
    }
   ],
   "source": [
    "len(test_data)"
   ]
  },
  {
   "cell_type": "code",
   "execution_count": 0,
   "metadata": {
    "colab": {},
    "colab_type": "code",
    "id": "wgEx951WBsB-"
   },
   "outputs": [],
   "source": []
  }
 ],
 "metadata": {
  "colab": {
   "include_colab_link": true,
   "name": "T2 - 3 - Data Cleaning - Agrupación de datos.ipynb",
   "provenance": []
  },
  "kernelspec": {
   "display_name": "Python 3",
   "language": "python",
   "name": "python3"
  },
  "language_info": {
   "codemirror_mode": {
    "name": "ipython",
    "version": 3
   },
   "file_extension": ".py",
   "mimetype": "text/x-python",
   "name": "python",
   "nbconvert_exporter": "python",
   "pygments_lexer": "ipython3",
   "version": "3.7.7"
  }
 },
 "nbformat": 4,
 "nbformat_minor": 1
}
