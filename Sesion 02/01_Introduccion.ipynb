{
 "cells": [
  {
   "cell_type": "markdown",
   "metadata": {},
   "source": [
    "# Introdución"
   ]
  },
  {
   "cell_type": "markdown",
   "metadata": {},
   "source": [
    "# ¿Qué es data wrangling?"
   ]
  },
  {
   "cell_type": "markdown",
   "metadata": {},
   "source": [
    "\n",
    "Data wrangling consiste en un conjunto de técnicas que se aplican sobre los en datos en crudo, normalmente con información incompleta, datos mal formateados, etc...con el fin de prepararlos para un posterior análisis mediante algún algoritmo, crear una visualización de los mismos o inyectarlos en otro proceso."
   ]
  },
  {
   "cell_type": "markdown",
   "metadata": {},
   "source": [
    "---\n",
    "\n",
    "## Operaciones en data wrangling\n",
    "\n",
    "Entre las operaciones más habituales en la etapa de data wrangling tenemos:\n",
    "\n",
    "- Tratamiento de valores nulos.\n",
    "\n",
    "- Formateo de valores numéricos, strings.\n",
    "\n",
    "- Adición/eliminación de nuevas variables.\n",
    "\n",
    "- Tramiento de registros duplicados.\n",
    "\n",
    "- Unión con otras fuentes de datos.\n",
    "\n",
    "- Agrupación de datos\n",
    "\n",
    "- Indexación y sorting.\n",
    "\n",
    "\n",
    "En Python este proceso se realiza principalmente gracias a la libreria `Pandas`, con multitud de métodos optimizados para estas transformaciones.\n"
   ]
  }
 ],
 "metadata": {
  "anaconda-cloud": {},
  "kernelspec": {
   "display_name": "Python 3",
   "language": "python",
   "name": "python3"
  },
  "language_info": {
   "codemirror_mode": {
    "name": "ipython",
    "version": 3
   },
   "file_extension": ".py",
   "mimetype": "text/x-python",
   "name": "python",
   "nbconvert_exporter": "python",
   "pygments_lexer": "ipython3",
   "version": "3.6.7"
  },
  "toc": {
   "base_numbering": 1,
   "nav_menu": {
    "height": "386px",
    "width": "306px"
   },
   "number_sections": false,
   "sideBar": true,
   "skip_h1_title": false,
   "title_cell": "Table of Contents",
   "title_sidebar": "Contents",
   "toc_cell": false,
   "toc_position": {
    "height": "calc(100% - 180px)",
    "left": "10px",
    "top": "150px",
    "width": "337px"
   },
   "toc_section_display": true,
   "toc_window_display": true
  },
  "varInspector": {
   "cols": {
    "lenName": 16,
    "lenType": 16,
    "lenVar": 40
   },
   "kernels_config": {
    "python": {
     "delete_cmd_postfix": "",
     "delete_cmd_prefix": "del ",
     "library": "var_list.py",
     "varRefreshCmd": "print(var_dic_list())"
    },
    "r": {
     "delete_cmd_postfix": ") ",
     "delete_cmd_prefix": "rm(",
     "library": "var_list.r",
     "varRefreshCmd": "cat(var_dic_list()) "
    }
   },
   "types_to_exclude": [
    "module",
    "function",
    "builtin_function_or_method",
    "instance",
    "_Feature"
   ],
   "window_display": false
  }
 },
 "nbformat": 4,
 "nbformat_minor": 2
}
